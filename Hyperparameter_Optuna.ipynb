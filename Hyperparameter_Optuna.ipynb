{
  "nbformat": 4,
  "nbformat_minor": 0,
  "metadata": {
    "colab": {
      "provenance": [],
      "authorship_tag": "ABX9TyOILNnsWx6R+lcr807Xoh1Q",
      "include_colab_link": true
    },
    "kernelspec": {
      "name": "python3",
      "display_name": "Python 3"
    },
    "language_info": {
      "name": "python"
    }
  },
  "cells": [
    {
      "cell_type": "markdown",
      "metadata": {
        "id": "view-in-github",
        "colab_type": "text"
      },
      "source": [
        "<a href=\"https://colab.research.google.com/github/AndyFreeeeman/Model_Predict/blob/main/Hyperparameter_Optuna.ipynb\" target=\"_parent\"><img src=\"https://colab.research.google.com/assets/colab-badge.svg\" alt=\"Open In Colab\"/></a>"
      ]
    },
    {
      "cell_type": "code",
      "execution_count": null,
      "metadata": {
        "id": "p7OZY4P_MPgR"
      },
      "outputs": [],
      "source": [
        "pip install optuna"
      ]
    },
    {
      "cell_type": "code",
      "source": [
        "import pandas as pd\n",
        "import numpy as np\n",
        "import matplotlib.pyplot as plt\n",
        "import seaborn as sns\n",
        "np.set_printoptions(suppress=True)"
      ],
      "metadata": {
        "id": "OBEQJ-piMh2J"
      },
      "execution_count": 2,
      "outputs": []
    },
    {
      "cell_type": "code",
      "source": [
        "# import dataset\n",
        "\n",
        "from sklearn.datasets import load_wine\n",
        "\n",
        "wine = load_wine()\n",
        "# 輸入特徵\n",
        "X = wine.data\n",
        "x = wine.data\n",
        "# 輸出特徵\n",
        "y = wine.target\n",
        "\n",
        "print(X)\n",
        "print(y)"
      ],
      "metadata": {
        "colab": {
          "base_uri": "https://localhost:8080/"
        },
        "id": "CqE_-TCsM_eo",
        "outputId": "4fbe65a2-b95a-4bac-e0b0-32e6a08de259"
      },
      "execution_count": 3,
      "outputs": [
        {
          "output_type": "stream",
          "name": "stdout",
          "text": [
            "[[  14.23    1.71    2.43 ...    1.04    3.92 1065.  ]\n",
            " [  13.2     1.78    2.14 ...    1.05    3.4  1050.  ]\n",
            " [  13.16    2.36    2.67 ...    1.03    3.17 1185.  ]\n",
            " ...\n",
            " [  13.27    4.28    2.26 ...    0.59    1.56  835.  ]\n",
            " [  13.17    2.59    2.37 ...    0.6     1.62  840.  ]\n",
            " [  14.13    4.1     2.74 ...    0.61    1.6   560.  ]]\n",
            "[0 0 0 0 0 0 0 0 0 0 0 0 0 0 0 0 0 0 0 0 0 0 0 0 0 0 0 0 0 0 0 0 0 0 0 0 0\n",
            " 0 0 0 0 0 0 0 0 0 0 0 0 0 0 0 0 0 0 0 0 0 0 1 1 1 1 1 1 1 1 1 1 1 1 1 1 1\n",
            " 1 1 1 1 1 1 1 1 1 1 1 1 1 1 1 1 1 1 1 1 1 1 1 1 1 1 1 1 1 1 1 1 1 1 1 1 1\n",
            " 1 1 1 1 1 1 1 1 1 1 1 1 1 1 1 1 1 1 1 2 2 2 2 2 2 2 2 2 2 2 2 2 2 2 2 2 2\n",
            " 2 2 2 2 2 2 2 2 2 2 2 2 2 2 2 2 2 2 2 2 2 2 2 2 2 2 2 2 2 2]\n"
          ]
        }
      ]
    },
    {
      "cell_type": "code",
      "source": [
        "# 輸入資料\n",
        "\n",
        "wine = load_wine()\n",
        "df_data = pd.DataFrame(data= np.c_[wine['data'], wine['target']],\n",
        "                     columns= ['alcohol','malic_acid','ash','alcalinity_of_ash','magnesium','total_phenols','flavanoids','nonflavanoid_phenols','proanthocyanins','color_intensity','hue','od280/od315_of_diluted_wines','proline','class'])\n",
        "df_data"
      ],
      "metadata": {
        "colab": {
          "base_uri": "https://localhost:8080/",
          "height": 488
        },
        "id": "0n9NNYEQNBW6",
        "outputId": "f3ac8a68-e30c-4a71-e3e6-34293e43d92a"
      },
      "execution_count": 4,
      "outputs": [
        {
          "output_type": "execute_result",
          "data": {
            "text/plain": [
              "     alcohol  malic_acid   ash  alcalinity_of_ash  magnesium  total_phenols  \\\n",
              "0      14.23        1.71  2.43               15.6      127.0           2.80   \n",
              "1      13.20        1.78  2.14               11.2      100.0           2.65   \n",
              "2      13.16        2.36  2.67               18.6      101.0           2.80   \n",
              "3      14.37        1.95  2.50               16.8      113.0           3.85   \n",
              "4      13.24        2.59  2.87               21.0      118.0           2.80   \n",
              "..       ...         ...   ...                ...        ...            ...   \n",
              "173    13.71        5.65  2.45               20.5       95.0           1.68   \n",
              "174    13.40        3.91  2.48               23.0      102.0           1.80   \n",
              "175    13.27        4.28  2.26               20.0      120.0           1.59   \n",
              "176    13.17        2.59  2.37               20.0      120.0           1.65   \n",
              "177    14.13        4.10  2.74               24.5       96.0           2.05   \n",
              "\n",
              "     flavanoids  nonflavanoid_phenols  proanthocyanins  color_intensity   hue  \\\n",
              "0          3.06                  0.28             2.29             5.64  1.04   \n",
              "1          2.76                  0.26             1.28             4.38  1.05   \n",
              "2          3.24                  0.30             2.81             5.68  1.03   \n",
              "3          3.49                  0.24             2.18             7.80  0.86   \n",
              "4          2.69                  0.39             1.82             4.32  1.04   \n",
              "..          ...                   ...              ...              ...   ...   \n",
              "173        0.61                  0.52             1.06             7.70  0.64   \n",
              "174        0.75                  0.43             1.41             7.30  0.70   \n",
              "175        0.69                  0.43             1.35            10.20  0.59   \n",
              "176        0.68                  0.53             1.46             9.30  0.60   \n",
              "177        0.76                  0.56             1.35             9.20  0.61   \n",
              "\n",
              "     od280/od315_of_diluted_wines  proline  class  \n",
              "0                            3.92   1065.0    0.0  \n",
              "1                            3.40   1050.0    0.0  \n",
              "2                            3.17   1185.0    0.0  \n",
              "3                            3.45   1480.0    0.0  \n",
              "4                            2.93    735.0    0.0  \n",
              "..                            ...      ...    ...  \n",
              "173                          1.74    740.0    2.0  \n",
              "174                          1.56    750.0    2.0  \n",
              "175                          1.56    835.0    2.0  \n",
              "176                          1.62    840.0    2.0  \n",
              "177                          1.60    560.0    2.0  \n",
              "\n",
              "[178 rows x 14 columns]"
            ],
            "text/html": [
              "\n",
              "  <div id=\"df-38ef8585-870f-4e96-a616-7c477a248010\">\n",
              "    <div class=\"colab-df-container\">\n",
              "      <div>\n",
              "<style scoped>\n",
              "    .dataframe tbody tr th:only-of-type {\n",
              "        vertical-align: middle;\n",
              "    }\n",
              "\n",
              "    .dataframe tbody tr th {\n",
              "        vertical-align: top;\n",
              "    }\n",
              "\n",
              "    .dataframe thead th {\n",
              "        text-align: right;\n",
              "    }\n",
              "</style>\n",
              "<table border=\"1\" class=\"dataframe\">\n",
              "  <thead>\n",
              "    <tr style=\"text-align: right;\">\n",
              "      <th></th>\n",
              "      <th>alcohol</th>\n",
              "      <th>malic_acid</th>\n",
              "      <th>ash</th>\n",
              "      <th>alcalinity_of_ash</th>\n",
              "      <th>magnesium</th>\n",
              "      <th>total_phenols</th>\n",
              "      <th>flavanoids</th>\n",
              "      <th>nonflavanoid_phenols</th>\n",
              "      <th>proanthocyanins</th>\n",
              "      <th>color_intensity</th>\n",
              "      <th>hue</th>\n",
              "      <th>od280/od315_of_diluted_wines</th>\n",
              "      <th>proline</th>\n",
              "      <th>class</th>\n",
              "    </tr>\n",
              "  </thead>\n",
              "  <tbody>\n",
              "    <tr>\n",
              "      <th>0</th>\n",
              "      <td>14.23</td>\n",
              "      <td>1.71</td>\n",
              "      <td>2.43</td>\n",
              "      <td>15.6</td>\n",
              "      <td>127.0</td>\n",
              "      <td>2.80</td>\n",
              "      <td>3.06</td>\n",
              "      <td>0.28</td>\n",
              "      <td>2.29</td>\n",
              "      <td>5.64</td>\n",
              "      <td>1.04</td>\n",
              "      <td>3.92</td>\n",
              "      <td>1065.0</td>\n",
              "      <td>0.0</td>\n",
              "    </tr>\n",
              "    <tr>\n",
              "      <th>1</th>\n",
              "      <td>13.20</td>\n",
              "      <td>1.78</td>\n",
              "      <td>2.14</td>\n",
              "      <td>11.2</td>\n",
              "      <td>100.0</td>\n",
              "      <td>2.65</td>\n",
              "      <td>2.76</td>\n",
              "      <td>0.26</td>\n",
              "      <td>1.28</td>\n",
              "      <td>4.38</td>\n",
              "      <td>1.05</td>\n",
              "      <td>3.40</td>\n",
              "      <td>1050.0</td>\n",
              "      <td>0.0</td>\n",
              "    </tr>\n",
              "    <tr>\n",
              "      <th>2</th>\n",
              "      <td>13.16</td>\n",
              "      <td>2.36</td>\n",
              "      <td>2.67</td>\n",
              "      <td>18.6</td>\n",
              "      <td>101.0</td>\n",
              "      <td>2.80</td>\n",
              "      <td>3.24</td>\n",
              "      <td>0.30</td>\n",
              "      <td>2.81</td>\n",
              "      <td>5.68</td>\n",
              "      <td>1.03</td>\n",
              "      <td>3.17</td>\n",
              "      <td>1185.0</td>\n",
              "      <td>0.0</td>\n",
              "    </tr>\n",
              "    <tr>\n",
              "      <th>3</th>\n",
              "      <td>14.37</td>\n",
              "      <td>1.95</td>\n",
              "      <td>2.50</td>\n",
              "      <td>16.8</td>\n",
              "      <td>113.0</td>\n",
              "      <td>3.85</td>\n",
              "      <td>3.49</td>\n",
              "      <td>0.24</td>\n",
              "      <td>2.18</td>\n",
              "      <td>7.80</td>\n",
              "      <td>0.86</td>\n",
              "      <td>3.45</td>\n",
              "      <td>1480.0</td>\n",
              "      <td>0.0</td>\n",
              "    </tr>\n",
              "    <tr>\n",
              "      <th>4</th>\n",
              "      <td>13.24</td>\n",
              "      <td>2.59</td>\n",
              "      <td>2.87</td>\n",
              "      <td>21.0</td>\n",
              "      <td>118.0</td>\n",
              "      <td>2.80</td>\n",
              "      <td>2.69</td>\n",
              "      <td>0.39</td>\n",
              "      <td>1.82</td>\n",
              "      <td>4.32</td>\n",
              "      <td>1.04</td>\n",
              "      <td>2.93</td>\n",
              "      <td>735.0</td>\n",
              "      <td>0.0</td>\n",
              "    </tr>\n",
              "    <tr>\n",
              "      <th>...</th>\n",
              "      <td>...</td>\n",
              "      <td>...</td>\n",
              "      <td>...</td>\n",
              "      <td>...</td>\n",
              "      <td>...</td>\n",
              "      <td>...</td>\n",
              "      <td>...</td>\n",
              "      <td>...</td>\n",
              "      <td>...</td>\n",
              "      <td>...</td>\n",
              "      <td>...</td>\n",
              "      <td>...</td>\n",
              "      <td>...</td>\n",
              "      <td>...</td>\n",
              "    </tr>\n",
              "    <tr>\n",
              "      <th>173</th>\n",
              "      <td>13.71</td>\n",
              "      <td>5.65</td>\n",
              "      <td>2.45</td>\n",
              "      <td>20.5</td>\n",
              "      <td>95.0</td>\n",
              "      <td>1.68</td>\n",
              "      <td>0.61</td>\n",
              "      <td>0.52</td>\n",
              "      <td>1.06</td>\n",
              "      <td>7.70</td>\n",
              "      <td>0.64</td>\n",
              "      <td>1.74</td>\n",
              "      <td>740.0</td>\n",
              "      <td>2.0</td>\n",
              "    </tr>\n",
              "    <tr>\n",
              "      <th>174</th>\n",
              "      <td>13.40</td>\n",
              "      <td>3.91</td>\n",
              "      <td>2.48</td>\n",
              "      <td>23.0</td>\n",
              "      <td>102.0</td>\n",
              "      <td>1.80</td>\n",
              "      <td>0.75</td>\n",
              "      <td>0.43</td>\n",
              "      <td>1.41</td>\n",
              "      <td>7.30</td>\n",
              "      <td>0.70</td>\n",
              "      <td>1.56</td>\n",
              "      <td>750.0</td>\n",
              "      <td>2.0</td>\n",
              "    </tr>\n",
              "    <tr>\n",
              "      <th>175</th>\n",
              "      <td>13.27</td>\n",
              "      <td>4.28</td>\n",
              "      <td>2.26</td>\n",
              "      <td>20.0</td>\n",
              "      <td>120.0</td>\n",
              "      <td>1.59</td>\n",
              "      <td>0.69</td>\n",
              "      <td>0.43</td>\n",
              "      <td>1.35</td>\n",
              "      <td>10.20</td>\n",
              "      <td>0.59</td>\n",
              "      <td>1.56</td>\n",
              "      <td>835.0</td>\n",
              "      <td>2.0</td>\n",
              "    </tr>\n",
              "    <tr>\n",
              "      <th>176</th>\n",
              "      <td>13.17</td>\n",
              "      <td>2.59</td>\n",
              "      <td>2.37</td>\n",
              "      <td>20.0</td>\n",
              "      <td>120.0</td>\n",
              "      <td>1.65</td>\n",
              "      <td>0.68</td>\n",
              "      <td>0.53</td>\n",
              "      <td>1.46</td>\n",
              "      <td>9.30</td>\n",
              "      <td>0.60</td>\n",
              "      <td>1.62</td>\n",
              "      <td>840.0</td>\n",
              "      <td>2.0</td>\n",
              "    </tr>\n",
              "    <tr>\n",
              "      <th>177</th>\n",
              "      <td>14.13</td>\n",
              "      <td>4.10</td>\n",
              "      <td>2.74</td>\n",
              "      <td>24.5</td>\n",
              "      <td>96.0</td>\n",
              "      <td>2.05</td>\n",
              "      <td>0.76</td>\n",
              "      <td>0.56</td>\n",
              "      <td>1.35</td>\n",
              "      <td>9.20</td>\n",
              "      <td>0.61</td>\n",
              "      <td>1.60</td>\n",
              "      <td>560.0</td>\n",
              "      <td>2.0</td>\n",
              "    </tr>\n",
              "  </tbody>\n",
              "</table>\n",
              "<p>178 rows × 14 columns</p>\n",
              "</div>\n",
              "      <button class=\"colab-df-convert\" onclick=\"convertToInteractive('df-38ef8585-870f-4e96-a616-7c477a248010')\"\n",
              "              title=\"Convert this dataframe to an interactive table.\"\n",
              "              style=\"display:none;\">\n",
              "        \n",
              "  <svg xmlns=\"http://www.w3.org/2000/svg\" height=\"24px\"viewBox=\"0 0 24 24\"\n",
              "       width=\"24px\">\n",
              "    <path d=\"M0 0h24v24H0V0z\" fill=\"none\"/>\n",
              "    <path d=\"M18.56 5.44l.94 2.06.94-2.06 2.06-.94-2.06-.94-.94-2.06-.94 2.06-2.06.94zm-11 1L8.5 8.5l.94-2.06 2.06-.94-2.06-.94L8.5 2.5l-.94 2.06-2.06.94zm10 10l.94 2.06.94-2.06 2.06-.94-2.06-.94-.94-2.06-.94 2.06-2.06.94z\"/><path d=\"M17.41 7.96l-1.37-1.37c-.4-.4-.92-.59-1.43-.59-.52 0-1.04.2-1.43.59L10.3 9.45l-7.72 7.72c-.78.78-.78 2.05 0 2.83L4 21.41c.39.39.9.59 1.41.59.51 0 1.02-.2 1.41-.59l7.78-7.78 2.81-2.81c.8-.78.8-2.07 0-2.86zM5.41 20L4 18.59l7.72-7.72 1.47 1.35L5.41 20z\"/>\n",
              "  </svg>\n",
              "      </button>\n",
              "      \n",
              "  <style>\n",
              "    .colab-df-container {\n",
              "      display:flex;\n",
              "      flex-wrap:wrap;\n",
              "      gap: 12px;\n",
              "    }\n",
              "\n",
              "    .colab-df-convert {\n",
              "      background-color: #E8F0FE;\n",
              "      border: none;\n",
              "      border-radius: 50%;\n",
              "      cursor: pointer;\n",
              "      display: none;\n",
              "      fill: #1967D2;\n",
              "      height: 32px;\n",
              "      padding: 0 0 0 0;\n",
              "      width: 32px;\n",
              "    }\n",
              "\n",
              "    .colab-df-convert:hover {\n",
              "      background-color: #E2EBFA;\n",
              "      box-shadow: 0px 1px 2px rgba(60, 64, 67, 0.3), 0px 1px 3px 1px rgba(60, 64, 67, 0.15);\n",
              "      fill: #174EA6;\n",
              "    }\n",
              "\n",
              "    [theme=dark] .colab-df-convert {\n",
              "      background-color: #3B4455;\n",
              "      fill: #D2E3FC;\n",
              "    }\n",
              "\n",
              "    [theme=dark] .colab-df-convert:hover {\n",
              "      background-color: #434B5C;\n",
              "      box-shadow: 0px 1px 3px 1px rgba(0, 0, 0, 0.15);\n",
              "      filter: drop-shadow(0px 1px 2px rgba(0, 0, 0, 0.3));\n",
              "      fill: #FFFFFF;\n",
              "    }\n",
              "  </style>\n",
              "\n",
              "      <script>\n",
              "        const buttonEl =\n",
              "          document.querySelector('#df-38ef8585-870f-4e96-a616-7c477a248010 button.colab-df-convert');\n",
              "        buttonEl.style.display =\n",
              "          google.colab.kernel.accessAllowed ? 'block' : 'none';\n",
              "\n",
              "        async function convertToInteractive(key) {\n",
              "          const element = document.querySelector('#df-38ef8585-870f-4e96-a616-7c477a248010');\n",
              "          const dataTable =\n",
              "            await google.colab.kernel.invokeFunction('convertToInteractive',\n",
              "                                                     [key], {});\n",
              "          if (!dataTable) return;\n",
              "\n",
              "          const docLinkHtml = 'Like what you see? Visit the ' +\n",
              "            '<a target=\"_blank\" href=https://colab.research.google.com/notebooks/data_table.ipynb>data table notebook</a>'\n",
              "            + ' to learn more about interactive tables.';\n",
              "          element.innerHTML = '';\n",
              "          dataTable['output_type'] = 'display_data';\n",
              "          await google.colab.output.renderOutput(dataTable, element);\n",
              "          const docLink = document.createElement('div');\n",
              "          docLink.innerHTML = docLinkHtml;\n",
              "          element.appendChild(docLink);\n",
              "        }\n",
              "      </script>\n",
              "    </div>\n",
              "  </div>\n",
              "  "
            ]
          },
          "metadata": {},
          "execution_count": 4
        }
      ]
    },
    {
      "cell_type": "code",
      "source": [
        "# 切割訓練集與測試集\n",
        "\n",
        "from sklearn.model_selection import train_test_split\n",
        "\n",
        "X_train, X_test, y_train, y_test = train_test_split(X, y, test_size=0.3, random_state=42, stratify=y)\n",
        "\n",
        "print('train shape:', X_train.shape)\n",
        "print('test shape:', X_test.shape)"
      ],
      "metadata": {
        "colab": {
          "base_uri": "https://localhost:8080/"
        },
        "id": "Mvrhl-JNNE1t",
        "outputId": "1ee19aa1-637a-4401-a354-55442c9de3cd"
      },
      "execution_count": 5,
      "outputs": [
        {
          "output_type": "stream",
          "name": "stdout",
          "text": [
            "train shape: (124, 13)\n",
            "test shape: (54, 13)\n"
          ]
        }
      ]
    },
    {
      "cell_type": "code",
      "source": [
        "import optuna\n",
        "import xgboost as xgb\n",
        "from sklearn.metrics import mean_squared_error\n",
        "from sklearn.model_selection import train_test_split\n",
        "\n",
        "def objective(trial, X=X, y=y):\n",
        "    \"\"\"\n",
        "    A function to train a model using different hyperparamerters combinations provided by Optuna.\n",
        "    \"\"\"\n",
        "    X_train, X_valid, y_train, y_valid = train_test_split(X, y, test_size=0.4)\n",
        "\n",
        "    params = {\n",
        "        'max_depth': trial.suggest_int('max_depth', 6, 15),\n",
        "        \"subsample\": trial.suggest_float(\"subsample\", 0.2, 1.0),\n",
        "        'n_estimators': trial.suggest_int('n_estimators', 500, 2000, 100),\n",
        "        'eta': trial.suggest_float(\"eta\", 1e-8, 1.0, log=True),\n",
        "        'alpha': trial.suggest_float('alpha', 1e-8, 1.0, log=True),\n",
        "        'lambda': trial.suggest_float('lambda', 1e-8, 1.0, log=True),\n",
        "        'gamma': trial.suggest_float(\"gamma\", 1e-8, 1.0, log=True),\n",
        "        'min_child_weight': trial.suggest_int('min_child_weight', 2, 10),\n",
        "        'grow_policy': trial.suggest_categorical(\"grow_policy\", [\"depthwise\", \"lossguide\"]),\n",
        "        \"colsample_bytree\": trial.suggest_float(\"colsample_bytree\", 0.2, 1.0)\n",
        "    }\n",
        "\n",
        "    reg = xgb.XGBRegressor(**params)\n",
        "    reg.fit(X_train, y_train,\n",
        "            eval_set=[(X_valid, y_valid)], eval_metric='rmse',\n",
        "            verbose=False)\n",
        "    return mean_squared_error(y_valid, reg.predict(X_valid), squared=False)"
      ],
      "metadata": {
        "id": "048QzBgHNG9G"
      },
      "execution_count": 6,
      "outputs": []
    },
    {
      "cell_type": "code",
      "source": [
        "%%time\n",
        "# Creating Optuna object and defining its parameters\n",
        "study = optuna.create_study(direction='minimize')\n",
        "study.optimize(objective, n_trials = 200)\n",
        "\n",
        "# Showing optimization results\n",
        "print('Number of finished trials:', len(study.trials))\n",
        "print('Best trial parameters:', study.best_trial.params)\n",
        "print('Best score:', study.best_value)"
      ],
      "metadata": {
        "colab": {
          "base_uri": "https://localhost:8080/"
        },
        "id": "6WK-sq0-NPcr",
        "outputId": "04f8d505-4244-4b7f-c83d-81debd62275e"
      },
      "execution_count": 20,
      "outputs": [
        {
          "output_type": "stream",
          "name": "stderr",
          "text": [
            "\u001b[32m[I 2022-09-07 09:14:37,872]\u001b[0m A new study created in memory with name: no-name-5af21ef8-6914-483b-b6a1-44eb3cfbbfb4\u001b[0m\n"
          ]
        },
        {
          "output_type": "stream",
          "name": "stdout",
          "text": [
            "[09:14:37] WARNING: /workspace/src/objective/regression_obj.cu:152: reg:linear is now deprecated in favor of reg:squarederror.\n"
          ]
        },
        {
          "output_type": "stream",
          "name": "stderr",
          "text": [
            "\u001b[32m[I 2022-09-07 09:14:38,143]\u001b[0m Trial 0 finished with value: 0.22810602947650108 and parameters: {'max_depth': 11, 'subsample': 0.3398705756290469, 'n_estimators': 600, 'eta': 6.577521512236864e-05, 'alpha': 7.652928370594759e-06, 'lambda': 0.00045154489828277505, 'gamma': 0.001324652037757677, 'min_child_weight': 9, 'grow_policy': 'lossguide', 'colsample_bytree': 0.5132104384832601}. Best is trial 0 with value: 0.22810602947650108.\u001b[0m\n"
          ]
        },
        {
          "output_type": "stream",
          "name": "stdout",
          "text": [
            "[09:14:38] WARNING: /workspace/src/objective/regression_obj.cu:152: reg:linear is now deprecated in favor of reg:squarederror.\n"
          ]
        },
        {
          "output_type": "stream",
          "name": "stderr",
          "text": [
            "\u001b[32m[I 2022-09-07 09:14:38,996]\u001b[0m Trial 1 finished with value: 0.26848779337325074 and parameters: {'max_depth': 8, 'subsample': 0.9699641944937203, 'n_estimators': 1400, 'eta': 9.400130736421884e-08, 'alpha': 3.3280637328786923e-07, 'lambda': 0.0006812762333753705, 'gamma': 0.0001631049122385358, 'min_child_weight': 3, 'grow_policy': 'depthwise', 'colsample_bytree': 0.7794911018085842}. Best is trial 0 with value: 0.22810602947650108.\u001b[0m\n"
          ]
        },
        {
          "output_type": "stream",
          "name": "stdout",
          "text": [
            "[09:14:39] WARNING: /workspace/src/objective/regression_obj.cu:152: reg:linear is now deprecated in favor of reg:squarederror.\n"
          ]
        },
        {
          "output_type": "stream",
          "name": "stderr",
          "text": [
            "\u001b[32m[I 2022-09-07 09:14:39,512]\u001b[0m Trial 2 finished with value: 0.2122173426734199 and parameters: {'max_depth': 10, 'subsample': 0.6776882253993787, 'n_estimators': 1000, 'eta': 0.00020435081851605808, 'alpha': 0.0046058647282572075, 'lambda': 0.3301021121603304, 'gamma': 0.00049975858832869, 'min_child_weight': 7, 'grow_policy': 'lossguide', 'colsample_bytree': 0.694500127588006}. Best is trial 2 with value: 0.2122173426734199.\u001b[0m\n"
          ]
        },
        {
          "output_type": "stream",
          "name": "stdout",
          "text": [
            "[09:14:39] WARNING: /workspace/src/objective/regression_obj.cu:152: reg:linear is now deprecated in favor of reg:squarederror.\n"
          ]
        },
        {
          "output_type": "stream",
          "name": "stderr",
          "text": [
            "\u001b[32m[I 2022-09-07 09:14:39,778]\u001b[0m Trial 3 finished with value: 0.21235381489350816 and parameters: {'max_depth': 14, 'subsample': 0.35985422011654444, 'n_estimators': 500, 'eta': 4.060619302753887e-07, 'alpha': 2.694464437990891e-07, 'lambda': 0.03371175333580273, 'gamma': 0.05220422005130921, 'min_child_weight': 2, 'grow_policy': 'depthwise', 'colsample_bytree': 0.7208927093205431}. Best is trial 2 with value: 0.2122173426734199.\u001b[0m\n"
          ]
        },
        {
          "output_type": "stream",
          "name": "stdout",
          "text": [
            "[09:14:39] WARNING: /workspace/src/objective/regression_obj.cu:152: reg:linear is now deprecated in favor of reg:squarederror.\n"
          ]
        },
        {
          "output_type": "stream",
          "name": "stderr",
          "text": [
            "\u001b[32m[I 2022-09-07 09:14:40,743]\u001b[0m Trial 4 finished with value: 0.19710288565177145 and parameters: {'max_depth': 14, 'subsample': 0.995712236840377, 'n_estimators': 1700, 'eta': 0.0032475192445605454, 'alpha': 2.0978408376377514e-08, 'lambda': 0.011388676631938736, 'gamma': 0.010671405194160594, 'min_child_weight': 6, 'grow_policy': 'lossguide', 'colsample_bytree': 0.7651426407755473}. Best is trial 4 with value: 0.19710288565177145.\u001b[0m\n"
          ]
        },
        {
          "output_type": "stream",
          "name": "stdout",
          "text": [
            "[09:14:40] WARNING: /workspace/src/objective/regression_obj.cu:152: reg:linear is now deprecated in favor of reg:squarederror.\n"
          ]
        },
        {
          "output_type": "stream",
          "name": "stderr",
          "text": [
            "\u001b[32m[I 2022-09-07 09:14:41,483]\u001b[0m Trial 5 finished with value: 0.27059803936255633 and parameters: {'max_depth': 15, 'subsample': 0.694010414061583, 'n_estimators': 1700, 'eta': 7.011155634654873e-07, 'alpha': 0.00039296966181921153, 'lambda': 0.033070905878326874, 'gamma': 0.7806957937912037, 'min_child_weight': 9, 'grow_policy': 'depthwise', 'colsample_bytree': 0.2379135954451396}. Best is trial 4 with value: 0.19710288565177145.\u001b[0m\n"
          ]
        },
        {
          "output_type": "stream",
          "name": "stdout",
          "text": [
            "[09:14:41] WARNING: /workspace/src/objective/regression_obj.cu:152: reg:linear is now deprecated in favor of reg:squarederror.\n"
          ]
        },
        {
          "output_type": "stream",
          "name": "stderr",
          "text": [
            "\u001b[32m[I 2022-09-07 09:14:42,310]\u001b[0m Trial 6 finished with value: 0.19600695564047008 and parameters: {'max_depth': 13, 'subsample': 0.37813596374177205, 'n_estimators': 1600, 'eta': 0.0015432720862303647, 'alpha': 0.0005478731555216064, 'lambda': 4.831479023126786e-06, 'gamma': 4.418599283108485e-05, 'min_child_weight': 2, 'grow_policy': 'depthwise', 'colsample_bytree': 0.6308205347515949}. Best is trial 6 with value: 0.19600695564047008.\u001b[0m\n"
          ]
        },
        {
          "output_type": "stream",
          "name": "stdout",
          "text": [
            "[09:14:42] WARNING: /workspace/src/objective/regression_obj.cu:152: reg:linear is now deprecated in favor of reg:squarederror.\n"
          ]
        },
        {
          "output_type": "stream",
          "name": "stderr",
          "text": [
            "\u001b[32m[I 2022-09-07 09:14:42,698]\u001b[0m Trial 7 finished with value: 0.28465936695171123 and parameters: {'max_depth': 13, 'subsample': 0.5506240063267206, 'n_estimators': 800, 'eta': 0.00017093486249740488, 'alpha': 5.988906609545312e-05, 'lambda': 0.3270765662873112, 'gamma': 0.11802910195028471, 'min_child_weight': 6, 'grow_policy': 'lossguide', 'colsample_bytree': 0.5902483667177996}. Best is trial 6 with value: 0.19600695564047008.\u001b[0m\n"
          ]
        },
        {
          "output_type": "stream",
          "name": "stdout",
          "text": [
            "[09:14:42] WARNING: /workspace/src/objective/regression_obj.cu:152: reg:linear is now deprecated in favor of reg:squarederror.\n"
          ]
        },
        {
          "output_type": "stream",
          "name": "stderr",
          "text": [
            "\u001b[32m[I 2022-09-07 09:14:43,393]\u001b[0m Trial 8 finished with value: 0.20250728019918135 and parameters: {'max_depth': 9, 'subsample': 0.2720653922163787, 'n_estimators': 1600, 'eta': 0.01605678866483337, 'alpha': 2.3195569392139368e-06, 'lambda': 9.244178780389452e-08, 'gamma': 3.0691872835549475e-06, 'min_child_weight': 6, 'grow_policy': 'depthwise', 'colsample_bytree': 0.6406905586151175}. Best is trial 6 with value: 0.19600695564047008.\u001b[0m\n"
          ]
        },
        {
          "output_type": "stream",
          "name": "stdout",
          "text": [
            "[09:14:43] WARNING: /workspace/src/objective/regression_obj.cu:152: reg:linear is now deprecated in favor of reg:squarederror.\n"
          ]
        },
        {
          "output_type": "stream",
          "name": "stderr",
          "text": [
            "\u001b[32m[I 2022-09-07 09:14:43,969]\u001b[0m Trial 9 finished with value: 0.24363416081376832 and parameters: {'max_depth': 14, 'subsample': 0.4697070660290084, 'n_estimators': 1300, 'eta': 5.519626399610039e-06, 'alpha': 1.2879449645573405e-06, 'lambda': 1.431913863649567e-07, 'gamma': 3.185871566828947e-07, 'min_child_weight': 8, 'grow_policy': 'lossguide', 'colsample_bytree': 0.3454085919023424}. Best is trial 6 with value: 0.19600695564047008.\u001b[0m\n"
          ]
        },
        {
          "output_type": "stream",
          "name": "stdout",
          "text": [
            "[09:14:43] WARNING: /workspace/src/objective/regression_obj.cu:152: reg:linear is now deprecated in favor of reg:squarederror.\n"
          ]
        },
        {
          "output_type": "stream",
          "name": "stderr",
          "text": [
            "\u001b[32m[I 2022-09-07 09:14:45,114]\u001b[0m Trial 10 finished with value: 0.20211212193592476 and parameters: {'max_depth': 6, 'subsample': 0.776553349227549, 'n_estimators': 2000, 'eta': 0.4930411131048186, 'alpha': 0.7399307482846502, 'lambda': 3.5379460025913394e-06, 'gamma': 9.378622674604285e-06, 'min_child_weight': 4, 'grow_policy': 'depthwise', 'colsample_bytree': 0.9831207406462346}. Best is trial 6 with value: 0.19600695564047008.\u001b[0m\n"
          ]
        },
        {
          "output_type": "stream",
          "name": "stdout",
          "text": [
            "[09:14:45] WARNING: /workspace/src/objective/regression_obj.cu:152: reg:linear is now deprecated in favor of reg:squarederror.\n"
          ]
        },
        {
          "output_type": "stream",
          "name": "stderr",
          "text": [
            "\u001b[32m[I 2022-09-07 09:14:46,365]\u001b[0m Trial 11 finished with value: 0.13464958955940623 and parameters: {'max_depth': 12, 'subsample': 0.9595170818437286, 'n_estimators': 1900, 'eta': 0.0024900984203515236, 'alpha': 2.9180395424862972e-08, 'lambda': 5.254343084309469e-06, 'gamma': 0.005333187576770247, 'min_child_weight': 4, 'grow_policy': 'lossguide', 'colsample_bytree': 0.9011092578922189}. Best is trial 11 with value: 0.13464958955940623.\u001b[0m\n"
          ]
        },
        {
          "output_type": "stream",
          "name": "stdout",
          "text": [
            "[09:14:46] WARNING: /workspace/src/objective/regression_obj.cu:152: reg:linear is now deprecated in favor of reg:squarederror.\n"
          ]
        },
        {
          "output_type": "stream",
          "name": "stderr",
          "text": [
            "\u001b[32m[I 2022-09-07 09:14:47,266]\u001b[0m Trial 12 finished with value: 0.24280472209007312 and parameters: {'max_depth': 12, 'subsample': 0.2005589842968493, 'n_estimators': 2000, 'eta': 0.01975566084770183, 'alpha': 0.011151477141021264, 'lambda': 9.416297097755886e-06, 'gamma': 4.0930040800169734e-08, 'min_child_weight': 4, 'grow_policy': 'depthwise', 'colsample_bytree': 0.9887364769310867}. Best is trial 11 with value: 0.13464958955940623.\u001b[0m\n"
          ]
        },
        {
          "output_type": "stream",
          "name": "stdout",
          "text": [
            "[09:14:47] WARNING: /workspace/src/objective/regression_obj.cu:152: reg:linear is now deprecated in favor of reg:squarederror.\n"
          ]
        },
        {
          "output_type": "stream",
          "name": "stderr",
          "text": [
            "\u001b[32m[I 2022-09-07 09:14:48,294]\u001b[0m Trial 13 finished with value: 0.2667220819007996 and parameters: {'max_depth': 12, 'subsample': 0.8689365349311206, 'n_estimators': 1500, 'eta': 0.0025885829650895333, 'alpha': 1.3815749503038973e-08, 'lambda': 7.741388317972329e-06, 'gamma': 9.445521575363445e-06, 'min_child_weight': 2, 'grow_policy': 'lossguide', 'colsample_bytree': 0.882963744190466}. Best is trial 11 with value: 0.13464958955940623.\u001b[0m\n"
          ]
        },
        {
          "output_type": "stream",
          "name": "stdout",
          "text": [
            "[09:14:48] WARNING: /workspace/src/objective/regression_obj.cu:152: reg:linear is now deprecated in favor of reg:squarederror.\n"
          ]
        },
        {
          "output_type": "stream",
          "name": "stderr",
          "text": [
            "\u001b[32m[I 2022-09-07 09:14:49,182]\u001b[0m Trial 14 finished with value: 0.24637729507628886 and parameters: {'max_depth': 11, 'subsample': 0.47530187057001605, 'n_estimators': 1800, 'eta': 0.8873849742949818, 'alpha': 0.0006006780660847584, 'lambda': 8.36568997138843e-07, 'gamma': 0.0032613013236239595, 'min_child_weight': 4, 'grow_policy': 'depthwise', 'colsample_bytree': 0.49226442208013943}. Best is trial 11 with value: 0.13464958955940623.\u001b[0m\n"
          ]
        },
        {
          "output_type": "stream",
          "name": "stdout",
          "text": [
            "[09:14:49] WARNING: /workspace/src/objective/regression_obj.cu:152: reg:linear is now deprecated in favor of reg:squarederror.\n"
          ]
        },
        {
          "output_type": "stream",
          "name": "stderr",
          "text": [
            "\u001b[32m[I 2022-09-07 09:14:49,841]\u001b[0m Trial 15 finished with value: 0.1810483259539427 and parameters: {'max_depth': 12, 'subsample': 0.602193906135386, 'n_estimators': 1100, 'eta': 2.873944046852518e-05, 'alpha': 0.11718592710452393, 'lambda': 6.460625981706871e-05, 'gamma': 4.867110469361724e-05, 'min_child_weight': 3, 'grow_policy': 'lossguide', 'colsample_bytree': 0.8423942392444977}. Best is trial 11 with value: 0.13464958955940623.\u001b[0m\n"
          ]
        },
        {
          "output_type": "stream",
          "name": "stdout",
          "text": [
            "[09:14:49] WARNING: /workspace/src/objective/regression_obj.cu:152: reg:linear is now deprecated in favor of reg:squarederror.\n"
          ]
        },
        {
          "output_type": "stream",
          "name": "stderr",
          "text": [
            "\u001b[32m[I 2022-09-07 09:14:50,402]\u001b[0m Trial 16 finished with value: 0.217658182466764 and parameters: {'max_depth': 9, 'subsample': 0.759144130501101, 'n_estimators': 1100, 'eta': 4.294471187646912e-06, 'alpha': 0.4463668850586049, 'lambda': 7.855621099381347e-05, 'gamma': 7.70100222332798e-07, 'min_child_weight': 5, 'grow_policy': 'lossguide', 'colsample_bytree': 0.8700686357589205}. Best is trial 11 with value: 0.13464958955940623.\u001b[0m\n"
          ]
        },
        {
          "output_type": "stream",
          "name": "stdout",
          "text": [
            "[09:14:50] WARNING: /workspace/src/objective/regression_obj.cu:152: reg:linear is now deprecated in favor of reg:squarederror.\n"
          ]
        },
        {
          "output_type": "stream",
          "name": "stderr",
          "text": [
            "\u001b[32m[I 2022-09-07 09:14:51,159]\u001b[0m Trial 17 finished with value: 0.13822842995722093 and parameters: {'max_depth': 12, 'subsample': 0.8716029624174284, 'n_estimators': 1100, 'eta': 1.3084551184878857e-08, 'alpha': 0.03192013572294215, 'lambda': 8.072784814550153e-05, 'gamma': 7.890275346435498e-05, 'min_child_weight': 3, 'grow_policy': 'lossguide', 'colsample_bytree': 0.8644455493441361}. Best is trial 11 with value: 0.13464958955940623.\u001b[0m\n"
          ]
        },
        {
          "output_type": "stream",
          "name": "stdout",
          "text": [
            "[09:14:51] WARNING: /workspace/src/objective/regression_obj.cu:152: reg:linear is now deprecated in favor of reg:squarederror.\n"
          ]
        },
        {
          "output_type": "stream",
          "name": "stderr",
          "text": [
            "\u001b[32m[I 2022-09-07 09:14:51,737]\u001b[0m Trial 18 finished with value: 0.18470297775540556 and parameters: {'max_depth': 10, 'subsample': 0.8889718593879002, 'n_estimators': 900, 'eta': 1.0659260190311682e-08, 'alpha': 0.02777843582373538, 'lambda': 0.0014587548580326246, 'gamma': 0.01325795376147234, 'min_child_weight': 5, 'grow_policy': 'lossguide', 'colsample_bytree': 0.9157972474926269}. Best is trial 11 with value: 0.13464958955940623.\u001b[0m\n"
          ]
        },
        {
          "output_type": "stream",
          "name": "stdout",
          "text": [
            "[09:14:51] WARNING: /workspace/src/objective/regression_obj.cu:152: reg:linear is now deprecated in favor of reg:squarederror.\n"
          ]
        },
        {
          "output_type": "stream",
          "name": "stderr",
          "text": [
            "\u001b[32m[I 2022-09-07 09:14:52,471]\u001b[0m Trial 19 finished with value: 0.16528981803102874 and parameters: {'max_depth': 7, 'subsample': 0.8891794039037375, 'n_estimators': 1200, 'eta': 1.0942248537832061e-08, 'alpha': 4.390422820808913e-05, 'lambda': 1.0018711579734339e-08, 'gamma': 0.0001656140779879233, 'min_child_weight': 3, 'grow_policy': 'lossguide', 'colsample_bytree': 0.8087213868351097}. Best is trial 11 with value: 0.13464958955940623.\u001b[0m\n"
          ]
        },
        {
          "output_type": "stream",
          "name": "stdout",
          "text": [
            "[09:14:52] WARNING: /workspace/src/objective/regression_obj.cu:152: reg:linear is now deprecated in favor of reg:squarederror.\n"
          ]
        },
        {
          "output_type": "stream",
          "name": "stderr",
          "text": [
            "\u001b[32m[I 2022-09-07 09:14:52,908]\u001b[0m Trial 20 finished with value: 0.23019486035209402 and parameters: {'max_depth': 15, 'subsample': 0.8108198658364444, 'n_estimators': 700, 'eta': 0.06520123973997392, 'alpha': 0.002391330779673834, 'lambda': 5.1897606826187554e-05, 'gamma': 0.8014811935111544, 'min_child_weight': 5, 'grow_policy': 'lossguide', 'colsample_bytree': 0.9463377497391481}. Best is trial 11 with value: 0.13464958955940623.\u001b[0m\n"
          ]
        },
        {
          "output_type": "stream",
          "name": "stdout",
          "text": [
            "[09:14:52] WARNING: /workspace/src/objective/regression_obj.cu:152: reg:linear is now deprecated in favor of reg:squarederror.\n"
          ]
        },
        {
          "output_type": "stream",
          "name": "stderr",
          "text": [
            "\u001b[32m[I 2022-09-07 09:14:53,611]\u001b[0m Trial 21 finished with value: 0.241511560080775 and parameters: {'max_depth': 6, 'subsample': 0.9089435002715307, 'n_estimators': 1200, 'eta': 1.4966246349790556e-08, 'alpha': 1.6111866686192776e-05, 'lambda': 2.0368853783264407e-08, 'gamma': 0.00013882194526944797, 'min_child_weight': 3, 'grow_policy': 'lossguide', 'colsample_bytree': 0.8093634139246152}. Best is trial 11 with value: 0.13464958955940623.\u001b[0m\n"
          ]
        },
        {
          "output_type": "stream",
          "name": "stdout",
          "text": [
            "[09:14:53] WARNING: /workspace/src/objective/regression_obj.cu:152: reg:linear is now deprecated in favor of reg:squarederror.\n"
          ]
        },
        {
          "output_type": "stream",
          "name": "stderr",
          "text": [
            "\u001b[32m[I 2022-09-07 09:14:54,343]\u001b[0m Trial 22 finished with value: 0.14038273296723952 and parameters: {'max_depth': 7, 'subsample': 0.9295639887530666, 'n_estimators': 1200, 'eta': 7.630210586588729e-08, 'alpha': 5.406911680954043e-05, 'lambda': 1.1747817406961145e-08, 'gamma': 0.0006478655706911919, 'min_child_weight': 3, 'grow_policy': 'lossguide', 'colsample_bytree': 0.8331590500928334}. Best is trial 11 with value: 0.13464958955940623.\u001b[0m\n"
          ]
        },
        {
          "output_type": "stream",
          "name": "stdout",
          "text": [
            "[09:14:54] WARNING: /workspace/src/objective/regression_obj.cu:152: reg:linear is now deprecated in favor of reg:squarederror.\n"
          ]
        },
        {
          "output_type": "stream",
          "name": "stderr",
          "text": [
            "\u001b[32m[I 2022-09-07 09:14:55,232]\u001b[0m Trial 23 finished with value: 0.22727743004438922 and parameters: {'max_depth': 8, 'subsample': 0.9355725209026294, 'n_estimators': 1400, 'eta': 2.268480438728861e-07, 'alpha': 0.03576431805127486, 'lambda': 6.272368398407095e-07, 'gamma': 0.0020855428780542093, 'min_child_weight': 4, 'grow_policy': 'lossguide', 'colsample_bytree': 0.9067050277758285}. Best is trial 11 with value: 0.13464958955940623.\u001b[0m\n"
          ]
        },
        {
          "output_type": "stream",
          "name": "stdout",
          "text": [
            "[09:14:55] WARNING: /workspace/src/objective/regression_obj.cu:152: reg:linear is now deprecated in favor of reg:squarederror.\n"
          ]
        },
        {
          "output_type": "stream",
          "name": "stderr",
          "text": [
            "\u001b[32m[I 2022-09-07 09:14:55,795]\u001b[0m Trial 24 finished with value: 0.20561211011354374 and parameters: {'max_depth': 11, 'subsample': 0.8269200162019074, 'n_estimators': 900, 'eta': 7.723537530987374e-08, 'alpha': 9.54181276234665e-08, 'lambda': 7.870377018183095e-07, 'gamma': 0.00081734124824228, 'min_child_weight': 3, 'grow_policy': 'lossguide', 'colsample_bytree': 0.7372259447083112}. Best is trial 11 with value: 0.13464958955940623.\u001b[0m\n"
          ]
        },
        {
          "output_type": "stream",
          "name": "stdout",
          "text": [
            "[09:14:55] WARNING: /workspace/src/objective/regression_obj.cu:152: reg:linear is now deprecated in favor of reg:squarederror.\n"
          ]
        },
        {
          "output_type": "stream",
          "name": "stderr",
          "text": [
            "\u001b[32m[I 2022-09-07 09:14:56,454]\u001b[0m Trial 25 finished with value: 0.17557303032119634 and parameters: {'max_depth': 13, 'subsample': 0.7095800771207595, 'n_estimators': 1000, 'eta': 1.2688880143545754e-06, 'alpha': 0.00014790227750524038, 'lambda': 9.272346766192708e-08, 'gamma': 0.030823748626758643, 'min_child_weight': 2, 'grow_policy': 'lossguide', 'colsample_bytree': 0.840022958090874}. Best is trial 11 with value: 0.13464958955940623.\u001b[0m\n"
          ]
        },
        {
          "output_type": "stream",
          "name": "stdout",
          "text": [
            "[09:14:56] WARNING: /workspace/src/objective/regression_obj.cu:152: reg:linear is now deprecated in favor of reg:squarederror.\n"
          ]
        },
        {
          "output_type": "stream",
          "name": "stderr",
          "text": [
            "\u001b[32m[I 2022-09-07 09:14:57,226]\u001b[0m Trial 26 finished with value: 0.2821480491051488 and parameters: {'max_depth': 9, 'subsample': 0.9987743556381594, 'n_estimators': 1300, 'eta': 4.9746651197335105e-08, 'alpha': 0.00216183930806112, 'lambda': 2.083842816886403e-05, 'gamma': 0.007594332789645076, 'min_child_weight': 5, 'grow_policy': 'lossguide', 'colsample_bytree': 0.6773423666977625}. Best is trial 11 with value: 0.13464958955940623.\u001b[0m\n"
          ]
        },
        {
          "output_type": "stream",
          "name": "stdout",
          "text": [
            "[09:14:57] WARNING: /workspace/src/objective/regression_obj.cu:152: reg:linear is now deprecated in favor of reg:squarederror.\n"
          ]
        },
        {
          "output_type": "stream",
          "name": "stderr",
          "text": [
            "\u001b[32m[I 2022-09-07 09:14:58,300]\u001b[0m Trial 27 finished with value: 0.21974543966661983 and parameters: {'max_depth': 12, 'subsample': 0.9395585936860911, 'n_estimators': 1900, 'eta': 0.0008309484026242439, 'alpha': 6.33797241699012e-06, 'lambda': 0.0002827180192324341, 'gamma': 0.000365820421718226, 'min_child_weight': 4, 'grow_policy': 'lossguide', 'colsample_bytree': 0.5234362215132358}. Best is trial 11 with value: 0.13464958955940623.\u001b[0m\n"
          ]
        },
        {
          "output_type": "stream",
          "name": "stdout",
          "text": [
            "[09:14:58] WARNING: /workspace/src/objective/regression_obj.cu:152: reg:linear is now deprecated in favor of reg:squarederror.\n"
          ]
        },
        {
          "output_type": "stream",
          "name": "stderr",
          "text": [
            "\u001b[32m[I 2022-09-07 09:14:59,091]\u001b[0m Trial 28 finished with value: 0.22755402874333452 and parameters: {'max_depth': 10, 'subsample': 0.8189465426623764, 'n_estimators': 1500, 'eta': 7.742069438679892e-06, 'alpha': 6.010923315700792e-08, 'lambda': 0.002081619628474262, 'gamma': 0.13816011644651968, 'min_child_weight': 10, 'grow_policy': 'lossguide', 'colsample_bytree': 0.963555702246544}. Best is trial 11 with value: 0.13464958955940623.\u001b[0m\n"
          ]
        },
        {
          "output_type": "stream",
          "name": "stdout",
          "text": [
            "[09:14:59] WARNING: /workspace/src/objective/regression_obj.cu:152: reg:linear is now deprecated in favor of reg:squarederror.\n"
          ]
        },
        {
          "output_type": "stream",
          "name": "stderr",
          "text": [
            "\u001b[32m[I 2022-09-07 09:14:59,492]\u001b[0m Trial 29 finished with value: 0.2254197058304134 and parameters: {'max_depth': 7, 'subsample': 0.6246935671266571, 'n_estimators': 700, 'eta': 3.802049103469449e-08, 'alpha': 0.15272543776742462, 'lambda': 0.00019303440841724842, 'gamma': 0.0019778652118787013, 'min_child_weight': 3, 'grow_policy': 'lossguide', 'colsample_bytree': 0.5592801487109748}. Best is trial 11 with value: 0.13464958955940623.\u001b[0m\n"
          ]
        },
        {
          "output_type": "stream",
          "name": "stdout",
          "text": [
            "[09:14:59] WARNING: /workspace/src/objective/regression_obj.cu:152: reg:linear is now deprecated in favor of reg:squarederror.\n"
          ]
        },
        {
          "output_type": "stream",
          "name": "stderr",
          "text": [
            "\u001b[32m[I 2022-09-07 09:15:00,282]\u001b[0m Trial 30 finished with value: 0.19293699370223427 and parameters: {'max_depth': 11, 'subsample': 0.8481956237849488, 'n_estimators': 1400, 'eta': 2.4586646419711258e-05, 'alpha': 1.554421041488258e-05, 'lambda': 2.196257756443898e-06, 'gamma': 2.0457070588831852e-05, 'min_child_weight': 2, 'grow_policy': 'lossguide', 'colsample_bytree': 0.4384088030347902}. Best is trial 11 with value: 0.13464958955940623.\u001b[0m\n"
          ]
        },
        {
          "output_type": "stream",
          "name": "stdout",
          "text": [
            "[09:15:00] WARNING: /workspace/src/objective/regression_obj.cu:152: reg:linear is now deprecated in favor of reg:squarederror.\n"
          ]
        },
        {
          "output_type": "stream",
          "name": "stderr",
          "text": [
            "\u001b[32m[I 2022-09-07 09:15:00,995]\u001b[0m Trial 31 finished with value: 0.23975365882094374 and parameters: {'max_depth': 7, 'subsample': 0.9054614095873863, 'n_estimators': 1200, 'eta': 1.0220282974443963e-08, 'alpha': 0.00010156807594394261, 'lambda': 1.0881221716270978e-08, 'gamma': 0.0002510321427115401, 'min_child_weight': 3, 'grow_policy': 'lossguide', 'colsample_bytree': 0.8086824610702948}. Best is trial 11 with value: 0.13464958955940623.\u001b[0m\n"
          ]
        },
        {
          "output_type": "stream",
          "name": "stdout",
          "text": [
            "[09:15:01] WARNING: /workspace/src/objective/regression_obj.cu:152: reg:linear is now deprecated in favor of reg:squarederror.\n"
          ]
        },
        {
          "output_type": "stream",
          "name": "stderr",
          "text": [
            "\u001b[32m[I 2022-09-07 09:15:01,663]\u001b[0m Trial 32 finished with value: 0.201988067763489 and parameters: {'max_depth': 7, 'subsample': 0.9557552325335456, 'n_estimators': 1100, 'eta': 2.2868276925520446e-07, 'alpha': 8.810155113723322e-07, 'lambda': 1.0540109320171686e-08, 'gamma': 4.764049567306419e-05, 'min_child_weight': 4, 'grow_policy': 'lossguide', 'colsample_bytree': 0.7824223063665253}. Best is trial 11 with value: 0.13464958955940623.\u001b[0m\n"
          ]
        },
        {
          "output_type": "stream",
          "name": "stdout",
          "text": [
            "[09:15:01] WARNING: /workspace/src/objective/regression_obj.cu:152: reg:linear is now deprecated in favor of reg:squarederror.\n"
          ]
        },
        {
          "output_type": "stream",
          "name": "stderr",
          "text": [
            "\u001b[32m[I 2022-09-07 09:15:02,285]\u001b[0m Trial 33 finished with value: 0.14549370654226498 and parameters: {'max_depth': 8, 'subsample': 0.7419963174286732, 'n_estimators': 1000, 'eta': 4.99433599797508e-08, 'alpha': 4.3153307323339145e-05, 'lambda': 4.587492002577539e-08, 'gamma': 0.00011502294145875511, 'min_child_weight': 3, 'grow_policy': 'lossguide', 'colsample_bytree': 0.9101301369074891}. Best is trial 11 with value: 0.13464958955940623.\u001b[0m\n"
          ]
        },
        {
          "output_type": "stream",
          "name": "stdout",
          "text": [
            "[09:15:02] WARNING: /workspace/src/objective/regression_obj.cu:152: reg:linear is now deprecated in favor of reg:squarederror.\n"
          ]
        },
        {
          "output_type": "stream",
          "name": "stderr",
          "text": [
            "\u001b[32m[I 2022-09-07 09:15:02,937]\u001b[0m Trial 34 finished with value: 0.15848147563326162 and parameters: {'max_depth': 8, 'subsample': 0.759136477814685, 'n_estimators': 1000, 'eta': 1.7411095635575348e-07, 'alpha': 4.609128230243117e-06, 'lambda': 5.001482540211812e-08, 'gamma': 0.0005795091086808918, 'min_child_weight': 3, 'grow_policy': 'lossguide', 'colsample_bytree': 0.9351765173621515}. Best is trial 11 with value: 0.13464958955940623.\u001b[0m\n"
          ]
        },
        {
          "output_type": "stream",
          "name": "stdout",
          "text": [
            "[09:15:02] WARNING: /workspace/src/objective/regression_obj.cu:152: reg:linear is now deprecated in favor of reg:squarederror.\n"
          ]
        },
        {
          "output_type": "stream",
          "name": "stderr",
          "text": [
            "\u001b[32m[I 2022-09-07 09:15:03,458]\u001b[0m Trial 35 finished with value: 0.21716375603557048 and parameters: {'max_depth': 6, 'subsample': 0.7243150979213762, 'n_estimators': 900, 'eta': 1.2904452284246563e-06, 'alpha': 3.782448557357124e-07, 'lambda': 4.2967401295172284e-07, 'gamma': 0.0035015908913532106, 'min_child_weight': 7, 'grow_policy': 'lossguide', 'colsample_bytree': 0.8623852685365043}. Best is trial 11 with value: 0.13464958955940623.\u001b[0m\n"
          ]
        },
        {
          "output_type": "stream",
          "name": "stdout",
          "text": [
            "[09:15:03] WARNING: /workspace/src/objective/regression_obj.cu:152: reg:linear is now deprecated in favor of reg:squarederror.\n"
          ]
        },
        {
          "output_type": "stream",
          "name": "stderr",
          "text": [
            "\u001b[32m[I 2022-09-07 09:15:03,743]\u001b[0m Trial 36 finished with value: 0.1639353775028223 and parameters: {'max_depth': 10, 'subsample': 0.7893706187950256, 'n_estimators': 500, 'eta': 4.464903050322378e-08, 'alpha': 2.5654092191430974e-05, 'lambda': 2.2587937874903132e-07, 'gamma': 2.526008507592512e-06, 'min_child_weight': 2, 'grow_policy': 'lossguide', 'colsample_bytree': 0.7410886543057361}. Best is trial 11 with value: 0.13464958955940623.\u001b[0m\n"
          ]
        },
        {
          "output_type": "stream",
          "name": "stdout",
          "text": [
            "[09:15:03] WARNING: /workspace/src/objective/regression_obj.cu:152: reg:linear is now deprecated in favor of reg:squarederror.\n"
          ]
        },
        {
          "output_type": "stream",
          "name": "stderr",
          "text": [
            "\u001b[32m[I 2022-09-07 09:15:04,388]\u001b[0m Trial 37 finished with value: 0.24132116230697287 and parameters: {'max_depth': 8, 'subsample': 0.9482003632606594, 'n_estimators': 1000, 'eta': 0.0003751119333408944, 'alpha': 0.00021066740173058716, 'lambda': 4.809545656089144e-08, 'gamma': 0.0008107300940115789, 'min_child_weight': 5, 'grow_policy': 'lossguide', 'colsample_bytree': 0.9981441739496251}. Best is trial 11 with value: 0.13464958955940623.\u001b[0m\n"
          ]
        },
        {
          "output_type": "stream",
          "name": "stdout",
          "text": [
            "[09:15:04] WARNING: /workspace/src/objective/regression_obj.cu:152: reg:linear is now deprecated in favor of reg:squarederror.\n"
          ]
        },
        {
          "output_type": "stream",
          "name": "stderr",
          "text": [
            "\u001b[32m[I 2022-09-07 09:15:04,780]\u001b[0m Trial 38 finished with value: 0.2221636998714925 and parameters: {'max_depth': 13, 'subsample': 0.6518004694165197, 'n_estimators': 700, 'eta': 6.69810622261175e-05, 'alpha': 0.006598930677079303, 'lambda': 2.028753424871863e-05, 'gamma': 8.012689664459876e-05, 'min_child_weight': 7, 'grow_policy': 'lossguide', 'colsample_bytree': 0.7008929423136274}. Best is trial 11 with value: 0.13464958955940623.\u001b[0m\n"
          ]
        },
        {
          "output_type": "stream",
          "name": "stdout",
          "text": [
            "[09:15:04] WARNING: /workspace/src/objective/regression_obj.cu:152: reg:linear is now deprecated in favor of reg:squarederror.\n"
          ]
        },
        {
          "output_type": "stream",
          "name": "stderr",
          "text": [
            "\u001b[32m[I 2022-09-07 09:15:05,612]\u001b[0m Trial 39 finished with value: 0.2834001399725099 and parameters: {'max_depth': 11, 'subsample': 0.8531274774714523, 'n_estimators': 1300, 'eta': 3.351131404385525e-08, 'alpha': 1.3994793525504724e-07, 'lambda': 0.0007804801695821649, 'gamma': 0.026814134959960684, 'min_child_weight': 2, 'grow_policy': 'depthwise', 'colsample_bytree': 0.8973966131686574}. Best is trial 11 with value: 0.13464958955940623.\u001b[0m\n"
          ]
        },
        {
          "output_type": "stream",
          "name": "stdout",
          "text": [
            "[09:15:05] WARNING: /workspace/src/objective/regression_obj.cu:152: reg:linear is now deprecated in favor of reg:squarederror.\n"
          ]
        },
        {
          "output_type": "stream",
          "name": "stderr",
          "text": [
            "\u001b[32m[I 2022-09-07 09:15:06,154]\u001b[0m Trial 40 finished with value: 0.3288412173428783 and parameters: {'max_depth': 14, 'subsample': 0.9827142796278279, 'n_estimators': 800, 'eta': 4.569889163475619e-07, 'alpha': 0.0010792760157600104, 'lambda': 0.004717450057027228, 'gamma': 0.0064590166188168725, 'min_child_weight': 4, 'grow_policy': 'lossguide', 'colsample_bytree': 0.7788310215518129}. Best is trial 11 with value: 0.13464958955940623.\u001b[0m\n"
          ]
        },
        {
          "output_type": "stream",
          "name": "stdout",
          "text": [
            "[09:15:06] WARNING: /workspace/src/objective/regression_obj.cu:152: reg:linear is now deprecated in favor of reg:squarederror.\n"
          ]
        },
        {
          "output_type": "stream",
          "name": "stderr",
          "text": [
            "\u001b[32m[I 2022-09-07 09:15:06,802]\u001b[0m Trial 41 finished with value: 0.19521223780764305 and parameters: {'max_depth': 8, 'subsample': 0.7403949395237737, 'n_estimators': 1000, 'eta': 1.4796745180016472e-07, 'alpha': 1.794408147244079e-06, 'lambda': 3.253288692615395e-08, 'gamma': 0.0004480412530433567, 'min_child_weight': 3, 'grow_policy': 'lossguide', 'colsample_bytree': 0.9362225019600874}. Best is trial 11 with value: 0.13464958955940623.\u001b[0m\n"
          ]
        },
        {
          "output_type": "stream",
          "name": "stdout",
          "text": [
            "[09:15:06] WARNING: /workspace/src/objective/regression_obj.cu:152: reg:linear is now deprecated in favor of reg:squarederror.\n"
          ]
        },
        {
          "output_type": "stream",
          "name": "stderr",
          "text": [
            "\u001b[32m[I 2022-09-07 09:15:07,525]\u001b[0m Trial 42 finished with value: 0.22184724500350217 and parameters: {'max_depth': 9, 'subsample': 0.774794597655808, 'n_estimators': 1100, 'eta': 1.1878670986510483e-07, 'alpha': 5.116894462269804e-06, 'lambda': 5.098350496862464e-08, 'gamma': 0.0010256256937160417, 'min_child_weight': 3, 'grow_policy': 'lossguide', 'colsample_bytree': 0.9373557170266245}. Best is trial 11 with value: 0.13464958955940623.\u001b[0m\n"
          ]
        },
        {
          "output_type": "stream",
          "name": "stdout",
          "text": [
            "[09:15:07] WARNING: /workspace/src/objective/regression_obj.cu:152: reg:linear is now deprecated in favor of reg:squarederror.\n"
          ]
        },
        {
          "output_type": "stream",
          "name": "stderr",
          "text": [
            "\u001b[32m[I 2022-09-07 09:15:08,148]\u001b[0m Trial 43 finished with value: 0.19842141694960252 and parameters: {'max_depth': 8, 'subsample': 0.6713044817099907, 'n_estimators': 1000, 'eta': 1.1265505565144884e-06, 'alpha': 6.165985409484486e-05, 'lambda': 2.9831144813666404e-07, 'gamma': 1.117388433106486e-05, 'min_child_weight': 2, 'grow_policy': 'lossguide', 'colsample_bytree': 0.8479048973585906}. Best is trial 11 with value: 0.13464958955940623.\u001b[0m\n"
          ]
        },
        {
          "output_type": "stream",
          "name": "stdout",
          "text": [
            "[09:15:08] WARNING: /workspace/src/objective/regression_obj.cu:152: reg:linear is now deprecated in favor of reg:squarederror.\n"
          ]
        },
        {
          "output_type": "stream",
          "name": "stderr",
          "text": [
            "\u001b[32m[I 2022-09-07 09:15:08,636]\u001b[0m Trial 44 finished with value: 0.19722594436158972 and parameters: {'max_depth': 12, 'subsample': 0.53528160020645, 'n_estimators': 800, 'eta': 2.997423261028761e-08, 'alpha': 4.417495463563173e-06, 'lambda': 2.1278393144352524e-06, 'gamma': 2.544610577550836e-05, 'min_child_weight': 3, 'grow_policy': 'lossguide', 'colsample_bytree': 0.8998133905573384}. Best is trial 11 with value: 0.13464958955940623.\u001b[0m\n"
          ]
        },
        {
          "output_type": "stream",
          "name": "stdout",
          "text": [
            "[09:15:08] WARNING: /workspace/src/objective/regression_obj.cu:152: reg:linear is now deprecated in favor of reg:squarederror.\n"
          ]
        },
        {
          "output_type": "stream",
          "name": "stderr",
          "text": [
            "\u001b[32m[I 2022-09-07 09:15:09,297]\u001b[0m Trial 45 finished with value: 0.2545621116542041 and parameters: {'max_depth': 7, 'subsample': 0.8461558369036206, 'n_estimators': 1400, 'eta': 3.054751883854802e-07, 'alpha': 4.4288869184319255e-08, 'lambda': 1.2010436781680884e-07, 'gamma': 0.00026855153886911807, 'min_child_weight': 4, 'grow_policy': 'depthwise', 'colsample_bytree': 0.20506567063929287}. Best is trial 11 with value: 0.13464958955940623.\u001b[0m\n"
          ]
        },
        {
          "output_type": "stream",
          "name": "stdout",
          "text": [
            "[09:15:09] WARNING: /workspace/src/objective/regression_obj.cu:152: reg:linear is now deprecated in favor of reg:squarederror.\n"
          ]
        },
        {
          "output_type": "stream",
          "name": "stderr",
          "text": [
            "\u001b[32m[I 2022-09-07 09:15:10,417]\u001b[0m Trial 46 finished with value: 0.20182896246403306 and parameters: {'max_depth': 8, 'subsample': 0.9162318953660887, 'n_estimators': 1700, 'eta': 0.006312882520571369, 'alpha': 4.881488764085255e-07, 'lambda': 2.396566540200019e-08, 'gamma': 0.00010991516548826566, 'min_child_weight': 3, 'grow_policy': 'lossguide', 'colsample_bytree': 0.9654038387620761}. Best is trial 11 with value: 0.13464958955940623.\u001b[0m\n"
          ]
        },
        {
          "output_type": "stream",
          "name": "stdout",
          "text": [
            "[09:15:10] WARNING: /workspace/src/objective/regression_obj.cu:152: reg:linear is now deprecated in favor of reg:squarederror.\n"
          ]
        },
        {
          "output_type": "stream",
          "name": "stderr",
          "text": [
            "\u001b[32m[I 2022-09-07 09:15:11,108]\u001b[0m Trial 47 finished with value: 0.2605805980297429 and parameters: {'max_depth': 9, 'subsample': 0.8723590174438276, 'n_estimators': 1200, 'eta': 2.9761831824885357e-06, 'alpha': 0.00021934259851471278, 'lambda': 0.04775634206099672, 'gamma': 0.23017060466158773, 'min_child_weight': 4, 'grow_policy': 'lossguide', 'colsample_bytree': 0.6573560072935118}. Best is trial 11 with value: 0.13464958955940623.\u001b[0m\n"
          ]
        },
        {
          "output_type": "stream",
          "name": "stdout",
          "text": [
            "[09:15:11] WARNING: /workspace/src/objective/regression_obj.cu:152: reg:linear is now deprecated in favor of reg:squarederror.\n"
          ]
        },
        {
          "output_type": "stream",
          "name": "stderr",
          "text": [
            "\u001b[32m[I 2022-09-07 09:15:11,648]\u001b[0m Trial 48 finished with value: 0.346906795840284 and parameters: {'max_depth': 6, 'subsample': 0.8023050438159264, 'n_estimators': 900, 'eta': 0.14647921149310703, 'alpha': 1.1414722288306474e-05, 'lambda': 1.8422816421475858e-06, 'gamma': 0.004275595651910634, 'min_child_weight': 2, 'grow_policy': 'depthwise', 'colsample_bytree': 0.8265305382899106}. Best is trial 11 with value: 0.13464958955940623.\u001b[0m\n"
          ]
        },
        {
          "output_type": "stream",
          "name": "stdout",
          "text": [
            "[09:15:11] WARNING: /workspace/src/objective/regression_obj.cu:152: reg:linear is now deprecated in favor of reg:squarederror.\n"
          ]
        },
        {
          "output_type": "stream",
          "name": "stderr",
          "text": [
            "\u001b[32m[I 2022-09-07 09:15:12,238]\u001b[0m Trial 49 finished with value: 0.22227059101476088 and parameters: {'max_depth': 10, 'subsample': 0.7585447515902506, 'n_estimators': 1100, 'eta': 8.642998304949342e-08, 'alpha': 1.0070273091061322e-08, 'lambda': 6.73064303232053e-08, 'gamma': 3.6357235568812036e-06, 'min_child_weight': 3, 'grow_policy': 'lossguide', 'colsample_bytree': 0.8769925403518334}. Best is trial 11 with value: 0.13464958955940623.\u001b[0m\n"
          ]
        },
        {
          "output_type": "stream",
          "name": "stdout",
          "text": [
            "[09:15:12] WARNING: /workspace/src/objective/regression_obj.cu:152: reg:linear is now deprecated in favor of reg:squarederror.\n"
          ]
        },
        {
          "output_type": "stream",
          "name": "stderr",
          "text": [
            "\u001b[32m[I 2022-09-07 09:15:13,223]\u001b[0m Trial 50 finished with value: 0.15866332336984373 and parameters: {'max_depth': 13, 'subsample': 0.9696103160059717, 'n_estimators': 1500, 'eta': 2.5822561097986543e-08, 'alpha': 0.0006202346048285667, 'lambda': 1.4548348249363403e-07, 'gamma': 0.014449921720956337, 'min_child_weight': 4, 'grow_policy': 'lossguide', 'colsample_bytree': 0.9218316796244399}. Best is trial 11 with value: 0.13464958955940623.\u001b[0m\n"
          ]
        },
        {
          "output_type": "stream",
          "name": "stdout",
          "text": [
            "[09:15:13] WARNING: /workspace/src/objective/regression_obj.cu:152: reg:linear is now deprecated in favor of reg:squarederror.\n"
          ]
        },
        {
          "output_type": "stream",
          "name": "stderr",
          "text": [
            "\u001b[32m[I 2022-09-07 09:15:14,512]\u001b[0m Trial 51 finished with value: 0.1703377868647328 and parameters: {'max_depth': 13, 'subsample': 0.9658304054707176, 'n_estimators': 1900, 'eta': 2.66187350280271e-08, 'alpha': 0.0004444916220858458, 'lambda': 1.8585455167852086e-07, 'gamma': 0.015397645242291754, 'min_child_weight': 4, 'grow_policy': 'lossguide', 'colsample_bytree': 0.9398407003078101}. Best is trial 11 with value: 0.13464958955940623.\u001b[0m\n"
          ]
        },
        {
          "output_type": "stream",
          "name": "stdout",
          "text": [
            "[09:15:14] WARNING: /workspace/src/objective/regression_obj.cu:152: reg:linear is now deprecated in favor of reg:squarederror.\n"
          ]
        },
        {
          "output_type": "stream",
          "name": "stderr",
          "text": [
            "\u001b[32m[I 2022-09-07 09:15:15,490]\u001b[0m Trial 52 finished with value: 0.21422772005764656 and parameters: {'max_depth': 13, 'subsample': 0.9156569499407167, 'n_estimators': 1600, 'eta': 2.220825719076069e-08, 'alpha': 3.1597259240483277e-05, 'lambda': 3.3277664537440566e-08, 'gamma': 0.049586879925108567, 'min_child_weight': 5, 'grow_policy': 'lossguide', 'colsample_bytree': 0.9194715008152937}. Best is trial 11 with value: 0.13464958955940623.\u001b[0m\n"
          ]
        },
        {
          "output_type": "stream",
          "name": "stdout",
          "text": [
            "[09:15:15] WARNING: /workspace/src/objective/regression_obj.cu:152: reg:linear is now deprecated in favor of reg:squarederror.\n"
          ]
        },
        {
          "output_type": "stream",
          "name": "stderr",
          "text": [
            "\u001b[32m[I 2022-09-07 09:15:16,733]\u001b[0m Trial 53 finished with value: 0.1554373491964233 and parameters: {'max_depth': 12, 'subsample': 0.9837576589027512, 'n_estimators': 1800, 'eta': 1.1225492782395872e-07, 'alpha': 0.01849599521039577, 'lambda': 5.1896361435289405e-06, 'gamma': 0.0013124549775758744, 'min_child_weight': 4, 'grow_policy': 'lossguide', 'colsample_bytree': 0.9700545406053207}. Best is trial 11 with value: 0.13464958955940623.\u001b[0m\n"
          ]
        },
        {
          "output_type": "stream",
          "name": "stdout",
          "text": [
            "[09:15:16] WARNING: /workspace/src/objective/regression_obj.cu:152: reg:linear is now deprecated in favor of reg:squarederror.\n"
          ]
        },
        {
          "output_type": "stream",
          "name": "stderr",
          "text": [
            "\u001b[32m[I 2022-09-07 09:15:18,043]\u001b[0m Trial 54 finished with value: 0.18043968153231016 and parameters: {'max_depth': 12, 'subsample': 0.8873026065860218, 'n_estimators': 1900, 'eta': 1.115018669473235e-07, 'alpha': 0.018601351695617926, 'lambda': 9.897734013985213e-06, 'gamma': 0.0015472037952521118, 'min_child_weight': 3, 'grow_policy': 'lossguide', 'colsample_bytree': 0.9703934584684281}. Best is trial 11 with value: 0.13464958955940623.\u001b[0m\n"
          ]
        },
        {
          "output_type": "stream",
          "name": "stdout",
          "text": [
            "[09:15:18] WARNING: /workspace/src/objective/regression_obj.cu:152: reg:linear is now deprecated in favor of reg:squarederror.\n"
          ]
        },
        {
          "output_type": "stream",
          "name": "stderr",
          "text": [
            "\u001b[32m[I 2022-09-07 09:15:19,177]\u001b[0m Trial 55 finished with value: 0.19913169186422805 and parameters: {'max_depth': 11, 'subsample': 0.9935041438720584, 'n_estimators': 1800, 'eta': 7.70315379831344e-07, 'alpha': 0.21901163017759687, 'lambda': 2.1267404136007484e-05, 'gamma': 0.0006485672192182854, 'min_child_weight': 6, 'grow_policy': 'lossguide', 'colsample_bytree': 0.9859292343761175}. Best is trial 11 with value: 0.13464958955940623.\u001b[0m\n"
          ]
        },
        {
          "output_type": "stream",
          "name": "stdout",
          "text": [
            "[09:15:19] WARNING: /workspace/src/objective/regression_obj.cu:152: reg:linear is now deprecated in favor of reg:squarederror.\n"
          ]
        },
        {
          "output_type": "stream",
          "name": "stderr",
          "text": [
            "\u001b[32m[I 2022-09-07 09:15:20,065]\u001b[0m Trial 56 finished with value: 0.2115191193804665 and parameters: {'max_depth': 12, 'subsample': 0.5441762458138422, 'n_estimators': 2000, 'eta': 4.699839085515894e-07, 'alpha': 0.08876540315077071, 'lambda': 1.149912853685497e-06, 'gamma': 2.1153540628803184e-08, 'min_child_weight': 2, 'grow_policy': 'lossguide', 'colsample_bytree': 0.8915283887473577}. Best is trial 11 with value: 0.13464958955940623.\u001b[0m\n"
          ]
        },
        {
          "output_type": "stream",
          "name": "stdout",
          "text": [
            "[09:15:20] WARNING: /workspace/src/objective/regression_obj.cu:152: reg:linear is now deprecated in favor of reg:squarederror.\n"
          ]
        },
        {
          "output_type": "stream",
          "name": "stderr",
          "text": [
            "\u001b[32m[I 2022-09-07 09:15:21,193]\u001b[0m Trial 57 finished with value: 0.20143683095161574 and parameters: {'max_depth': 14, 'subsample': 0.9280627516760193, 'n_estimators': 1800, 'eta': 0.008104054537133996, 'alpha': 0.060053180463306766, 'lambda': 0.00011526191894624563, 'gamma': 8.011625270889479e-05, 'min_child_weight': 5, 'grow_policy': 'depthwise', 'colsample_bytree': 0.8575171726379274}. Best is trial 11 with value: 0.13464958955940623.\u001b[0m\n"
          ]
        },
        {
          "output_type": "stream",
          "name": "stdout",
          "text": [
            "[09:15:21] WARNING: /workspace/src/objective/regression_obj.cu:152: reg:linear is now deprecated in favor of reg:squarederror.\n"
          ]
        },
        {
          "output_type": "stream",
          "name": "stderr",
          "text": [
            "\u001b[32m[I 2022-09-07 09:15:21,778]\u001b[0m Trial 58 finished with value: 0.23216479659047284 and parameters: {'max_depth': 7, 'subsample': 0.8386357874414614, 'n_estimators': 1100, 'eta': 2.4960876034848926e-06, 'alpha': 0.007361475206935685, 'lambda': 4.573663367021098e-06, 'gamma': 0.00019115106189865314, 'min_child_weight': 4, 'grow_policy': 'lossguide', 'colsample_bytree': 0.39974996385329115}. Best is trial 11 with value: 0.13464958955940623.\u001b[0m\n"
          ]
        },
        {
          "output_type": "stream",
          "name": "stdout",
          "text": [
            "[09:15:21] WARNING: /workspace/src/objective/regression_obj.cu:152: reg:linear is now deprecated in favor of reg:squarederror.\n"
          ]
        },
        {
          "output_type": "stream",
          "name": "stderr",
          "text": [
            "\u001b[32m[I 2022-09-07 09:15:22,666]\u001b[0m Trial 59 finished with value: 0.18582749793672487 and parameters: {'max_depth': 12, 'subsample': 0.42066507168057365, 'n_estimators': 1700, 'eta': 1.2089572017565507e-05, 'alpha': 0.002050395962483695, 'lambda': 5.027460868031408e-05, 'gamma': 0.0004448218563674215, 'min_child_weight': 3, 'grow_policy': 'lossguide', 'colsample_bytree': 0.7603484922224337}. Best is trial 11 with value: 0.13464958955940623.\u001b[0m\n"
          ]
        },
        {
          "output_type": "stream",
          "name": "stdout",
          "text": [
            "[09:15:22] WARNING: /workspace/src/objective/regression_obj.cu:152: reg:linear is now deprecated in favor of reg:squarederror.\n"
          ]
        },
        {
          "output_type": "stream",
          "name": "stderr",
          "text": [
            "\u001b[32m[I 2022-09-07 09:15:23,451]\u001b[0m Trial 60 finished with value: 0.20140499485563912 and parameters: {'max_depth': 11, 'subsample': 0.874176999963011, 'n_estimators': 1200, 'eta': 0.00014103475647734545, 'alpha': 3.283708642499647e-06, 'lambda': 4.184744991525455e-07, 'gamma': 0.001476760297667923, 'min_child_weight': 3, 'grow_policy': 'lossguide', 'colsample_bytree': 0.8121098505889642}. Best is trial 11 with value: 0.13464958955940623.\u001b[0m\n"
          ]
        },
        {
          "output_type": "stream",
          "name": "stdout",
          "text": [
            "[09:15:23] WARNING: /workspace/src/objective/regression_obj.cu:152: reg:linear is now deprecated in favor of reg:squarederror.\n"
          ]
        },
        {
          "output_type": "stream",
          "name": "stderr",
          "text": [
            "\u001b[32m[I 2022-09-07 09:15:24,444]\u001b[0m Trial 61 finished with value: 0.2017093095191829 and parameters: {'max_depth': 13, 'subsample': 0.9622118097613795, 'n_estimators': 1500, 'eta': 5.860837984345593e-08, 'alpha': 0.0007455364953452892, 'lambda': 1.7878322713661098e-08, 'gamma': 0.0128373740289575, 'min_child_weight': 4, 'grow_policy': 'lossguide', 'colsample_bytree': 0.9227780196096536}. Best is trial 11 with value: 0.13464958955940623.\u001b[0m\n"
          ]
        },
        {
          "output_type": "stream",
          "name": "stdout",
          "text": [
            "[09:15:24] WARNING: /workspace/src/objective/regression_obj.cu:152: reg:linear is now deprecated in favor of reg:squarederror.\n"
          ]
        },
        {
          "output_type": "stream",
          "name": "stderr",
          "text": [
            "\u001b[32m[I 2022-09-07 09:15:25,545]\u001b[0m Trial 62 finished with value: 0.23995220308293805 and parameters: {'max_depth': 12, 'subsample': 0.9793541879755947, 'n_estimators': 1600, 'eta': 1.787736795177116e-08, 'alpha': 0.9600042429125283, 'lambda': 9.985671265222962e-08, 'gamma': 0.002952642962509932, 'min_child_weight': 4, 'grow_policy': 'lossguide', 'colsample_bytree': 0.956869697301755}. Best is trial 11 with value: 0.13464958955940623.\u001b[0m\n"
          ]
        },
        {
          "output_type": "stream",
          "name": "stdout",
          "text": [
            "[09:15:25] WARNING: /workspace/src/objective/regression_obj.cu:152: reg:linear is now deprecated in favor of reg:squarederror.\n"
          ]
        },
        {
          "output_type": "stream",
          "name": "stderr",
          "text": [
            "\u001b[32m[I 2022-09-07 09:15:26,809]\u001b[0m Trial 63 finished with value: 0.29048989810850817 and parameters: {'max_depth': 13, 'subsample': 0.9377874919166824, 'n_estimators': 2000, 'eta': 2.06244408934085e-07, 'alpha': 0.017186738107865872, 'lambda': 1.921846060318648e-07, 'gamma': 0.005378190655569976, 'min_child_weight': 5, 'grow_policy': 'lossguide', 'colsample_bytree': 0.9970389723147026}. Best is trial 11 with value: 0.13464958955940623.\u001b[0m\n"
          ]
        },
        {
          "output_type": "stream",
          "name": "stdout",
          "text": [
            "[09:15:26] WARNING: /workspace/src/objective/regression_obj.cu:152: reg:linear is now deprecated in favor of reg:squarederror.\n"
          ]
        },
        {
          "output_type": "stream",
          "name": "stderr",
          "text": [
            "\u001b[32m[I 2022-09-07 09:15:27,480]\u001b[0m Trial 64 finished with value: 0.24346829822850302 and parameters: {'max_depth': 12, 'subsample': 0.9010394918756236, 'n_estimators': 1300, 'eta': 7.616685347391931e-08, 'alpha': 5.955878685172012e-05, 'lambda': 9.508000177480178e-06, 'gamma': 0.0010387489997617334, 'min_child_weight': 4, 'grow_policy': 'lossguide', 'colsample_bytree': 0.2941765399379108}. Best is trial 11 with value: 0.13464958955940623.\u001b[0m\n"
          ]
        },
        {
          "output_type": "stream",
          "name": "stdout",
          "text": [
            "[09:15:27] WARNING: /workspace/src/objective/regression_obj.cu:152: reg:linear is now deprecated in favor of reg:squarederror.\n"
          ]
        },
        {
          "output_type": "stream",
          "name": "stderr",
          "text": [
            "\u001b[32m[I 2022-09-07 09:15:28,116]\u001b[0m Trial 65 finished with value: 0.22352123959561448 and parameters: {'max_depth': 9, 'subsample': 0.6969125191648986, 'n_estimators': 1000, 'eta': 1.917521240809665e-08, 'alpha': 0.004256871446224896, 'lambda': 1.699759958074124e-08, 'gamma': 0.023738694120688655, 'min_child_weight': 3, 'grow_policy': 'lossguide', 'colsample_bytree': 0.8779197547601654}. Best is trial 11 with value: 0.13464958955940623.\u001b[0m\n"
          ]
        },
        {
          "output_type": "stream",
          "name": "stdout",
          "text": [
            "[09:15:28] WARNING: /workspace/src/objective/regression_obj.cu:152: reg:linear is now deprecated in favor of reg:squarederror.\n"
          ]
        },
        {
          "output_type": "stream",
          "name": "stderr",
          "text": [
            "\u001b[32m[I 2022-09-07 09:15:29,349]\u001b[0m Trial 66 finished with value: 0.32715830338258156 and parameters: {'max_depth': 15, 'subsample': 0.9980069181178469, 'n_estimators': 1800, 'eta': 0.0007433552961313776, 'alpha': 0.0001291009967797012, 'lambda': 1.1092747767794254e-06, 'gamma': 2.513436739704583e-05, 'min_child_weight': 3, 'grow_policy': 'lossguide', 'colsample_bytree': 0.9178250060992547}. Best is trial 11 with value: 0.13464958955940623.\u001b[0m\n"
          ]
        },
        {
          "output_type": "stream",
          "name": "stdout",
          "text": [
            "[09:15:29] WARNING: /workspace/src/objective/regression_obj.cu:152: reg:linear is now deprecated in favor of reg:squarederror.\n"
          ]
        },
        {
          "output_type": "stream",
          "name": "stderr",
          "text": [
            "\u001b[32m[I 2022-09-07 09:15:30,532]\u001b[0m Trial 67 finished with value: 0.2057300561940881 and parameters: {'max_depth': 14, 'subsample': 0.9545523803839462, 'n_estimators': 1900, 'eta': 4.889213289445358e-08, 'alpha': 0.35010110737511146, 'lambda': 6.125352712206007e-08, 'gamma': 0.08264241787245812, 'min_child_weight': 2, 'grow_policy': 'lossguide', 'colsample_bytree': 0.9525500001255912}. Best is trial 11 with value: 0.13464958955940623.\u001b[0m\n"
          ]
        },
        {
          "output_type": "stream",
          "name": "stdout",
          "text": [
            "[09:15:30] WARNING: /workspace/src/objective/regression_obj.cu:152: reg:linear is now deprecated in favor of reg:squarederror.\n"
          ]
        },
        {
          "output_type": "stream",
          "name": "stderr",
          "text": [
            "\u001b[32m[I 2022-09-07 09:15:31,068]\u001b[0m Trial 68 finished with value: 0.18393251905400534 and parameters: {'max_depth': 7, 'subsample': 0.8609608611799555, 'n_estimators': 900, 'eta': 1.9194901722481202e-07, 'alpha': 0.0012001645115699297, 'lambda': 3.6788289151913383e-07, 'gamma': 0.31499760154419454, 'min_child_weight': 4, 'grow_policy': 'lossguide', 'colsample_bytree': 0.8314467710889615}. Best is trial 11 with value: 0.13464958955940623.\u001b[0m\n"
          ]
        },
        {
          "output_type": "stream",
          "name": "stdout",
          "text": [
            "[09:15:31] WARNING: /workspace/src/objective/regression_obj.cu:152: reg:linear is now deprecated in favor of reg:squarederror.\n"
          ]
        },
        {
          "output_type": "stream",
          "name": "stderr",
          "text": [
            "\u001b[32m[I 2022-09-07 09:15:31,755]\u001b[0m Trial 69 finished with value: 0.2304504861020615 and parameters: {'max_depth': 6, 'subsample': 0.5845400645613569, 'n_estimators': 1200, 'eta': 1.018863773092671e-08, 'alpha': 0.000289722382677329, 'lambda': 3.531144890633675e-08, 'gamma': 0.009487257395672995, 'min_child_weight': 3, 'grow_policy': 'depthwise', 'colsample_bytree': 0.8682602968806573}. Best is trial 11 with value: 0.13464958955940623.\u001b[0m\n"
          ]
        },
        {
          "output_type": "stream",
          "name": "stdout",
          "text": [
            "[09:15:31] WARNING: /workspace/src/objective/regression_obj.cu:152: reg:linear is now deprecated in favor of reg:squarederror.\n"
          ]
        },
        {
          "output_type": "stream",
          "name": "stderr",
          "text": [
            "\u001b[32m[I 2022-09-07 09:15:32,732]\u001b[0m Trial 70 finished with value: 0.230335202414387 and parameters: {'max_depth': 14, 'subsample': 0.8215059565746479, 'n_estimators': 1700, 'eta': 0.05013217562245122, 'alpha': 0.0388020045833271, 'lambda': 3.757416242268711e-05, 'gamma': 6.796557320764142e-05, 'min_child_weight': 6, 'grow_policy': 'lossguide', 'colsample_bytree': 0.7971967957878819}. Best is trial 11 with value: 0.13464958955940623.\u001b[0m\n"
          ]
        },
        {
          "output_type": "stream",
          "name": "stdout",
          "text": [
            "[09:15:32] WARNING: /workspace/src/objective/regression_obj.cu:152: reg:linear is now deprecated in favor of reg:squarederror.\n"
          ]
        },
        {
          "output_type": "stream",
          "name": "stderr",
          "text": [
            "\u001b[32m[I 2022-09-07 09:15:33,046]\u001b[0m Trial 71 finished with value: 0.20238124772358418 and parameters: {'max_depth': 10, 'subsample': 0.7841140796997912, 'n_estimators': 600, 'eta': 6.244870886089064e-08, 'alpha': 2.1963572698550322e-05, 'lambda': 2.2723583405427834e-07, 'gamma': 2.1968035853736304e-07, 'min_child_weight': 2, 'grow_policy': 'lossguide', 'colsample_bytree': 0.893401365925029}. Best is trial 11 with value: 0.13464958955940623.\u001b[0m\n"
          ]
        },
        {
          "output_type": "stream",
          "name": "stdout",
          "text": [
            "[09:15:33] WARNING: /workspace/src/objective/regression_obj.cu:152: reg:linear is now deprecated in favor of reg:squarederror.\n"
          ]
        },
        {
          "output_type": "stream",
          "name": "stderr",
          "text": [
            "\u001b[32m[I 2022-09-07 09:15:33,307]\u001b[0m Trial 72 finished with value: 0.18046420201117636 and parameters: {'max_depth': 8, 'subsample': 0.7915397034212212, 'n_estimators': 500, 'eta': 4.2768496265402715e-08, 'alpha': 3.084187437460431e-05, 'lambda': 1.3791586584257744e-07, 'gamma': 1.3261601942656584e-07, 'min_child_weight': 2, 'grow_policy': 'lossguide', 'colsample_bytree': 0.6135134026276132}. Best is trial 11 with value: 0.13464958955940623.\u001b[0m\n"
          ]
        },
        {
          "output_type": "stream",
          "name": "stdout",
          "text": [
            "[09:15:33] WARNING: /workspace/src/objective/regression_obj.cu:152: reg:linear is now deprecated in favor of reg:squarederror.\n"
          ]
        },
        {
          "output_type": "stream",
          "name": "stderr",
          "text": [
            "\u001b[32m[I 2022-09-07 09:15:34,058]\u001b[0m Trial 73 finished with value: 0.24920698807887168 and parameters: {'max_depth': 11, 'subsample': 0.261013774536188, 'n_estimators': 1600, 'eta': 1.138631175033514e-07, 'alpha': 1.1588235581687575e-05, 'lambda': 5.9797908428006e-07, 'gamma': 1.0439115051221769e-06, 'min_child_weight': 2, 'grow_policy': 'lossguide', 'colsample_bytree': 0.7445090825435198}. Best is trial 11 with value: 0.13464958955940623.\u001b[0m\n"
          ]
        },
        {
          "output_type": "stream",
          "name": "stdout",
          "text": [
            "[09:15:34] WARNING: /workspace/src/objective/regression_obj.cu:152: reg:linear is now deprecated in favor of reg:squarederror.\n"
          ]
        },
        {
          "output_type": "stream",
          "name": "stderr",
          "text": [
            "\u001b[32m[I 2022-09-07 09:15:34,942]\u001b[0m Trial 74 finished with value: 0.16209704297713587 and parameters: {'max_depth': 13, 'subsample': 0.74272470843576, 'n_estimators': 1500, 'eta': 1.83627997776494e-08, 'alpha': 2.9087738261834727e-08, 'lambda': 9.002395583328672e-08, 'gamma': 4.450488503821549e-06, 'min_child_weight': 3, 'grow_policy': 'lossguide', 'colsample_bytree': 0.8509453427487444}. Best is trial 11 with value: 0.13464958955940623.\u001b[0m\n"
          ]
        },
        {
          "output_type": "stream",
          "name": "stdout",
          "text": [
            "[09:15:34] WARNING: /workspace/src/objective/regression_obj.cu:152: reg:linear is now deprecated in favor of reg:squarederror.\n"
          ]
        },
        {
          "output_type": "stream",
          "name": "stderr",
          "text": [
            "\u001b[32m[I 2022-09-07 09:15:35,723]\u001b[0m Trial 75 finished with value: 0.27899423801507256 and parameters: {'max_depth': 13, 'subsample': 0.7328709651506146, 'n_estimators': 1500, 'eta': 2.4883440564402163e-08, 'alpha': 2.652550670661654e-08, 'lambda': 7.778129419725416e-08, 'gamma': 4.423022329361167e-06, 'min_child_weight': 9, 'grow_policy': 'lossguide', 'colsample_bytree': 0.845725494802874}. Best is trial 11 with value: 0.13464958955940623.\u001b[0m\n"
          ]
        },
        {
          "output_type": "stream",
          "name": "stdout",
          "text": [
            "[09:15:35] WARNING: /workspace/src/objective/regression_obj.cu:152: reg:linear is now deprecated in favor of reg:squarederror.\n"
          ]
        },
        {
          "output_type": "stream",
          "name": "stderr",
          "text": [
            "\u001b[32m[I 2022-09-07 09:15:36,588]\u001b[0m Trial 76 finished with value: 0.21895735062609026 and parameters: {'max_depth': 13, 'subsample': 0.6403440940022491, 'n_estimators': 1400, 'eta': 1.8535523093880872e-08, 'alpha': 1.6830329807396836e-07, 'lambda': 0.00040159856023598957, 'gamma': 0.0002854169253564769, 'min_child_weight': 3, 'grow_policy': 'lossguide', 'colsample_bytree': 0.9180014127133784}. Best is trial 11 with value: 0.13464958955940623.\u001b[0m\n"
          ]
        },
        {
          "output_type": "stream",
          "name": "stdout",
          "text": [
            "[09:15:36] WARNING: /workspace/src/objective/regression_obj.cu:152: reg:linear is now deprecated in favor of reg:squarederror.\n"
          ]
        },
        {
          "output_type": "stream",
          "name": "stderr",
          "text": [
            "\u001b[32m[I 2022-09-07 09:15:37,283]\u001b[0m Trial 77 finished with value: 0.24682628446811494 and parameters: {'max_depth': 12, 'subsample': 0.6817328554150215, 'n_estimators': 1300, 'eta': 1.3865225037795653e-08, 'alpha': 9.211485510363256e-07, 'lambda': 2.1931651144887436e-08, 'gamma': 0.002076952350260335, 'min_child_weight': 10, 'grow_policy': 'lossguide', 'colsample_bytree': 0.9373840151943763}. Best is trial 11 with value: 0.13464958955940623.\u001b[0m\n"
          ]
        },
        {
          "output_type": "stream",
          "name": "stdout",
          "text": [
            "[09:15:37] WARNING: /workspace/src/objective/regression_obj.cu:152: reg:linear is now deprecated in favor of reg:squarederror.\n"
          ]
        },
        {
          "output_type": "stream",
          "name": "stderr",
          "text": [
            "\u001b[32m[I 2022-09-07 09:15:38,025]\u001b[0m Trial 78 finished with value: 0.19331617825785627 and parameters: {'max_depth': 12, 'subsample': 0.7501177787454197, 'n_estimators': 1100, 'eta': 3.75331500863571e-07, 'alpha': 2.374774242153846e-08, 'lambda': 1.3985507243972639e-08, 'gamma': 0.00014004342811190323, 'min_child_weight': 3, 'grow_policy': 'lossguide', 'colsample_bytree': 0.9752767978253813}. Best is trial 11 with value: 0.13464958955940623.\u001b[0m\n"
          ]
        },
        {
          "output_type": "stream",
          "name": "stdout",
          "text": [
            "[09:15:38] WARNING: /workspace/src/objective/regression_obj.cu:152: reg:linear is now deprecated in favor of reg:squarederror.\n"
          ]
        },
        {
          "output_type": "stream",
          "name": "stderr",
          "text": [
            "\u001b[32m[I 2022-09-07 09:15:38,621]\u001b[0m Trial 79 finished with value: 0.20492297291433964 and parameters: {'max_depth': 8, 'subsample': 0.7187167018154256, 'n_estimators': 1000, 'eta': 1.615526682518459e-07, 'alpha': 4.944258246472753e-08, 'lambda': 1.1368000680483786e-07, 'gamma': 1.346696646130881e-05, 'min_child_weight': 4, 'grow_policy': 'lossguide', 'colsample_bytree': 0.8277363930053238}. Best is trial 11 with value: 0.13464958955940623.\u001b[0m\n"
          ]
        },
        {
          "output_type": "stream",
          "name": "stdout",
          "text": [
            "[09:15:38] WARNING: /workspace/src/objective/regression_obj.cu:152: reg:linear is now deprecated in favor of reg:squarederror.\n"
          ]
        },
        {
          "output_type": "stream",
          "name": "stderr",
          "text": [
            "\u001b[32m[I 2022-09-07 09:15:39,386]\u001b[0m Trial 80 finished with value: 0.13839400971583996 and parameters: {'max_depth': 14, 'subsample': 0.937513633053584, 'n_estimators': 1100, 'eta': 3.363835457882394e-08, 'alpha': 1.081580932066709e-07, 'lambda': 5.146159810943108e-06, 'gamma': 0.0004992018618440742, 'min_child_weight': 4, 'grow_policy': 'lossguide', 'colsample_bytree': 0.9024136536811322}. Best is trial 11 with value: 0.13464958955940623.\u001b[0m\n"
          ]
        },
        {
          "output_type": "stream",
          "name": "stdout",
          "text": [
            "[09:15:39] WARNING: /workspace/src/objective/regression_obj.cu:152: reg:linear is now deprecated in favor of reg:squarederror.\n"
          ]
        },
        {
          "output_type": "stream",
          "name": "stderr",
          "text": [
            "\u001b[32m[I 2022-09-07 09:15:40,038]\u001b[0m Trial 81 finished with value: 0.18877827189164745 and parameters: {'max_depth': 14, 'subsample': 0.9265668236385511, 'n_estimators': 1100, 'eta': 4.3339406115943265e-08, 'alpha': 7.077903706254055e-08, 'lambda': 3.361097349588823e-06, 'gamma': 0.0006093876705463069, 'min_child_weight': 8, 'grow_policy': 'lossguide', 'colsample_bytree': 0.8972001800573354}. Best is trial 11 with value: 0.13464958955940623.\u001b[0m\n"
          ]
        },
        {
          "output_type": "stream",
          "name": "stdout",
          "text": [
            "[09:15:40] WARNING: /workspace/src/objective/regression_obj.cu:152: reg:linear is now deprecated in favor of reg:squarederror.\n"
          ]
        },
        {
          "output_type": "stream",
          "name": "stderr",
          "text": [
            "\u001b[32m[I 2022-09-07 09:15:40,772]\u001b[0m Trial 82 finished with value: 0.1638730115595176 and parameters: {'max_depth': 14, 'subsample': 0.9727288285322818, 'n_estimators': 1100, 'eta': 8.098294282915235e-08, 'alpha': 1.1934558676921709e-07, 'lambda': 5.6573874940412725e-06, 'gamma': 0.002315519491667371, 'min_child_weight': 4, 'grow_policy': 'lossguide', 'colsample_bytree': 0.8679615732539474}. Best is trial 11 with value: 0.13464958955940623.\u001b[0m\n"
          ]
        },
        {
          "output_type": "stream",
          "name": "stdout",
          "text": [
            "[09:15:40] WARNING: /workspace/src/objective/regression_obj.cu:152: reg:linear is now deprecated in favor of reg:squarederror.\n"
          ]
        },
        {
          "output_type": "stream",
          "name": "stderr",
          "text": [
            "\u001b[32m[I 2022-09-07 09:15:41,616]\u001b[0m Trial 83 finished with value: 0.12642259752853124 and parameters: {'max_depth': 13, 'subsample': 0.899097452434281, 'n_estimators': 1300, 'eta': 3.293499515606934e-08, 'alpha': 3.518246829839382e-08, 'lambda': 1.4370253285209734e-05, 'gamma': 4.337613111338655e-05, 'min_child_weight': 5, 'grow_policy': 'lossguide', 'colsample_bytree': 0.9470194979435271}. Best is trial 83 with value: 0.12642259752853124.\u001b[0m\n"
          ]
        },
        {
          "output_type": "stream",
          "name": "stdout",
          "text": [
            "[09:15:41] WARNING: /workspace/src/objective/regression_obj.cu:152: reg:linear is now deprecated in favor of reg:squarederror.\n"
          ]
        },
        {
          "output_type": "stream",
          "name": "stderr",
          "text": [
            "\u001b[32m[I 2022-09-07 09:15:42,473]\u001b[0m Trial 84 finished with value: 0.18024225993873091 and parameters: {'max_depth': 15, 'subsample': 0.8979801434322336, 'n_estimators': 1300, 'eta': 0.0020524095740726764, 'alpha': 2.650654433351501e-07, 'lambda': 0.0001031604757416452, 'gamma': 3.8706839927692256e-05, 'min_child_weight': 5, 'grow_policy': 'lossguide', 'colsample_bytree': 0.9286639520022888}. Best is trial 83 with value: 0.12642259752853124.\u001b[0m\n"
          ]
        },
        {
          "output_type": "stream",
          "name": "stdout",
          "text": [
            "[09:15:42] WARNING: /workspace/src/objective/regression_obj.cu:152: reg:linear is now deprecated in favor of reg:squarederror.\n"
          ]
        },
        {
          "output_type": "stream",
          "name": "stderr",
          "text": [
            "\u001b[32m[I 2022-09-07 09:15:43,265]\u001b[0m Trial 85 finished with value: 0.13295290211486574 and parameters: {'max_depth': 13, 'subsample': 0.9425135606061978, 'n_estimators': 1200, 'eta': 3.140484698340476e-07, 'alpha': 7.71315453016385e-05, 'lambda': 1.4254986745299532e-05, 'gamma': 0.00016723538953195225, 'min_child_weight': 5, 'grow_policy': 'lossguide', 'colsample_bytree': 0.9494953960057009}. Best is trial 83 with value: 0.12642259752853124.\u001b[0m\n"
          ]
        },
        {
          "output_type": "stream",
          "name": "stdout",
          "text": [
            "[09:15:43] WARNING: /workspace/src/objective/regression_obj.cu:152: reg:linear is now deprecated in favor of reg:squarederror.\n"
          ]
        },
        {
          "output_type": "stream",
          "name": "stderr",
          "text": [
            "\u001b[32m[I 2022-09-07 09:15:44,055]\u001b[0m Trial 86 finished with value: 0.15449725365058334 and parameters: {'max_depth': 12, 'subsample': 0.8852924932446921, 'n_estimators': 1200, 'eta': 7.115121005671065e-07, 'alpha': 5.436934099194491e-05, 'lambda': 1.41019461005106e-05, 'gamma': 0.00017186232383064364, 'min_child_weight': 5, 'grow_policy': 'depthwise', 'colsample_bytree': 0.9567865269684435}. Best is trial 83 with value: 0.12642259752853124.\u001b[0m\n"
          ]
        },
        {
          "output_type": "stream",
          "name": "stdout",
          "text": [
            "[09:15:44] WARNING: /workspace/src/objective/regression_obj.cu:152: reg:linear is now deprecated in favor of reg:squarederror.\n"
          ]
        },
        {
          "output_type": "stream",
          "name": "stderr",
          "text": [
            "\u001b[32m[I 2022-09-07 09:15:44,823]\u001b[0m Trial 87 finished with value: 0.20659059623493686 and parameters: {'max_depth': 12, 'subsample': 0.8783290848881543, 'n_estimators': 1200, 'eta': 3.8315397121208174e-07, 'alpha': 7.379489314100415e-05, 'lambda': 1.5186037790931637e-05, 'gamma': 3.900378571154571e-05, 'min_child_weight': 6, 'grow_policy': 'depthwise', 'colsample_bytree': 0.9704260496773762}. Best is trial 83 with value: 0.12642259752853124.\u001b[0m\n"
          ]
        },
        {
          "output_type": "stream",
          "name": "stdout",
          "text": [
            "[09:15:44] WARNING: /workspace/src/objective/regression_obj.cu:152: reg:linear is now deprecated in favor of reg:squarederror.\n"
          ]
        },
        {
          "output_type": "stream",
          "name": "stderr",
          "text": [
            "\u001b[32m[I 2022-09-07 09:15:45,591]\u001b[0m Trial 88 finished with value: 0.20093153152683718 and parameters: {'max_depth': 11, 'subsample': 0.9438567929424249, 'n_estimators': 1200, 'eta': 9.366054007312514e-07, 'alpha': 1.098344556691181e-08, 'lambda': 2.530878972698505e-05, 'gamma': 0.00022168400898736057, 'min_child_weight': 5, 'grow_policy': 'depthwise', 'colsample_bytree': 0.953789509141981}. Best is trial 83 with value: 0.12642259752853124.\u001b[0m\n"
          ]
        },
        {
          "output_type": "stream",
          "name": "stdout",
          "text": [
            "[09:15:45] WARNING: /workspace/src/objective/regression_obj.cu:152: reg:linear is now deprecated in favor of reg:squarederror.\n"
          ]
        },
        {
          "output_type": "stream",
          "name": "stderr",
          "text": [
            "\u001b[32m[I 2022-09-07 09:15:46,399]\u001b[0m Trial 89 finished with value: 0.22719650734369917 and parameters: {'max_depth': 13, 'subsample': 0.916742325592119, 'n_estimators': 1300, 'eta': 5.431702928907354e-07, 'alpha': 1.6759623426395242e-08, 'lambda': 1.28921277050164e-05, 'gamma': 0.00011522108202379378, 'min_child_weight': 6, 'grow_policy': 'depthwise', 'colsample_bytree': 0.9973913757243414}. Best is trial 83 with value: 0.12642259752853124.\u001b[0m\n"
          ]
        },
        {
          "output_type": "stream",
          "name": "stdout",
          "text": [
            "[09:15:46] WARNING: /workspace/src/objective/regression_obj.cu:152: reg:linear is now deprecated in favor of reg:squarederror.\n"
          ]
        },
        {
          "output_type": "stream",
          "name": "stderr",
          "text": [
            "\u001b[32m[I 2022-09-07 09:15:47,149]\u001b[0m Trial 90 finished with value: 0.21125638599167834 and parameters: {'max_depth': 12, 'subsample': 0.8317581786671165, 'n_estimators': 1200, 'eta': 1.258998089576492e-07, 'alpha': 0.0001756975538639967, 'lambda': 0.00015836287344207377, 'gamma': 5.748531696110405e-05, 'min_child_weight': 5, 'grow_policy': 'depthwise', 'colsample_bytree': 0.9067942452746809}. Best is trial 83 with value: 0.12642259752853124.\u001b[0m\n"
          ]
        },
        {
          "output_type": "stream",
          "name": "stdout",
          "text": [
            "[09:15:47] WARNING: /workspace/src/objective/regression_obj.cu:152: reg:linear is now deprecated in favor of reg:squarederror.\n"
          ]
        },
        {
          "output_type": "stream",
          "name": "stderr",
          "text": [
            "\u001b[32m[I 2022-09-07 09:15:47,798]\u001b[0m Trial 91 finished with value: 0.21506086720266365 and parameters: {'max_depth': 13, 'subsample': 0.8949239514991199, 'n_estimators': 1000, 'eta': 2.3506178076833116e-07, 'alpha': 4.6635351606103035e-05, 'lambda': 5.984654410372626e-06, 'gamma': 0.0003609592378093658, 'min_child_weight': 5, 'grow_policy': 'depthwise', 'colsample_bytree': 0.9512652030457132}. Best is trial 83 with value: 0.12642259752853124.\u001b[0m\n"
          ]
        },
        {
          "output_type": "stream",
          "name": "stdout",
          "text": [
            "[09:15:47] WARNING: /workspace/src/objective/regression_obj.cu:152: reg:linear is now deprecated in favor of reg:squarederror.\n"
          ]
        },
        {
          "output_type": "stream",
          "name": "stderr",
          "text": [
            "\u001b[32m[I 2022-09-07 09:15:48,358]\u001b[0m Trial 92 finished with value: 0.20713847717390974 and parameters: {'max_depth': 12, 'subsample': 0.860144581320074, 'n_estimators': 900, 'eta': 3.542743995340362e-08, 'alpha': 9.122393808248598e-06, 'lambda': 3.665407101737353e-05, 'gamma': 0.00016501036381434163, 'min_child_weight': 6, 'grow_policy': 'lossguide', 'colsample_bytree': 0.9803085912111645}. Best is trial 83 with value: 0.12642259752853124.\u001b[0m\n"
          ]
        },
        {
          "output_type": "stream",
          "name": "stdout",
          "text": [
            "[09:15:48] WARNING: /workspace/src/objective/regression_obj.cu:152: reg:linear is now deprecated in favor of reg:squarederror.\n"
          ]
        },
        {
          "output_type": "stream",
          "name": "stderr",
          "text": [
            "\u001b[32m[I 2022-09-07 09:15:49,049]\u001b[0m Trial 93 finished with value: 0.14364761769668122 and parameters: {'max_depth': 14, 'subsample': 0.9372241799024188, 'n_estimators': 1100, 'eta': 2.239626872169984e-06, 'alpha': 0.00011655086497669219, 'lambda': 3.730275817877628e-06, 'gamma': 0.0009293899342590991, 'min_child_weight': 5, 'grow_policy': 'lossguide', 'colsample_bytree': 0.8814559416196993}. Best is trial 83 with value: 0.12642259752853124.\u001b[0m\n"
          ]
        },
        {
          "output_type": "stream",
          "name": "stdout",
          "text": [
            "[09:15:49] WARNING: /workspace/src/objective/regression_obj.cu:152: reg:linear is now deprecated in favor of reg:squarederror.\n"
          ]
        },
        {
          "output_type": "stream",
          "name": "stderr",
          "text": [
            "\u001b[32m[I 2022-09-07 09:15:49,760]\u001b[0m Trial 94 finished with value: 0.20430621852536043 and parameters: {'max_depth': 14, 'subsample': 0.9349402596448868, 'n_estimators': 1100, 'eta': 1.6166799215741664e-06, 'alpha': 3.92611013911391e-08, 'lambda': 2.677767898342974e-06, 'gamma': 0.0003590456464139649, 'min_child_weight': 5, 'grow_policy': 'lossguide', 'colsample_bytree': 0.8828995644602493}. Best is trial 83 with value: 0.12642259752853124.\u001b[0m\n"
          ]
        },
        {
          "output_type": "stream",
          "name": "stdout",
          "text": [
            "[09:15:49] WARNING: /workspace/src/objective/regression_obj.cu:152: reg:linear is now deprecated in favor of reg:squarederror.\n"
          ]
        },
        {
          "output_type": "stream",
          "name": "stderr",
          "text": [
            "\u001b[32m[I 2022-09-07 09:15:50,520]\u001b[0m Trial 95 finished with value: 0.21443013622453708 and parameters: {'max_depth': 14, 'subsample': 0.9790432282016475, 'n_estimators': 1200, 'eta': 6.57022086926e-07, 'alpha': 0.00010018562570562871, 'lambda': 8.206843433348156e-06, 'gamma': 8.037703111991363e-05, 'min_child_weight': 5, 'grow_policy': 'lossguide', 'colsample_bytree': 0.9045783475680921}. Best is trial 83 with value: 0.12642259752853124.\u001b[0m\n"
          ]
        },
        {
          "output_type": "stream",
          "name": "stdout",
          "text": [
            "[09:15:50] WARNING: /workspace/src/objective/regression_obj.cu:152: reg:linear is now deprecated in favor of reg:squarederror.\n"
          ]
        },
        {
          "output_type": "stream",
          "name": "stderr",
          "text": [
            "\u001b[32m[I 2022-09-07 09:15:51,224]\u001b[0m Trial 96 finished with value: 0.20859597599822624 and parameters: {'max_depth': 15, 'subsample': 0.9513881455361968, 'n_estimators': 1100, 'eta': 3.4826161240317296e-05, 'alpha': 0.0003071598036275084, 'lambda': 1.5844241491581282e-06, 'gamma': 0.0009230555575166236, 'min_child_weight': 5, 'grow_policy': 'depthwise', 'colsample_bytree': 0.8806554734222047}. Best is trial 83 with value: 0.12642259752853124.\u001b[0m\n"
          ]
        },
        {
          "output_type": "stream",
          "name": "stdout",
          "text": [
            "[09:15:51] WARNING: /workspace/src/objective/regression_obj.cu:152: reg:linear is now deprecated in favor of reg:squarederror.\n"
          ]
        },
        {
          "output_type": "stream",
          "name": "stderr",
          "text": [
            "\u001b[32m[I 2022-09-07 09:15:52,106]\u001b[0m Trial 97 finished with value: 0.2526432493429154 and parameters: {'max_depth': 11, 'subsample': 0.9157493590181754, 'n_estimators': 1300, 'eta': 2.8818743674108676e-07, 'alpha': 1.8577863661945185e-05, 'lambda': 3.6374890359159857e-06, 'gamma': 0.001328066343262897, 'min_child_weight': 4, 'grow_policy': 'lossguide', 'colsample_bytree': 0.9344647562527045}. Best is trial 83 with value: 0.12642259752853124.\u001b[0m\n"
          ]
        },
        {
          "output_type": "stream",
          "name": "stdout",
          "text": [
            "[09:15:52] WARNING: /workspace/src/objective/regression_obj.cu:152: reg:linear is now deprecated in favor of reg:squarederror.\n"
          ]
        },
        {
          "output_type": "stream",
          "name": "stderr",
          "text": [
            "\u001b[32m[I 2022-09-07 09:15:52,812]\u001b[0m Trial 98 finished with value: 0.17650384033781696 and parameters: {'max_depth': 13, 'subsample': 0.9997341359674299, 'n_estimators': 1100, 'eta': 7.641275549202643e-08, 'alpha': 7.957963522013968e-08, 'lambda': 7.508890581544977e-05, 'gamma': 0.0005644130488563268, 'min_child_weight': 5, 'grow_policy': 'lossguide', 'colsample_bytree': 0.9632525262237466}. Best is trial 83 with value: 0.12642259752853124.\u001b[0m\n"
          ]
        },
        {
          "output_type": "stream",
          "name": "stdout",
          "text": [
            "[09:15:52] WARNING: /workspace/src/objective/regression_obj.cu:152: reg:linear is now deprecated in favor of reg:squarederror.\n"
          ]
        },
        {
          "output_type": "stream",
          "name": "stderr",
          "text": [
            "\u001b[32m[I 2022-09-07 09:15:53,770]\u001b[0m Trial 99 finished with value: 0.24230423160483652 and parameters: {'max_depth': 14, 'subsample': 0.9575945910297077, 'n_estimators': 1400, 'eta': 1.8828583804508153e-06, 'alpha': 4.362563164124785e-05, 'lambda': 3.446598271248838e-05, 'gamma': 1.9879495985497208e-05, 'min_child_weight': 4, 'grow_policy': 'lossguide', 'colsample_bytree': 0.8613511500141382}. Best is trial 83 with value: 0.12642259752853124.\u001b[0m\n"
          ]
        },
        {
          "output_type": "stream",
          "name": "stdout",
          "text": [
            "[09:15:53] WARNING: /workspace/src/objective/regression_obj.cu:152: reg:linear is now deprecated in favor of reg:squarederror.\n"
          ]
        },
        {
          "output_type": "stream",
          "name": "stderr",
          "text": [
            "\u001b[32m[I 2022-09-07 09:15:54,327]\u001b[0m Trial 100 finished with value: 0.20960170881960385 and parameters: {'max_depth': 15, 'subsample': 0.8785914723466829, 'n_estimators': 1000, 'eta': 0.00035051715284709284, 'alpha': 1.807808437037107e-06, 'lambda': 5.608609903189052e-05, 'gamma': 0.0002332262389054304, 'min_child_weight': 6, 'grow_policy': 'lossguide', 'colsample_bytree': 0.5511252435925021}. Best is trial 83 with value: 0.12642259752853124.\u001b[0m\n"
          ]
        },
        {
          "output_type": "stream",
          "name": "stdout",
          "text": [
            "[09:15:54] WARNING: /workspace/src/objective/regression_obj.cu:152: reg:linear is now deprecated in favor of reg:squarederror.\n"
          ]
        },
        {
          "output_type": "stream",
          "name": "stderr",
          "text": [
            "\u001b[32m[I 2022-09-07 09:15:54,982]\u001b[0m Trial 101 finished with value: 0.3131824087745655 and parameters: {'max_depth': 7, 'subsample': 0.905629694020507, 'n_estimators': 1000, 'eta': 1.4890733920785485e-07, 'alpha': 7.108768126604319e-06, 'lambda': 1.2095299036157863e-05, 'gamma': 0.0001068098561238541, 'min_child_weight': 4, 'grow_policy': 'lossguide', 'colsample_bytree': 0.9498513622207012}. Best is trial 83 with value: 0.12642259752853124.\u001b[0m\n"
          ]
        },
        {
          "output_type": "stream",
          "name": "stdout",
          "text": [
            "[09:15:55] WARNING: /workspace/src/objective/regression_obj.cu:152: reg:linear is now deprecated in favor of reg:squarederror.\n"
          ]
        },
        {
          "output_type": "stream",
          "name": "stderr",
          "text": [
            "\u001b[32m[I 2022-09-07 09:15:55,765]\u001b[0m Trial 102 finished with value: 0.1644799559486904 and parameters: {'max_depth': 12, 'subsample': 0.929724624765706, 'n_estimators': 1200, 'eta': 4.605853554390553e-06, 'alpha': 9.713433069679488e-05, 'lambda': 1.8662207764648122e-05, 'gamma': 0.0007802374472225758, 'min_child_weight': 5, 'grow_policy': 'lossguide', 'colsample_bytree': 0.9047287970813258}. Best is trial 83 with value: 0.12642259752853124.\u001b[0m\n"
          ]
        },
        {
          "output_type": "stream",
          "name": "stdout",
          "text": [
            "[09:15:55] WARNING: /workspace/src/objective/regression_obj.cu:152: reg:linear is now deprecated in favor of reg:squarederror.\n"
          ]
        },
        {
          "output_type": "stream",
          "name": "stderr",
          "text": [
            "\u001b[32m[I 2022-09-07 09:15:56,393]\u001b[0m Trial 103 finished with value: 0.18049503097568925 and parameters: {'max_depth': 13, 'subsample': 0.8095906868914733, 'n_estimators': 900, 'eta': 5.687676844942968e-08, 'alpha': 3.0057679536489807e-06, 'lambda': 5.616249772839777e-06, 'gamma': 0.00047883666041921737, 'min_child_weight': 3, 'grow_policy': 'lossguide', 'colsample_bytree': 0.9775275524182072}. Best is trial 83 with value: 0.12642259752853124.\u001b[0m\n"
          ]
        },
        {
          "output_type": "stream",
          "name": "stdout",
          "text": [
            "[09:15:56] WARNING: /workspace/src/objective/regression_obj.cu:152: reg:linear is now deprecated in favor of reg:squarederror.\n"
          ]
        },
        {
          "output_type": "stream",
          "name": "stderr",
          "text": [
            "\u001b[32m[I 2022-09-07 09:15:57,108]\u001b[0m Trial 104 finished with value: 0.17534599268414297 and parameters: {'max_depth': 8, 'subsample': 0.8845810544697167, 'n_estimators': 1100, 'eta': 2.8929112210800794e-07, 'alpha': 8.063481248463644e-07, 'lambda': 7.73777151540249e-06, 'gamma': 0.004333881666488987, 'min_child_weight': 4, 'grow_policy': 'lossguide', 'colsample_bytree': 0.9325337190799695}. Best is trial 83 with value: 0.12642259752853124.\u001b[0m\n"
          ]
        },
        {
          "output_type": "stream",
          "name": "stdout",
          "text": [
            "[09:15:57] WARNING: /workspace/src/objective/regression_obj.cu:152: reg:linear is now deprecated in favor of reg:squarederror.\n"
          ]
        },
        {
          "output_type": "stream",
          "name": "stderr",
          "text": [
            "\u001b[32m[I 2022-09-07 09:15:57,634]\u001b[0m Trial 105 finished with value: 0.265154690271749 and parameters: {'max_depth': 9, 'subsample': 0.8523112118693329, 'n_estimators': 800, 'eta': 9.929878405728451e-08, 'alpha': 3.710288242785872e-05, 'lambda': 2.9045613263993496e-05, 'gamma': 0.00017634102403951124, 'min_child_weight': 4, 'grow_policy': 'lossguide', 'colsample_bytree': 0.8866610933418808}. Best is trial 83 with value: 0.12642259752853124.\u001b[0m\n"
          ]
        },
        {
          "output_type": "stream",
          "name": "stdout",
          "text": [
            "[09:15:57] WARNING: /workspace/src/objective/regression_obj.cu:152: reg:linear is now deprecated in favor of reg:squarederror.\n"
          ]
        },
        {
          "output_type": "stream",
          "name": "stderr",
          "text": [
            "\u001b[32m[I 2022-09-07 09:15:58,278]\u001b[0m Trial 106 finished with value: 0.1767970020592039 and parameters: {'max_depth': 13, 'subsample': 0.9835336556288148, 'n_estimators': 1000, 'eta': 3.210536925725862e-08, 'alpha': 2.5483906273487415e-07, 'lambda': 1.233731071888817e-06, 'gamma': 0.0011616244357103992, 'min_child_weight': 5, 'grow_policy': 'lossguide', 'colsample_bytree': 0.790472524818889}. Best is trial 83 with value: 0.12642259752853124.\u001b[0m\n"
          ]
        },
        {
          "output_type": "stream",
          "name": "stdout",
          "text": [
            "[09:15:58] WARNING: /workspace/src/objective/regression_obj.cu:152: reg:linear is now deprecated in favor of reg:squarederror.\n"
          ]
        },
        {
          "output_type": "stream",
          "name": "stderr",
          "text": [
            "\u001b[32m[I 2022-09-07 09:15:59,380]\u001b[0m Trial 107 finished with value: 0.23246049563549967 and parameters: {'max_depth': 6, 'subsample': 0.950501266768888, 'n_estimators': 1900, 'eta': 8.377827554405966e-07, 'alpha': 0.010230875499691185, 'lambda': 2.5967284460466738e-06, 'gamma': 0.0002993350291140358, 'min_child_weight': 3, 'grow_policy': 'lossguide', 'colsample_bytree': 0.9154792274752855}. Best is trial 83 with value: 0.12642259752853124.\u001b[0m\n"
          ]
        },
        {
          "output_type": "stream",
          "name": "stdout",
          "text": [
            "[09:15:59] WARNING: /workspace/src/objective/regression_obj.cu:152: reg:linear is now deprecated in favor of reg:squarederror.\n"
          ]
        },
        {
          "output_type": "stream",
          "name": "stderr",
          "text": [
            "\u001b[32m[I 2022-09-07 09:15:59,995]\u001b[0m Trial 108 finished with value: 0.21712677664970573 and parameters: {'max_depth': 12, 'subsample': 0.5080244721000478, 'n_estimators': 1100, 'eta': 6.65424006392899e-06, 'alpha': 1.721110792221426e-08, 'lambda': 0.17788532447980104, 'gamma': 0.0031215952982672573, 'min_child_weight': 4, 'grow_policy': 'depthwise', 'colsample_bytree': 0.8113004877753511}. Best is trial 83 with value: 0.12642259752853124.\u001b[0m\n"
          ]
        },
        {
          "output_type": "stream",
          "name": "stdout",
          "text": [
            "[09:16:00] WARNING: /workspace/src/objective/regression_obj.cu:152: reg:linear is now deprecated in favor of reg:squarederror.\n"
          ]
        },
        {
          "output_type": "stream",
          "name": "stderr",
          "text": [
            "\u001b[32m[I 2022-09-07 09:16:00,745]\u001b[0m Trial 109 finished with value: 0.15316650772390433 and parameters: {'max_depth': 11, 'subsample': 0.920350493553952, 'n_estimators': 1200, 'eta': 1.829020997837201e-07, 'alpha': 0.0034439611794539874, 'lambda': 3.927722941532969e-06, 'gamma': 0.00167969917649921, 'min_child_weight': 6, 'grow_policy': 'lossguide', 'colsample_bytree': 0.9888357570716214}. Best is trial 83 with value: 0.12642259752853124.\u001b[0m\n"
          ]
        },
        {
          "output_type": "stream",
          "name": "stdout",
          "text": [
            "[09:16:00] WARNING: /workspace/src/objective/regression_obj.cu:152: reg:linear is now deprecated in favor of reg:squarederror.\n"
          ]
        },
        {
          "output_type": "stream",
          "name": "stderr",
          "text": [
            "\u001b[32m[I 2022-09-07 09:16:01,459]\u001b[0m Trial 110 finished with value: 0.24453792696445623 and parameters: {'max_depth': 11, 'subsample': 0.922161198592352, 'n_estimators': 1200, 'eta': 1.3764224685086057e-08, 'alpha': 0.023861049990969687, 'lambda': 4.30896106514363e-06, 'gamma': 0.001783159142344263, 'min_child_weight': 7, 'grow_policy': 'lossguide', 'colsample_bytree': 0.9974376378355602}. Best is trial 83 with value: 0.12642259752853124.\u001b[0m\n"
          ]
        },
        {
          "output_type": "stream",
          "name": "stdout",
          "text": [
            "[09:16:01] WARNING: /workspace/src/objective/regression_obj.cu:152: reg:linear is now deprecated in favor of reg:squarederror.\n"
          ]
        },
        {
          "output_type": "stream",
          "name": "stderr",
          "text": [
            "\u001b[32m[I 2022-09-07 09:16:02,201]\u001b[0m Trial 111 finished with value: 0.2092350450481398 and parameters: {'max_depth': 12, 'subsample': 0.9031517038447203, 'n_estimators': 1200, 'eta': 1.879419697344781e-07, 'alpha': 0.00342233730940541, 'lambda': 6.7378745716733375e-06, 'gamma': 0.0006873349470423564, 'min_child_weight': 6, 'grow_policy': 'lossguide', 'colsample_bytree': 0.9399778736894165}. Best is trial 83 with value: 0.12642259752853124.\u001b[0m\n"
          ]
        },
        {
          "output_type": "stream",
          "name": "stdout",
          "text": [
            "[09:16:02] WARNING: /workspace/src/objective/regression_obj.cu:152: reg:linear is now deprecated in favor of reg:squarederror.\n"
          ]
        },
        {
          "output_type": "stream",
          "name": "stderr",
          "text": [
            "\u001b[32m[I 2022-09-07 09:16:02,880]\u001b[0m Trial 112 finished with value: 0.20242270259355477 and parameters: {'max_depth': 11, 'subsample': 0.9656441723046606, 'n_estimators': 1100, 'eta': 6.346018035689636e-08, 'alpha': 0.0660852948423945, 'lambda': 1.7428101965293278e-05, 'gamma': 0.008196211779855496, 'min_child_weight': 7, 'grow_policy': 'lossguide', 'colsample_bytree': 0.964054006380972}. Best is trial 83 with value: 0.12642259752853124.\u001b[0m\n"
          ]
        },
        {
          "output_type": "stream",
          "name": "stdout",
          "text": [
            "[09:16:02] WARNING: /workspace/src/objective/regression_obj.cu:152: reg:linear is now deprecated in favor of reg:squarederror.\n"
          ]
        },
        {
          "output_type": "stream",
          "name": "stderr",
          "text": [
            "\u001b[32m[I 2022-09-07 09:16:03,516]\u001b[0m Trial 113 finished with value: 0.3149190967929039 and parameters: {'max_depth': 7, 'subsample': 0.9480010631274891, 'n_estimators': 1000, 'eta': 4.999911725939564e-07, 'alpha': 0.01280368992988655, 'lambda': 1.1405489638752343e-05, 'gamma': 0.0025332248296693347, 'min_child_weight': 5, 'grow_policy': 'lossguide', 'colsample_bytree': 0.9865748389394667}. Best is trial 83 with value: 0.12642259752853124.\u001b[0m\n"
          ]
        },
        {
          "output_type": "stream",
          "name": "stdout",
          "text": [
            "[09:16:03] WARNING: /workspace/src/objective/regression_obj.cu:152: reg:linear is now deprecated in favor of reg:squarederror.\n"
          ]
        },
        {
          "output_type": "stream",
          "name": "stderr",
          "text": [
            "\u001b[32m[I 2022-09-07 09:16:04,403]\u001b[0m Trial 114 finished with value: 0.2010067361998844 and parameters: {'max_depth': 10, 'subsample': 0.8904413193104597, 'n_estimators': 1300, 'eta': 1.0499503867890871e-07, 'alpha': 0.001135532346101702, 'lambda': 0.0008919229243450746, 'gamma': 0.0004275979110143407, 'min_child_weight': 3, 'grow_policy': 'lossguide', 'colsample_bytree': 0.913326286369445}. Best is trial 83 with value: 0.12642259752853124.\u001b[0m\n"
          ]
        },
        {
          "output_type": "stream",
          "name": "stdout",
          "text": [
            "[09:16:04] WARNING: /workspace/src/objective/regression_obj.cu:152: reg:linear is now deprecated in favor of reg:squarederror.\n"
          ]
        },
        {
          "output_type": "stream",
          "name": "stderr",
          "text": [
            "\u001b[32m[I 2022-09-07 09:16:05,218]\u001b[0m Trial 115 finished with value: 0.21374203914883155 and parameters: {'max_depth': 11, 'subsample': 0.936591877129054, 'n_estimators': 1200, 'eta': 1.1860852349965124e-05, 'alpha': 0.04692108013488659, 'lambda': 6.859974850002973e-07, 'gamma': 3.4410782054018486e-05, 'min_child_weight': 5, 'grow_policy': 'lossguide', 'colsample_bytree': 0.9454445788893417}. Best is trial 83 with value: 0.12642259752853124.\u001b[0m\n"
          ]
        },
        {
          "output_type": "stream",
          "name": "stdout",
          "text": [
            "[09:16:05] WARNING: /workspace/src/objective/regression_obj.cu:152: reg:linear is now deprecated in favor of reg:squarederror.\n"
          ]
        },
        {
          "output_type": "stream",
          "name": "stderr",
          "text": [
            "\u001b[32m[I 2022-09-07 09:16:05,877]\u001b[0m Trial 116 finished with value: 0.2458196198567757 and parameters: {'max_depth': 12, 'subsample': 0.8403807052696473, 'n_estimators': 1100, 'eta': 2.8450889591687797e-08, 'alpha': 1.3338158319910628e-05, 'lambda': 1.6464826136683242e-06, 'gamma': 0.005507883755217546, 'min_child_weight': 6, 'grow_policy': 'lossguide', 'colsample_bytree': 0.892070432994078}. Best is trial 83 with value: 0.12642259752853124.\u001b[0m\n"
          ]
        },
        {
          "output_type": "stream",
          "name": "stdout",
          "text": [
            "[09:16:05] WARNING: /workspace/src/objective/regression_obj.cu:152: reg:linear is now deprecated in favor of reg:squarederror.\n"
          ]
        },
        {
          "output_type": "stream",
          "name": "stderr",
          "text": [
            "\u001b[32m[I 2022-09-07 09:16:07,206]\u001b[0m Trial 117 finished with value: 0.16623584611441491 and parameters: {'max_depth': 14, 'subsample': 0.9815245278800393, 'n_estimators': 2000, 'eta': 0.1868902021044019, 'alpha': 0.00024413822773148504, 'lambda': 0.00026620471698160346, 'gamma': 5.413237969047097e-05, 'min_child_weight': 3, 'grow_policy': 'lossguide', 'colsample_bytree': 0.8382285698270248}. Best is trial 83 with value: 0.12642259752853124.\u001b[0m\n"
          ]
        },
        {
          "output_type": "stream",
          "name": "stdout",
          "text": [
            "[09:16:07] WARNING: /workspace/src/objective/regression_obj.cu:152: reg:linear is now deprecated in favor of reg:squarederror.\n"
          ]
        },
        {
          "output_type": "stream",
          "name": "stderr",
          "text": [
            "\u001b[32m[I 2022-09-07 09:16:07,928]\u001b[0m Trial 118 finished with value: 0.2091799656326533 and parameters: {'max_depth': 9, 'subsample': 0.8640435139865819, 'n_estimators': 1100, 'eta': 2.9217354419306042e-06, 'alpha': 0.16552970468505834, 'lambda': 3.0456522513778297e-06, 'gamma': 0.00010344019900481073, 'min_child_weight': 4, 'grow_policy': 'lossguide', 'colsample_bytree': 0.9274211859406899}. Best is trial 83 with value: 0.12642259752853124.\u001b[0m\n"
          ]
        },
        {
          "output_type": "stream",
          "name": "stdout",
          "text": [
            "[09:16:07] WARNING: /workspace/src/objective/regression_obj.cu:152: reg:linear is now deprecated in favor of reg:squarederror.\n"
          ]
        },
        {
          "output_type": "stream",
          "name": "stderr",
          "text": [
            "\u001b[32m[I 2022-09-07 09:16:08,567]\u001b[0m Trial 119 finished with value: 0.27595045081508013 and parameters: {'max_depth': 8, 'subsample': 0.9109795024468392, 'n_estimators': 1000, 'eta': 1.5000426515701702e-07, 'alpha': 0.00013593643197677637, 'lambda': 2.720097910549816e-08, 'gamma': 0.0009324693887787237, 'min_child_weight': 5, 'grow_policy': 'lossguide', 'colsample_bytree': 0.9662181206754252}. Best is trial 83 with value: 0.12642259752853124.\u001b[0m\n"
          ]
        },
        {
          "output_type": "stream",
          "name": "stdout",
          "text": [
            "[09:16:08] WARNING: /workspace/src/objective/regression_obj.cu:152: reg:linear is now deprecated in favor of reg:squarederror.\n"
          ]
        },
        {
          "output_type": "stream",
          "name": "stderr",
          "text": [
            "\u001b[32m[I 2022-09-07 09:16:09,661]\u001b[0m Trial 120 finished with value: 0.23493452616287624 and parameters: {'max_depth': 12, 'subsample': 0.9685221148649765, 'n_estimators': 1800, 'eta': 3.1664831332956944e-07, 'alpha': 8.490365912566832e-05, 'lambda': 4.2293590009846835e-06, 'gamma': 0.0001390585462855474, 'min_child_weight': 6, 'grow_policy': 'lossguide', 'colsample_bytree': 0.8693250200458164}. Best is trial 83 with value: 0.12642259752853124.\u001b[0m\n"
          ]
        },
        {
          "output_type": "stream",
          "name": "stdout",
          "text": [
            "[09:16:09] WARNING: /workspace/src/objective/regression_obj.cu:152: reg:linear is now deprecated in favor of reg:squarederror.\n"
          ]
        },
        {
          "output_type": "stream",
          "name": "stderr",
          "text": [
            "\u001b[32m[I 2022-09-07 09:16:10,491]\u001b[0m Trial 121 finished with value: 0.20326459212958375 and parameters: {'max_depth': 13, 'subsample': 0.9272180243271573, 'n_estimators': 1200, 'eta': 2.4906320603039734e-08, 'alpha': 0.0006025091541276633, 'lambda': 4.00766395832852e-08, 'gamma': 0.001342095188792989, 'min_child_weight': 4, 'grow_policy': 'lossguide', 'colsample_bytree': 0.9233321039344479}. Best is trial 83 with value: 0.12642259752853124.\u001b[0m\n"
          ]
        },
        {
          "output_type": "stream",
          "name": "stdout",
          "text": [
            "[09:16:10] WARNING: /workspace/src/objective/regression_obj.cu:152: reg:linear is now deprecated in favor of reg:squarederror.\n"
          ]
        },
        {
          "output_type": "stream",
          "name": "stderr",
          "text": [
            "\u001b[32m[I 2022-09-07 09:16:11,405]\u001b[0m Trial 122 finished with value: 0.19451265159665776 and parameters: {'max_depth': 13, 'subsample': 0.970238772887873, 'n_estimators': 1300, 'eta': 4.940359199220024e-08, 'alpha': 0.0019385469186878944, 'lambda': 1.2733106269351381e-08, 'gamma': 0.004433134696970314, 'min_child_weight': 4, 'grow_policy': 'lossguide', 'colsample_bytree': 0.9489158482399876}. Best is trial 83 with value: 0.12642259752853124.\u001b[0m\n"
          ]
        },
        {
          "output_type": "stream",
          "name": "stdout",
          "text": [
            "[09:16:11] WARNING: /workspace/src/objective/regression_obj.cu:152: reg:linear is now deprecated in favor of reg:squarederror.\n"
          ]
        },
        {
          "output_type": "stream",
          "name": "stderr",
          "text": [
            "\u001b[32m[I 2022-09-07 09:16:12,403]\u001b[0m Trial 123 finished with value: 0.1252544135831325 and parameters: {'max_depth': 14, 'subsample': 0.9868605593428937, 'n_estimators': 1400, 'eta': 8.582163450563944e-08, 'alpha': 0.00034664301586917625, 'lambda': 4.6101696052825614e-08, 'gamma': 0.00024649650704047636, 'min_child_weight': 3, 'grow_policy': 'lossguide', 'colsample_bytree': 0.978650048159829}. Best is trial 123 with value: 0.1252544135831325.\u001b[0m\n"
          ]
        },
        {
          "output_type": "stream",
          "name": "stdout",
          "text": [
            "[09:16:12] WARNING: /workspace/src/objective/regression_obj.cu:152: reg:linear is now deprecated in favor of reg:squarederror.\n"
          ]
        },
        {
          "output_type": "stream",
          "name": "stderr",
          "text": [
            "\u001b[32m[I 2022-09-07 09:16:13,206]\u001b[0m Trial 124 finished with value: 0.15953708171881548 and parameters: {'max_depth': 14, 'subsample': 0.5943784864469561, 'n_estimators': 1300, 'eta': 0.004431186519208657, 'alpha': 2.8342352895752805e-05, 'lambda': 8.912596006962739e-06, 'gamma': 0.00032639605262092244, 'min_child_weight': 3, 'grow_policy': 'lossguide', 'colsample_bytree': 0.9819791186956522}. Best is trial 123 with value: 0.1252544135831325.\u001b[0m\n"
          ]
        },
        {
          "output_type": "stream",
          "name": "stdout",
          "text": [
            "[09:16:13] WARNING: /workspace/src/objective/regression_obj.cu:152: reg:linear is now deprecated in favor of reg:squarederror.\n"
          ]
        },
        {
          "output_type": "stream",
          "name": "stderr",
          "text": [
            "\u001b[32m[I 2022-09-07 09:16:14,248]\u001b[0m Trial 125 finished with value: 0.2673967346556397 and parameters: {'max_depth': 15, 'subsample': 0.9848450452823388, 'n_estimators': 1400, 'eta': 8.683711076780438e-08, 'alpha': 0.0004341113502464862, 'lambda': 1.3635597032977304e-05, 'gamma': 0.00021425634618772548, 'min_child_weight': 3, 'grow_policy': 'lossguide', 'colsample_bytree': 0.9718372410760141}. Best is trial 123 with value: 0.1252544135831325.\u001b[0m\n"
          ]
        },
        {
          "output_type": "stream",
          "name": "stdout",
          "text": [
            "[09:16:14] WARNING: /workspace/src/objective/regression_obj.cu:152: reg:linear is now deprecated in favor of reg:squarederror.\n"
          ]
        },
        {
          "output_type": "stream",
          "name": "stderr",
          "text": [
            "\u001b[32m[I 2022-09-07 09:16:15,038]\u001b[0m Trial 126 finished with value: 0.2727669700932852 and parameters: {'max_depth': 14, 'subsample': 0.7677866373249436, 'n_estimators': 1200, 'eta': 1.9337103756565746e-07, 'alpha': 0.006960212678875455, 'lambda': 4.894507518836697e-08, 'gamma': 0.0005007039896615227, 'min_child_weight': 3, 'grow_policy': 'depthwise', 'colsample_bytree': 0.8959199981998174}. Best is trial 123 with value: 0.1252544135831325.\u001b[0m\n"
          ]
        },
        {
          "output_type": "stream",
          "name": "stdout",
          "text": [
            "[09:16:15] WARNING: /workspace/src/objective/regression_obj.cu:152: reg:linear is now deprecated in favor of reg:squarederror.\n"
          ]
        },
        {
          "output_type": "stream",
          "name": "stderr",
          "text": [
            "\u001b[32m[I 2022-09-07 09:16:15,928]\u001b[0m Trial 127 finished with value: 0.18185511348852426 and parameters: {'max_depth': 14, 'subsample': 0.940871717256013, 'n_estimators': 1200, 'eta': 0.020059973266878382, 'alpha': 0.0001610714438731915, 'lambda': 4.5069025167710125e-05, 'gamma': 0.0007302629393091302, 'min_child_weight': 3, 'grow_policy': 'lossguide', 'colsample_bytree': 0.9574163388220388}. Best is trial 123 with value: 0.1252544135831325.\u001b[0m\n"
          ]
        },
        {
          "output_type": "stream",
          "name": "stdout",
          "text": [
            "[09:16:15] WARNING: /workspace/src/objective/regression_obj.cu:152: reg:linear is now deprecated in favor of reg:squarederror.\n"
          ]
        },
        {
          "output_type": "stream",
          "name": "stderr",
          "text": [
            "\u001b[32m[I 2022-09-07 09:16:16,713]\u001b[0m Trial 128 finished with value: 0.1598965243995539 and parameters: {'max_depth': 10, 'subsample': 0.9583616794954481, 'n_estimators': 1100, 'eta': 1.4304096419128414e-08, 'alpha': 0.0003056706796897244, 'lambda': 0.0038545741677727045, 'gamma': 8.950288417124857e-05, 'min_child_weight': 3, 'grow_policy': 'lossguide', 'colsample_bytree': 0.9979806569042491}. Best is trial 123 with value: 0.1252544135831325.\u001b[0m\n"
          ]
        },
        {
          "output_type": "stream",
          "name": "stdout",
          "text": [
            "[09:16:16] WARNING: /workspace/src/objective/regression_obj.cu:152: reg:linear is now deprecated in favor of reg:squarederror.\n"
          ]
        },
        {
          "output_type": "stream",
          "name": "stderr",
          "text": [
            "\u001b[32m[I 2022-09-07 09:16:17,425]\u001b[0m Trial 129 finished with value: 0.1686616297933425 and parameters: {'max_depth': 14, 'subsample': 0.9962891402758216, 'n_estimators': 1000, 'eta': 3.8600646803430254e-08, 'alpha': 5.217487636881898e-05, 'lambda': 2.177155136638e-05, 'gamma': 1.591803717750634e-05, 'min_child_weight': 2, 'grow_policy': 'lossguide', 'colsample_bytree': 0.9108511590108423}. Best is trial 123 with value: 0.1252544135831325.\u001b[0m\n"
          ]
        },
        {
          "output_type": "stream",
          "name": "stdout",
          "text": [
            "[09:16:17] WARNING: /workspace/src/objective/regression_obj.cu:152: reg:linear is now deprecated in favor of reg:squarederror.\n"
          ]
        },
        {
          "output_type": "stream",
          "name": "stderr",
          "text": [
            "\u001b[32m[I 2022-09-07 09:16:18,235]\u001b[0m Trial 130 finished with value: 0.2058287516673421 and parameters: {'max_depth': 12, 'subsample': 0.8683800173269766, 'n_estimators': 1300, 'eta': 1.2535141178541977e-07, 'alpha': 6.194400298511524e-05, 'lambda': 0.0001500256102179243, 'gamma': 0.00016633427255730176, 'min_child_weight': 5, 'grow_policy': 'lossguide', 'colsample_bytree': 0.8518751109366716}. Best is trial 123 with value: 0.1252544135831325.\u001b[0m\n"
          ]
        },
        {
          "output_type": "stream",
          "name": "stdout",
          "text": [
            "[09:16:18] WARNING: /workspace/src/objective/regression_obj.cu:152: reg:linear is now deprecated in favor of reg:squarederror.\n"
          ]
        },
        {
          "output_type": "stream",
          "name": "stderr",
          "text": [
            "\u001b[32m[I 2022-09-07 09:16:19,184]\u001b[0m Trial 131 finished with value: 0.16273408263618971 and parameters: {'max_depth': 13, 'subsample': 0.9124103420242705, 'n_estimators': 1400, 'eta': 2.1403470841393257e-08, 'alpha': 0.0006512837184508871, 'lambda': 2.2217804452563878e-08, 'gamma': 0.014864935707600592, 'min_child_weight': 4, 'grow_policy': 'lossguide', 'colsample_bytree': 0.9359308728405021}. Best is trial 123 with value: 0.1252544135831325.\u001b[0m\n"
          ]
        },
        {
          "output_type": "stream",
          "name": "stdout",
          "text": [
            "[09:16:19] WARNING: /workspace/src/objective/regression_obj.cu:152: reg:linear is now deprecated in favor of reg:squarederror.\n"
          ]
        },
        {
          "output_type": "stream",
          "name": "stderr",
          "text": [
            "\u001b[32m[I 2022-09-07 09:16:19,975]\u001b[0m Trial 132 finished with value: 0.15526735741767167 and parameters: {'max_depth': 13, 'subsample': 0.9665925569327625, 'n_estimators': 1400, 'eta': 6.694064796540249e-08, 'alpha': 0.0015035964931079816, 'lambda': 1.7671774169237513e-07, 'gamma': 0.0002356248455932625, 'min_child_weight': 4, 'grow_policy': 'lossguide', 'colsample_bytree': 0.45425150548677967}. Best is trial 123 with value: 0.1252544135831325.\u001b[0m\n"
          ]
        },
        {
          "output_type": "stream",
          "name": "stdout",
          "text": [
            "[09:16:20] WARNING: /workspace/src/objective/regression_obj.cu:152: reg:linear is now deprecated in favor of reg:squarederror.\n"
          ]
        },
        {
          "output_type": "stream",
          "name": "stderr",
          "text": [
            "\u001b[32m[I 2022-09-07 09:16:20,829]\u001b[0m Trial 133 finished with value: 0.17342135394671185 and parameters: {'max_depth': 13, 'subsample': 0.9347698744023688, 'n_estimators': 1400, 'eta': 6.598918994312377e-08, 'alpha': 0.005197030054814519, 'lambda': 6.343443153494276e-08, 'gamma': 0.00024120749129523042, 'min_child_weight': 4, 'grow_policy': 'lossguide', 'colsample_bytree': 0.635793128190909}. Best is trial 123 with value: 0.1252544135831325.\u001b[0m\n"
          ]
        },
        {
          "output_type": "stream",
          "name": "stdout",
          "text": [
            "[09:16:20] WARNING: /workspace/src/objective/regression_obj.cu:152: reg:linear is now deprecated in favor of reg:squarederror.\n"
          ]
        },
        {
          "output_type": "stream",
          "name": "stderr",
          "text": [
            "\u001b[32m[I 2022-09-07 09:16:21,477]\u001b[0m Trial 134 finished with value: 0.23769911287851941 and parameters: {'max_depth': 12, 'subsample': 0.9521343428633419, 'n_estimators': 900, 'eta': 0.0010720738371873683, 'alpha': 0.0014906171227, 'lambda': 2.027527508335383e-06, 'gamma': 2.9505952317126036e-05, 'min_child_weight': 3, 'grow_policy': 'lossguide', 'colsample_bytree': 0.955266221201961}. Best is trial 123 with value: 0.1252544135831325.\u001b[0m\n"
          ]
        },
        {
          "output_type": "stream",
          "name": "stdout",
          "text": [
            "[09:16:21] WARNING: /workspace/src/objective/regression_obj.cu:152: reg:linear is now deprecated in favor of reg:squarederror.\n"
          ]
        },
        {
          "output_type": "stream",
          "name": "stderr",
          "text": [
            "\u001b[32m[I 2022-09-07 09:16:22,588]\u001b[0m Trial 135 finished with value: 0.1880425574853292 and parameters: {'max_depth': 13, 'subsample': 0.8949359331127018, 'n_estimators': 1900, 'eta': 2.4804763643733047e-07, 'alpha': 0.0031665151624383696, 'lambda': 3.026817917092875e-08, 'gamma': 7.549699733187897e-06, 'min_child_weight': 4, 'grow_policy': 'lossguide', 'colsample_bytree': 0.6597710118790779}. Best is trial 123 with value: 0.1252544135831325.\u001b[0m\n"
          ]
        },
        {
          "output_type": "stream",
          "name": "stdout",
          "text": [
            "[09:16:22] WARNING: /workspace/src/objective/regression_obj.cu:152: reg:linear is now deprecated in favor of reg:squarederror.\n"
          ]
        },
        {
          "output_type": "stream",
          "name": "stderr",
          "text": [
            "\u001b[32m[I 2022-09-07 09:16:23,546]\u001b[0m Trial 136 finished with value: 0.21115032829076225 and parameters: {'max_depth': 14, 'subsample': 0.9693309502849452, 'n_estimators': 1300, 'eta': 4.541266626950871e-08, 'alpha': 0.00017608390317358123, 'lambda': 9.225233246291513e-07, 'gamma': 7.113490373745956e-05, 'min_child_weight': 5, 'grow_policy': 'lossguide', 'colsample_bytree': 0.4375381627400851}. Best is trial 123 with value: 0.1252544135831325.\u001b[0m\n"
          ]
        },
        {
          "output_type": "stream",
          "name": "stdout",
          "text": [
            "[09:16:23] WARNING: /workspace/src/objective/regression_obj.cu:152: reg:linear is now deprecated in favor of reg:squarederror.\n"
          ]
        },
        {
          "output_type": "stream",
          "name": "stderr",
          "text": [
            "\u001b[32m[I 2022-09-07 09:16:24,492]\u001b[0m Trial 137 finished with value: 0.13695063380603092 and parameters: {'max_depth': 12, 'subsample': 0.9883778828810994, 'n_estimators': 1200, 'eta': 4.083618230684707e-07, 'alpha': 3.4541124475972123e-08, 'lambda': 1.6273321968429182e-08, 'gamma': 0.0003416023616280409, 'min_child_weight': 3, 'grow_policy': 'depthwise', 'colsample_bytree': 0.4873887868475002}. Best is trial 123 with value: 0.1252544135831325.\u001b[0m\n"
          ]
        },
        {
          "output_type": "stream",
          "name": "stdout",
          "text": [
            "[09:16:24] WARNING: /workspace/src/objective/regression_obj.cu:152: reg:linear is now deprecated in favor of reg:squarederror.\n"
          ]
        },
        {
          "output_type": "stream",
          "name": "stderr",
          "text": [
            "\u001b[32m[I 2022-09-07 09:16:25,200]\u001b[0m Trial 138 finished with value: 0.1718421667742458 and parameters: {'max_depth': 12, 'subsample': 0.9986024727713595, 'n_estimators': 1200, 'eta': 3.887594644149205e-07, 'alpha': 3.2592772242302694e-08, 'lambda': 1.588355350989518e-08, 'gamma': 0.000135036093351153, 'min_child_weight': 4, 'grow_policy': 'depthwise', 'colsample_bytree': 0.4646363315320881}. Best is trial 123 with value: 0.1252544135831325.\u001b[0m\n"
          ]
        },
        {
          "output_type": "stream",
          "name": "stdout",
          "text": [
            "[09:16:25] WARNING: /workspace/src/objective/regression_obj.cu:152: reg:linear is now deprecated in favor of reg:squarederror.\n"
          ]
        },
        {
          "output_type": "stream",
          "name": "stderr",
          "text": [
            "\u001b[32m[I 2022-09-07 09:16:25,942]\u001b[0m Trial 139 finished with value: 0.18834893930351082 and parameters: {'max_depth': 11, 'subsample': 0.9824102130918462, 'n_estimators': 1300, 'eta': 6.245124305591813e-07, 'alpha': 6.895656736031087e-08, 'lambda': 1.0892755364381347e-08, 'gamma': 4.9837599878169834e-05, 'min_child_weight': 3, 'grow_policy': 'depthwise', 'colsample_bytree': 0.37736837927159805}. Best is trial 123 with value: 0.1252544135831325.\u001b[0m\n"
          ]
        },
        {
          "output_type": "stream",
          "name": "stdout",
          "text": [
            "[09:16:25] WARNING: /workspace/src/objective/regression_obj.cu:152: reg:linear is now deprecated in favor of reg:squarederror.\n"
          ]
        },
        {
          "output_type": "stream",
          "name": "stderr",
          "text": [
            "\u001b[32m[I 2022-09-07 09:16:26,712]\u001b[0m Trial 140 finished with value: 0.2118288762562636 and parameters: {'max_depth': 12, 'subsample': 0.9451822428957727, 'n_estimators': 1400, 'eta': 9.742378420319358e-08, 'alpha': 0.03073588267483732, 'lambda': 4.229168550990686e-06, 'gamma': 0.0003469165472753784, 'min_child_weight': 6, 'grow_policy': 'depthwise', 'colsample_bytree': 0.46870047965897205}. Best is trial 123 with value: 0.1252544135831325.\u001b[0m\n"
          ]
        },
        {
          "output_type": "stream",
          "name": "stdout",
          "text": [
            "[09:16:26] WARNING: /workspace/src/objective/regression_obj.cu:152: reg:linear is now deprecated in favor of reg:squarederror.\n"
          ]
        },
        {
          "output_type": "stream",
          "name": "stderr",
          "text": [
            "\u001b[32m[I 2022-09-07 09:16:27,443]\u001b[0m Trial 141 finished with value: 0.1893650221852395 and parameters: {'max_depth': 12, 'subsample': 0.9600950506511582, 'n_estimators': 1200, 'eta': 1.0331213499179118e-06, 'alpha': 4.877678757840989e-08, 'lambda': 2.6659827593635937e-08, 'gamma': 0.0005585587785481098, 'min_child_weight': 3, 'grow_policy': 'depthwise', 'colsample_bytree': 0.508117576102055}. Best is trial 123 with value: 0.1252544135831325.\u001b[0m\n"
          ]
        },
        {
          "output_type": "stream",
          "name": "stdout",
          "text": [
            "[09:16:27] WARNING: /workspace/src/objective/regression_obj.cu:152: reg:linear is now deprecated in favor of reg:squarederror.\n"
          ]
        },
        {
          "output_type": "stream",
          "name": "stderr",
          "text": [
            "\u001b[32m[I 2022-09-07 09:16:28,102]\u001b[0m Trial 142 finished with value: 0.1983756636543121 and parameters: {'max_depth': 13, 'subsample': 0.9220871139492474, 'n_estimators': 1100, 'eta': 1.498677146652737e-07, 'alpha': 0.000908222799490745, 'lambda': 4.4021449978753765e-08, 'gamma': 0.0014979868346874778, 'min_child_weight': 3, 'grow_policy': 'depthwise', 'colsample_bytree': 0.45520820323322797}. Best is trial 123 with value: 0.1252544135831325.\u001b[0m\n"
          ]
        },
        {
          "output_type": "stream",
          "name": "stdout",
          "text": [
            "[09:16:28] WARNING: /workspace/src/objective/regression_obj.cu:152: reg:linear is now deprecated in favor of reg:squarederror.\n"
          ]
        },
        {
          "output_type": "stream",
          "name": "stderr",
          "text": [
            "\u001b[32m[I 2022-09-07 09:16:28,749]\u001b[0m Trial 143 finished with value: 0.18299324920485088 and parameters: {'max_depth': 12, 'subsample': 0.6603796960212086, 'n_estimators': 1100, 'eta': 7.960094659941339e-08, 'alpha': 1.9417136548713576e-08, 'lambda': 6.31442423600797e-06, 'gamma': 0.0009420707853633919, 'min_child_weight': 3, 'grow_policy': 'lossguide', 'colsample_bytree': 0.5418275170001352}. Best is trial 123 with value: 0.1252544135831325.\u001b[0m\n"
          ]
        },
        {
          "output_type": "stream",
          "name": "stdout",
          "text": [
            "[09:16:28] WARNING: /workspace/src/objective/regression_obj.cu:152: reg:linear is now deprecated in favor of reg:squarederror.\n"
          ]
        },
        {
          "output_type": "stream",
          "name": "stderr",
          "text": [
            "\u001b[32m[I 2022-09-07 09:16:29,403]\u001b[0m Trial 144 finished with value: 0.19865297060363618 and parameters: {'max_depth': 7, 'subsample': 0.9817847388903838, 'n_estimators': 1200, 'eta': 3.353602986971095e-08, 'alpha': 1.3774868610715332e-07, 'lambda': 1.9335759454560394e-08, 'gamma': 0.00021349079302463076, 'min_child_weight': 3, 'grow_policy': 'lossguide', 'colsample_bytree': 0.3930211511756707}. Best is trial 123 with value: 0.1252544135831325.\u001b[0m\n"
          ]
        },
        {
          "output_type": "stream",
          "name": "stdout",
          "text": [
            "[09:16:29] WARNING: /workspace/src/objective/regression_obj.cu:152: reg:linear is now deprecated in favor of reg:squarederror.\n"
          ]
        },
        {
          "output_type": "stream",
          "name": "stderr",
          "text": [
            "\u001b[32m[I 2022-09-07 09:16:30,351]\u001b[0m Trial 145 finished with value: 0.18914796696364794 and parameters: {'max_depth': 11, 'subsample': 0.9299321489538105, 'n_estimators': 1800, 'eta': 2.2389300867680834e-07, 'alpha': 8.569736512295801e-05, 'lambda': 7.6956738128358e-08, 'gamma': 0.00046214382735470545, 'min_child_weight': 8, 'grow_policy': 'depthwise', 'colsample_bytree': 0.5873967868874544}. Best is trial 123 with value: 0.1252544135831325.\u001b[0m\n"
          ]
        },
        {
          "output_type": "stream",
          "name": "stdout",
          "text": [
            "[09:16:30] WARNING: /workspace/src/objective/regression_obj.cu:152: reg:linear is now deprecated in favor of reg:squarederror.\n"
          ]
        },
        {
          "output_type": "stream",
          "name": "stderr",
          "text": [
            "\u001b[32m[I 2022-09-07 09:16:31,025]\u001b[0m Trial 146 finished with value: 0.16687686611881447 and parameters: {'max_depth': 13, 'subsample': 0.9049022366073991, 'n_estimators': 1200, 'eta': 5.792888352411864e-08, 'alpha': 2.0983120789535e-05, 'lambda': 8.093395469902196e-06, 'gamma': 0.00206749650010723, 'min_child_weight': 4, 'grow_policy': 'lossguide', 'colsample_bytree': 0.42393304295189427}. Best is trial 123 with value: 0.1252544135831325.\u001b[0m\n"
          ]
        },
        {
          "output_type": "stream",
          "name": "stdout",
          "text": [
            "[09:16:31] WARNING: /workspace/src/objective/regression_obj.cu:152: reg:linear is now deprecated in favor of reg:squarederror.\n"
          ]
        },
        {
          "output_type": "stream",
          "name": "stderr",
          "text": [
            "\u001b[32m[I 2022-09-07 09:16:31,980]\u001b[0m Trial 147 finished with value: 0.2341592679692427 and parameters: {'max_depth': 14, 'subsample': 0.8808321052534268, 'n_estimators': 1500, 'eta': 1.3109942876634925e-06, 'alpha': 1.9810937083451116e-07, 'lambda': 2.8776471143505165e-07, 'gamma': 0.00030829317322812787, 'min_child_weight': 5, 'grow_policy': 'lossguide', 'colsample_bytree': 0.9782158872717995}. Best is trial 123 with value: 0.1252544135831325.\u001b[0m\n"
          ]
        },
        {
          "output_type": "stream",
          "name": "stdout",
          "text": [
            "[09:16:32] WARNING: /workspace/src/objective/regression_obj.cu:152: reg:linear is now deprecated in favor of reg:squarederror.\n"
          ]
        },
        {
          "output_type": "stream",
          "name": "stderr",
          "text": [
            "\u001b[32m[I 2022-09-07 09:16:32,552]\u001b[0m Trial 148 finished with value: 0.251702315198909 and parameters: {'max_depth': 12, 'subsample': 0.9451326281755308, 'n_estimators': 1000, 'eta': 4.893968106047479e-07, 'alpha': 1.0444280584629836e-07, 'lambda': 2.684137678907895e-05, 'gamma': 0.00011348039740605162, 'min_child_weight': 3, 'grow_policy': 'lossguide', 'colsample_bytree': 0.3415470274771376}. Best is trial 123 with value: 0.1252544135831325.\u001b[0m\n"
          ]
        },
        {
          "output_type": "stream",
          "name": "stdout",
          "text": [
            "[09:16:32] WARNING: /workspace/src/objective/regression_obj.cu:152: reg:linear is now deprecated in favor of reg:squarederror.\n"
          ]
        },
        {
          "output_type": "stream",
          "name": "stderr",
          "text": [
            "\u001b[32m[I 2022-09-07 09:16:33,293]\u001b[0m Trial 149 finished with value: 0.19113463472372114 and parameters: {'max_depth': 8, 'subsample': 0.9636116320076326, 'n_estimators': 1100, 'eta': 1.3104524434301007e-08, 'alpha': 0.01285947098608487, 'lambda': 1.3137334304090809e-07, 'gamma': 0.0007156889591719375, 'min_child_weight': 2, 'grow_policy': 'lossguide', 'colsample_bytree': 0.87466608015159}. Best is trial 123 with value: 0.1252544135831325.\u001b[0m\n"
          ]
        },
        {
          "output_type": "stream",
          "name": "stdout",
          "text": [
            "[09:16:33] WARNING: /workspace/src/objective/regression_obj.cu:152: reg:linear is now deprecated in favor of reg:squarederror.\n"
          ]
        },
        {
          "output_type": "stream",
          "name": "stderr",
          "text": [
            "\u001b[32m[I 2022-09-07 09:16:34,097]\u001b[0m Trial 150 finished with value: 0.1849480648513826 and parameters: {'max_depth': 14, 'subsample': 0.9229821018763958, 'n_estimators': 1300, 'eta': 3.2145786181892484e-07, 'alpha': 0.0001233795199095, 'lambda': 1.0395058460119975e-08, 'gamma': 0.00019936042168552375, 'min_child_weight': 5, 'grow_policy': 'lossguide', 'colsample_bytree': 0.7097783072257318}. Best is trial 123 with value: 0.1252544135831325.\u001b[0m\n"
          ]
        },
        {
          "output_type": "stream",
          "name": "stdout",
          "text": [
            "[09:16:34] WARNING: /workspace/src/objective/regression_obj.cu:152: reg:linear is now deprecated in favor of reg:squarederror.\n"
          ]
        },
        {
          "output_type": "stream",
          "name": "stderr",
          "text": [
            "\u001b[32m[I 2022-09-07 09:16:34,919]\u001b[0m Trial 151 finished with value: 0.16542983213284895 and parameters: {'max_depth': 13, 'subsample': 0.9750821049272679, 'n_estimators': 1400, 'eta': 1.0166051711921022e-08, 'alpha': 0.00033883751294986865, 'lambda': 1.7485933411259488e-07, 'gamma': 0.02471922464047696, 'min_child_weight': 4, 'grow_policy': 'lossguide', 'colsample_bytree': 0.48936116379811245}. Best is trial 123 with value: 0.1252544135831325.\u001b[0m\n"
          ]
        },
        {
          "output_type": "stream",
          "name": "stdout",
          "text": [
            "[09:16:34] WARNING: /workspace/src/objective/regression_obj.cu:152: reg:linear is now deprecated in favor of reg:squarederror.\n"
          ]
        },
        {
          "output_type": "stream",
          "name": "stderr",
          "text": [
            "\u001b[32m[I 2022-09-07 09:16:35,982]\u001b[0m Trial 152 finished with value: 0.17817597660107376 and parameters: {'max_depth': 13, 'subsample': 0.959480558529544, 'n_estimators': 1500, 'eta': 2.4274581525752715e-08, 'alpha': 0.00046505593436312693, 'lambda': 5.5508327903556466e-08, 'gamma': 0.002987967198804042, 'min_child_weight': 4, 'grow_policy': 'lossguide', 'colsample_bytree': 0.9294025896178422}. Best is trial 123 with value: 0.1252544135831325.\u001b[0m\n"
          ]
        },
        {
          "output_type": "stream",
          "name": "stdout",
          "text": [
            "[09:16:36] WARNING: /workspace/src/objective/regression_obj.cu:152: reg:linear is now deprecated in favor of reg:squarederror.\n"
          ]
        },
        {
          "output_type": "stream",
          "name": "stderr",
          "text": [
            "\u001b[32m[I 2022-09-07 09:16:36,887]\u001b[0m Trial 153 finished with value: 0.21448940049212809 and parameters: {'max_depth': 6, 'subsample': 0.6228618891667014, 'n_estimators': 1600, 'eta': 1.2049527759850704e-07, 'alpha': 0.0014861044287765293, 'lambda': 2.7931044658743684e-06, 'gamma': 0.001146603134131245, 'min_child_weight': 4, 'grow_policy': 'lossguide', 'colsample_bytree': 0.9073777326068588}. Best is trial 123 with value: 0.1252544135831325.\u001b[0m\n"
          ]
        },
        {
          "output_type": "stream",
          "name": "stdout",
          "text": [
            "[09:16:36] WARNING: /workspace/src/objective/regression_obj.cu:152: reg:linear is now deprecated in favor of reg:squarederror.\n"
          ]
        },
        {
          "output_type": "stream",
          "name": "stderr",
          "text": [
            "\u001b[32m[I 2022-09-07 09:16:38,101]\u001b[0m Trial 154 finished with value: 0.2561982803847256 and parameters: {'max_depth': 13, 'subsample': 0.9919717446242513, 'n_estimators': 1900, 'eta': 7.04173025840007e-05, 'alpha': 1.2388183448883175e-08, 'lambda': 3.719061577260534e-08, 'gamma': 0.009530122530132811, 'min_child_weight': 4, 'grow_policy': 'lossguide', 'colsample_bytree': 0.9426658737921588}. Best is trial 123 with value: 0.1252544135831325.\u001b[0m\n"
          ]
        },
        {
          "output_type": "stream",
          "name": "stdout",
          "text": [
            "[09:16:38] WARNING: /workspace/src/objective/regression_obj.cu:152: reg:linear is now deprecated in favor of reg:squarederror.\n"
          ]
        },
        {
          "output_type": "stream",
          "name": "stderr",
          "text": [
            "\u001b[32m[I 2022-09-07 09:16:39,009]\u001b[0m Trial 155 finished with value: 0.2971165631087162 and parameters: {'max_depth': 13, 'subsample': 0.9387866405943621, 'n_estimators': 1300, 'eta': 3.751508920189398e-08, 'alpha': 4.162735251066305e-07, 'lambda': 9.921520105039954e-08, 'gamma': 6.152157654078935e-05, 'min_child_weight': 3, 'grow_policy': 'lossguide', 'colsample_bytree': 0.9179072249949304}. Best is trial 123 with value: 0.1252544135831325.\u001b[0m\n"
          ]
        },
        {
          "output_type": "stream",
          "name": "stdout",
          "text": [
            "[09:16:39] WARNING: /workspace/src/objective/regression_obj.cu:152: reg:linear is now deprecated in favor of reg:squarederror.\n"
          ]
        },
        {
          "output_type": "stream",
          "name": "stderr",
          "text": [
            "\u001b[32m[I 2022-09-07 09:16:40,093]\u001b[0m Trial 156 finished with value: 0.17975429166496398 and parameters: {'max_depth': 12, 'subsample': 0.8948807755736511, 'n_estimators': 1700, 'eta': 6.065122130579065e-08, 'alpha': 2.4638420594134767e-08, 'lambda': 1.5143563393025233e-05, 'gamma': 0.0003510524324919881, 'min_child_weight': 5, 'grow_policy': 'depthwise', 'colsample_bytree': 0.9671712112095555}. Best is trial 123 with value: 0.1252544135831325.\u001b[0m\n"
          ]
        },
        {
          "output_type": "stream",
          "name": "stdout",
          "text": [
            "[09:16:40] WARNING: /workspace/src/objective/regression_obj.cu:152: reg:linear is now deprecated in favor of reg:squarederror.\n"
          ]
        },
        {
          "output_type": "stream",
          "name": "stderr",
          "text": [
            "\u001b[32m[I 2022-09-07 09:16:40,825]\u001b[0m Trial 157 finished with value: 0.23382946924019413 and parameters: {'max_depth': 14, 'subsample': 0.3734188236825385, 'n_estimators': 1400, 'eta': 1.6717039180804206e-07, 'alpha': 0.0006971074024004507, 'lambda': 1.5127172916575926e-08, 'gamma': 0.00015910550087998957, 'min_child_weight': 4, 'grow_policy': 'lossguide', 'colsample_bytree': 0.8861164760022228}. Best is trial 123 with value: 0.1252544135831325.\u001b[0m\n"
          ]
        },
        {
          "output_type": "stream",
          "name": "stdout",
          "text": [
            "[09:16:40] WARNING: /workspace/src/objective/regression_obj.cu:152: reg:linear is now deprecated in favor of reg:squarederror.\n"
          ]
        },
        {
          "output_type": "stream",
          "name": "stderr",
          "text": [
            "\u001b[32m[I 2022-09-07 09:16:41,813]\u001b[0m Trial 158 finished with value: 0.27564014120371805 and parameters: {'max_depth': 15, 'subsample': 0.9724146230040444, 'n_estimators': 1500, 'eta': 1.821871201092129e-08, 'alpha': 0.002686469692039913, 'lambda': 7.85011184745728e-05, 'gamma': 0.0005714977964931808, 'min_child_weight': 5, 'grow_policy': 'lossguide', 'colsample_bytree': 0.9851606079426397}. Best is trial 123 with value: 0.1252544135831325.\u001b[0m\n"
          ]
        },
        {
          "output_type": "stream",
          "name": "stdout",
          "text": [
            "[09:16:41] WARNING: /workspace/src/objective/regression_obj.cu:152: reg:linear is now deprecated in favor of reg:squarederror.\n"
          ]
        },
        {
          "output_type": "stream",
          "name": "stderr",
          "text": [
            "\u001b[32m[I 2022-09-07 09:16:42,702]\u001b[0m Trial 159 finished with value: 0.11962052819030741 and parameters: {'max_depth': 12, 'subsample': 0.915611586602131, 'n_estimators': 1200, 'eta': 3.229557396077413e-08, 'alpha': 3.75085691197433e-08, 'lambda': 1.1220293133959129e-05, 'gamma': 8.628162610021033e-05, 'min_child_weight': 3, 'grow_policy': 'lossguide', 'colsample_bytree': 0.9270066219577807}. Best is trial 159 with value: 0.11962052819030741.\u001b[0m\n"
          ]
        },
        {
          "output_type": "stream",
          "name": "stdout",
          "text": [
            "[09:16:42] WARNING: /workspace/src/objective/regression_obj.cu:152: reg:linear is now deprecated in favor of reg:squarederror.\n"
          ]
        },
        {
          "output_type": "stream",
          "name": "stderr",
          "text": [
            "\u001b[32m[I 2022-09-07 09:16:43,544]\u001b[0m Trial 160 finished with value: 0.19216563083691002 and parameters: {'max_depth': 12, 'subsample': 0.9183578000708872, 'n_estimators': 1200, 'eta': 8.651565973421697e-08, 'alpha': 2.940472971106383e-08, 'lambda': 1.1587522461357188e-05, 'gamma': 8.901910515502841e-05, 'min_child_weight': 3, 'grow_policy': 'lossguide', 'colsample_bytree': 0.9415105491090864}. Best is trial 159 with value: 0.11962052819030741.\u001b[0m\n"
          ]
        },
        {
          "output_type": "stream",
          "name": "stdout",
          "text": [
            "[09:16:43] WARNING: /workspace/src/objective/regression_obj.cu:152: reg:linear is now deprecated in favor of reg:squarederror.\n"
          ]
        },
        {
          "output_type": "stream",
          "name": "stderr",
          "text": [
            "\u001b[32m[I 2022-09-07 09:16:44,339]\u001b[0m Trial 161 finished with value: 0.17389321781245642 and parameters: {'max_depth': 12, 'subsample': 0.9496550502674173, 'n_estimators': 1200, 'eta': 2.928929442282608e-08, 'alpha': 3.577955396008093e-05, 'lambda': 5.516619491904585e-06, 'gamma': 0.050540519347602134, 'min_child_weight': 3, 'grow_policy': 'lossguide', 'colsample_bytree': 0.9001276810110515}. Best is trial 159 with value: 0.11962052819030741.\u001b[0m\n"
          ]
        },
        {
          "output_type": "stream",
          "name": "stdout",
          "text": [
            "[09:16:44] WARNING: /workspace/src/objective/regression_obj.cu:152: reg:linear is now deprecated in favor of reg:squarederror.\n"
          ]
        },
        {
          "output_type": "stream",
          "name": "stderr",
          "text": [
            "\u001b[32m[I 2022-09-07 09:16:45,114]\u001b[0m Trial 162 finished with value: 0.19164114007489905 and parameters: {'max_depth': 12, 'subsample': 0.9282659854987587, 'n_estimators': 1100, 'eta': 4.647265484833449e-08, 'alpha': 7.11409568109677e-08, 'lambda': 7.912316015022959e-06, 'gamma': 0.0002663330925996068, 'min_child_weight': 3, 'grow_policy': 'lossguide', 'colsample_bytree': 0.9201314388825635}. Best is trial 159 with value: 0.11962052819030741.\u001b[0m\n"
          ]
        },
        {
          "output_type": "stream",
          "name": "stdout",
          "text": [
            "[09:16:45] WARNING: /workspace/src/objective/regression_obj.cu:152: reg:linear is now deprecated in favor of reg:squarederror.\n"
          ]
        },
        {
          "output_type": "stream",
          "name": "stderr",
          "text": [
            "\u001b[32m[I 2022-09-07 09:16:45,935]\u001b[0m Trial 163 finished with value: 0.2648111366173023 and parameters: {'max_depth': 12, 'subsample': 0.9082777530884271, 'n_estimators': 1200, 'eta': 2.0645898499529127e-08, 'alpha': 4.0466153087193266e-08, 'lambda': 4.074987432173733e-06, 'gamma': 4.5052310626720765e-05, 'min_child_weight': 4, 'grow_policy': 'lossguide', 'colsample_bytree': 0.8611989405937468}. Best is trial 159 with value: 0.11962052819030741.\u001b[0m\n"
          ]
        },
        {
          "output_type": "stream",
          "name": "stdout",
          "text": [
            "[09:16:45] WARNING: /workspace/src/objective/regression_obj.cu:152: reg:linear is now deprecated in favor of reg:squarederror.\n"
          ]
        },
        {
          "output_type": "stream",
          "name": "stderr",
          "text": [
            "\u001b[32m[I 2022-09-07 09:16:46,852]\u001b[0m Trial 164 finished with value: 0.1802891008271669 and parameters: {'max_depth': 13, 'subsample': 0.8714840083652802, 'n_estimators': 1300, 'eta': 6.898477939449642e-08, 'alpha': 1.722287990285594e-08, 'lambda': 1.5438590674791577e-06, 'gamma': 7.427895890069239e-05, 'min_child_weight': 3, 'grow_policy': 'lossguide', 'colsample_bytree': 0.9592093666768801}. Best is trial 159 with value: 0.11962052819030741.\u001b[0m\n"
          ]
        },
        {
          "output_type": "stream",
          "name": "stdout",
          "text": [
            "[09:16:46] WARNING: /workspace/src/objective/regression_obj.cu:152: reg:linear is now deprecated in favor of reg:squarederror.\n"
          ]
        },
        {
          "output_type": "stream",
          "name": "stderr",
          "text": [
            "\u001b[32m[I 2022-09-07 09:16:47,689]\u001b[0m Trial 165 finished with value: 0.14517110860388893 and parameters: {'max_depth': 11, 'subsample': 0.9844394772757127, 'n_estimators': 1200, 'eta': 3.297597370901378e-08, 'alpha': 5.821129727181258e-08, 'lambda': 1.853640411419461e-05, 'gamma': 0.00010992218646578625, 'min_child_weight': 3, 'grow_policy': 'lossguide', 'colsample_bytree': 0.8782176890570087}. Best is trial 159 with value: 0.11962052819030741.\u001b[0m\n"
          ]
        },
        {
          "output_type": "stream",
          "name": "stdout",
          "text": [
            "[09:16:47] WARNING: /workspace/src/objective/regression_obj.cu:152: reg:linear is now deprecated in favor of reg:squarederror.\n"
          ]
        },
        {
          "output_type": "stream",
          "name": "stderr",
          "text": [
            "\u001b[32m[I 2022-09-07 09:16:48,438]\u001b[0m Trial 166 finished with value: 0.32551109650714344 and parameters: {'max_depth': 11, 'subsample': 0.9896420800591995, 'n_estimators': 1100, 'eta': 0.0002458231018733596, 'alpha': 5.091260113085499e-08, 'lambda': 2.1397482848754844e-05, 'gamma': 0.0001457899538374007, 'min_child_weight': 2, 'grow_policy': 'lossguide', 'colsample_bytree': 0.8211061989144369}. Best is trial 159 with value: 0.11962052819030741.\u001b[0m\n"
          ]
        },
        {
          "output_type": "stream",
          "name": "stdout",
          "text": [
            "[09:16:48] WARNING: /workspace/src/objective/regression_obj.cu:152: reg:linear is now deprecated in favor of reg:squarederror.\n"
          ]
        },
        {
          "output_type": "stream",
          "name": "stderr",
          "text": [
            "\u001b[32m[I 2022-09-07 09:16:49,212]\u001b[0m Trial 167 finished with value: 0.2223793662954598 and parameters: {'max_depth': 11, 'subsample': 0.6949424647953348, 'n_estimators': 1200, 'eta': 1.1468814885708272e-07, 'alpha': 1.0263653181694497e-07, 'lambda': 1.1589759013940158e-05, 'gamma': 0.00011782510481331252, 'min_child_weight': 3, 'grow_policy': 'lossguide', 'colsample_bytree': 0.8798488912386797}. Best is trial 159 with value: 0.11962052819030741.\u001b[0m\n"
          ]
        },
        {
          "output_type": "stream",
          "name": "stdout",
          "text": [
            "[09:16:49] WARNING: /workspace/src/objective/regression_obj.cu:152: reg:linear is now deprecated in favor of reg:squarederror.\n"
          ]
        },
        {
          "output_type": "stream",
          "name": "stderr",
          "text": [
            "\u001b[32m[I 2022-09-07 09:16:50,038]\u001b[0m Trial 168 finished with value: 0.18474398466489406 and parameters: {'max_depth': 11, 'subsample': 0.9584602001835617, 'n_estimators': 1200, 'eta': 2.4905621426213733e-07, 'alpha': 5.2067009783313324e-08, 'lambda': 1.6622739482849928e-05, 'gamma': 0.0004306991802572483, 'min_child_weight': 3, 'grow_policy': 'lossguide', 'colsample_bytree': 0.846132619421784}. Best is trial 159 with value: 0.11962052819030741.\u001b[0m\n"
          ]
        },
        {
          "output_type": "stream",
          "name": "stdout",
          "text": [
            "[09:16:50] WARNING: /workspace/src/objective/regression_obj.cu:152: reg:linear is now deprecated in favor of reg:squarederror.\n"
          ]
        },
        {
          "output_type": "stream",
          "name": "stderr",
          "text": [
            "\u001b[32m[I 2022-09-07 09:16:50,824]\u001b[0m Trial 169 finished with value: 0.16516504579409044 and parameters: {'max_depth': 11, 'subsample': 0.9972577569307464, 'n_estimators': 1100, 'eta': 5.286506352385976e-08, 'alpha': 3.613947649865405e-08, 'lambda': 3.80579058631926e-05, 'gamma': 0.00023915215325591001, 'min_child_weight': 3, 'grow_policy': 'depthwise', 'colsample_bytree': 0.9280241786282022}. Best is trial 159 with value: 0.11962052819030741.\u001b[0m\n"
          ]
        },
        {
          "output_type": "stream",
          "name": "stdout",
          "text": [
            "[09:16:50] WARNING: /workspace/src/objective/regression_obj.cu:152: reg:linear is now deprecated in favor of reg:squarederror.\n"
          ]
        },
        {
          "output_type": "stream",
          "name": "stderr",
          "text": [
            "\u001b[32m[I 2022-09-07 09:16:51,432]\u001b[0m Trial 170 finished with value: 0.22077101114971912 and parameters: {'max_depth': 12, 'subsample': 0.8267301907377852, 'n_estimators': 1000, 'eta': 3.167076242129936e-08, 'alpha': 0.020327057421947566, 'lambda': 2.820730264068054e-05, 'gamma': 2.673595856449801e-05, 'min_child_weight': 7, 'grow_policy': 'lossguide', 'colsample_bytree': 0.9055321861781384}. Best is trial 159 with value: 0.11962052819030741.\u001b[0m\n"
          ]
        },
        {
          "output_type": "stream",
          "name": "stdout",
          "text": [
            "[09:16:51] WARNING: /workspace/src/objective/regression_obj.cu:152: reg:linear is now deprecated in favor of reg:squarederror.\n"
          ]
        },
        {
          "output_type": "stream",
          "name": "stderr",
          "text": [
            "\u001b[32m[I 2022-09-07 09:16:52,364]\u001b[0m Trial 171 finished with value: 0.19417810701007382 and parameters: {'max_depth': 10, 'subsample': 0.9718518515193235, 'n_estimators': 1300, 'eta': 3.9597077881959506e-08, 'alpha': 6.60109169006311e-05, 'lambda': 5.629793324199732e-07, 'gamma': 0.0008781179509626562, 'min_child_weight': 3, 'grow_policy': 'lossguide', 'colsample_bytree': 0.949167881324419}. Best is trial 159 with value: 0.11962052819030741.\u001b[0m\n"
          ]
        },
        {
          "output_type": "stream",
          "name": "stdout",
          "text": [
            "[09:16:52] WARNING: /workspace/src/objective/regression_obj.cu:152: reg:linear is now deprecated in favor of reg:squarederror.\n"
          ]
        },
        {
          "output_type": "stream",
          "name": "stderr",
          "text": [
            "\u001b[32m[I 2022-09-07 09:16:53,124]\u001b[0m Trial 172 finished with value: 0.20328513397852452 and parameters: {'max_depth': 7, 'subsample': 0.9413586279346972, 'n_estimators': 1200, 'eta': 1.8268828465051503e-08, 'alpha': 0.0002225922122607274, 'lambda': 9.066456401370668e-06, 'gamma': 9.748892827984756e-05, 'min_child_weight': 3, 'grow_policy': 'lossguide', 'colsample_bytree': 0.889523328243198}. Best is trial 159 with value: 0.11962052819030741.\u001b[0m\n"
          ]
        },
        {
          "output_type": "stream",
          "name": "stdout",
          "text": [
            "[09:16:53] WARNING: /workspace/src/objective/regression_obj.cu:152: reg:linear is now deprecated in favor of reg:squarederror.\n"
          ]
        },
        {
          "output_type": "stream",
          "name": "stderr",
          "text": [
            "\u001b[32m[I 2022-09-07 09:16:54,383]\u001b[0m Trial 173 finished with value: 0.2769131726586504 and parameters: {'max_depth': 12, 'subsample': 0.9778321649741959, 'n_estimators': 2000, 'eta': 2.5949752777075667e-08, 'alpha': 0.08755856404258197, 'lambda': 2.439749196952463e-06, 'gamma': 0.0198595923046548, 'min_child_weight': 5, 'grow_policy': 'lossguide', 'colsample_bytree': 0.9990918770319738}. Best is trial 159 with value: 0.11962052819030741.\u001b[0m\n"
          ]
        },
        {
          "output_type": "stream",
          "name": "stdout",
          "text": [
            "[09:16:54] WARNING: /workspace/src/objective/regression_obj.cu:152: reg:linear is now deprecated in favor of reg:squarederror.\n"
          ]
        },
        {
          "output_type": "stream",
          "name": "stderr",
          "text": [
            "\u001b[32m[I 2022-09-07 09:16:55,204]\u001b[0m Trial 174 finished with value: 0.20726692428899787 and parameters: {'max_depth': 14, 'subsample': 0.9529636056115445, 'n_estimators': 1200, 'eta': 1.7343379585614365e-07, 'alpha': 2.2549665595579632e-08, 'lambda': 5.768106949038328e-06, 'gamma': 0.0063681899203392916, 'min_child_weight': 4, 'grow_policy': 'lossguide', 'colsample_bytree': 0.929610484815623}. Best is trial 159 with value: 0.11962052819030741.\u001b[0m\n"
          ]
        },
        {
          "output_type": "stream",
          "name": "stdout",
          "text": [
            "[09:16:55] WARNING: /workspace/src/objective/regression_obj.cu:152: reg:linear is now deprecated in favor of reg:squarederror.\n"
          ]
        },
        {
          "output_type": "stream",
          "name": "stderr",
          "text": [
            "\u001b[32m[I 2022-09-07 09:16:56,087]\u001b[0m Trial 175 finished with value: 0.20426763797150363 and parameters: {'max_depth': 13, 'subsample': 0.8851153617935416, 'n_estimators': 1300, 'eta': 7.71698494578134e-08, 'alpha': 0.00011874154490403461, 'lambda': 2.0747109603098575e-08, 'gamma': 0.00017934574634495827, 'min_child_weight': 4, 'grow_policy': 'lossguide', 'colsample_bytree': 0.9737988175882296}. Best is trial 159 with value: 0.11962052819030741.\u001b[0m\n"
          ]
        },
        {
          "output_type": "stream",
          "name": "stdout",
          "text": [
            "[09:16:56] WARNING: /workspace/src/objective/regression_obj.cu:152: reg:linear is now deprecated in favor of reg:squarederror.\n"
          ]
        },
        {
          "output_type": "stream",
          "name": "stderr",
          "text": [
            "\u001b[32m[I 2022-09-07 09:16:56,715]\u001b[0m Trial 176 finished with value: 0.2008250803453282 and parameters: {'max_depth': 12, 'subsample': 0.42209100609663736, 'n_estimators': 1100, 'eta': 4.568109569920914e-08, 'alpha': 4.5991992477319784e-05, 'lambda': 6.115977170205458e-05, 'gamma': 0.0019386756991737265, 'min_child_weight': 3, 'grow_policy': 'lossguide', 'colsample_bytree': 0.8717040285350772}. Best is trial 159 with value: 0.11962052819030741.\u001b[0m\n"
          ]
        },
        {
          "output_type": "stream",
          "name": "stdout",
          "text": [
            "[09:16:56] WARNING: /workspace/src/objective/regression_obj.cu:152: reg:linear is now deprecated in favor of reg:squarederror.\n"
          ]
        },
        {
          "output_type": "stream",
          "name": "stderr",
          "text": [
            "\u001b[32m[I 2022-09-07 09:16:57,550]\u001b[0m Trial 177 finished with value: 0.13770293135311273 and parameters: {'max_depth': 11, 'subsample': 0.9350962656025443, 'n_estimators': 1200, 'eta': 1.4176201997248952e-08, 'alpha': 0.0020146936170620093, 'lambda': 7.822608947293597e-08, 'gamma': 5.132347691890423e-05, 'min_child_weight': 3, 'grow_policy': 'lossguide', 'colsample_bytree': 0.9116904074708349}. Best is trial 159 with value: 0.11962052819030741.\u001b[0m\n"
          ]
        },
        {
          "output_type": "stream",
          "name": "stdout",
          "text": [
            "[09:16:57] WARNING: /workspace/src/objective/regression_obj.cu:152: reg:linear is now deprecated in favor of reg:squarederror.\n"
          ]
        },
        {
          "output_type": "stream",
          "name": "stderr",
          "text": [
            "\u001b[32m[I 2022-09-07 09:16:58,380]\u001b[0m Trial 178 finished with value: 0.32779203684173647 and parameters: {'max_depth': 11, 'subsample': 0.9082183321072925, 'n_estimators': 1200, 'eta': 1.5129823823288348e-08, 'alpha': 0.0022875444677098503, 'lambda': 6.88273186420984e-08, 'gamma': 4.023101026225013e-05, 'min_child_weight': 3, 'grow_policy': 'lossguide', 'colsample_bytree': 0.9117758753526426}. Best is trial 159 with value: 0.11962052819030741.\u001b[0m\n"
          ]
        },
        {
          "output_type": "stream",
          "name": "stdout",
          "text": [
            "[09:16:58] WARNING: /workspace/src/objective/regression_obj.cu:152: reg:linear is now deprecated in favor of reg:squarederror.\n"
          ]
        },
        {
          "output_type": "stream",
          "name": "stderr",
          "text": [
            "\u001b[32m[I 2022-09-07 09:16:59,020]\u001b[0m Trial 179 finished with value: 0.23285595459983074 and parameters: {'max_depth': 8, 'subsample': 0.9320246348732083, 'n_estimators': 1100, 'eta': 1.0124972271998514e-08, 'alpha': 9.278398360880756e-08, 'lambda': 4.081121121918511e-08, 'gamma': 6.571185930314703e-05, 'min_child_weight': 3, 'grow_policy': 'lossguide', 'colsample_bytree': 0.484647369458916}. Best is trial 159 with value: 0.11962052819030741.\u001b[0m\n"
          ]
        },
        {
          "output_type": "stream",
          "name": "stdout",
          "text": [
            "[09:16:59] WARNING: /workspace/src/objective/regression_obj.cu:152: reg:linear is now deprecated in favor of reg:squarederror.\n"
          ]
        },
        {
          "output_type": "stream",
          "name": "stderr",
          "text": [
            "\u001b[32m[I 2022-09-07 09:16:59,743]\u001b[0m Trial 180 finished with value: 0.2120116367639092 and parameters: {'max_depth': 9, 'subsample': 0.5683009607405087, 'n_estimators': 1200, 'eta': 4.4438648795587836e-07, 'alpha': 0.004044165753558129, 'lambda': 2.6790655423696042e-08, 'gamma': 1.7799394488719892e-05, 'min_child_weight': 3, 'grow_policy': 'depthwise', 'colsample_bytree': 0.9561464472904208}. Best is trial 159 with value: 0.11962052819030741.\u001b[0m\n"
          ]
        },
        {
          "output_type": "stream",
          "name": "stdout",
          "text": [
            "[09:16:59] WARNING: /workspace/src/objective/regression_obj.cu:152: reg:linear is now deprecated in favor of reg:squarederror.\n"
          ]
        },
        {
          "output_type": "stream",
          "name": "stderr",
          "text": [
            "\u001b[32m[I 2022-09-07 09:17:00,585]\u001b[0m Trial 181 finished with value: 0.16006365905851327 and parameters: {'max_depth': 11, 'subsample': 0.9636689763447044, 'n_estimators': 1200, 'eta': 2.6301990627135276e-08, 'alpha': 0.0015273436819816398, 'lambda': 2.7296740861520824e-07, 'gamma': 0.00030571270723559846, 'min_child_weight': 3, 'grow_policy': 'lossguide', 'colsample_bytree': 0.8906927451662516}. Best is trial 159 with value: 0.11962052819030741.\u001b[0m\n"
          ]
        },
        {
          "output_type": "stream",
          "name": "stdout",
          "text": [
            "[09:17:00] WARNING: /workspace/src/objective/regression_obj.cu:152: reg:linear is now deprecated in favor of reg:squarederror.\n"
          ]
        },
        {
          "output_type": "stream",
          "name": "stderr",
          "text": [
            "\u001b[32m[I 2022-09-07 09:17:01,521]\u001b[0m Trial 182 finished with value: 0.24866967286536704 and parameters: {'max_depth': 11, 'subsample': 0.9461974666837635, 'n_estimators': 1300, 'eta': 1.6354522609061337e-08, 'alpha': 0.0009904483740428135, 'lambda': 1.5301920337918803e-07, 'gamma': 0.0005957520673158086, 'min_child_weight': 3, 'grow_policy': 'lossguide', 'colsample_bytree': 0.9397284282659787}. Best is trial 159 with value: 0.11962052819030741.\u001b[0m\n"
          ]
        },
        {
          "output_type": "stream",
          "name": "stdout",
          "text": [
            "[09:17:01] WARNING: /workspace/src/objective/regression_obj.cu:152: reg:linear is now deprecated in favor of reg:squarederror.\n"
          ]
        },
        {
          "output_type": "stream",
          "name": "stderr",
          "text": [
            "\u001b[32m[I 2022-09-07 09:17:02,315]\u001b[0m Trial 183 finished with value: 0.23134926627312496 and parameters: {'max_depth': 10, 'subsample': 0.9188654865550475, 'n_estimators': 1200, 'eta': 1.0552206956734972e-07, 'alpha': 3.7806497917784455e-08, 'lambda': 1.0601968235659562e-07, 'gamma': 5.2266907421253925e-05, 'min_child_weight': 4, 'grow_policy': 'lossguide', 'colsample_bytree': 0.9218003664674527}. Best is trial 159 with value: 0.11962052819030741.\u001b[0m\n"
          ]
        },
        {
          "output_type": "stream",
          "name": "stdout",
          "text": [
            "[09:17:02] WARNING: /workspace/src/objective/regression_obj.cu:152: reg:linear is now deprecated in favor of reg:squarederror.\n"
          ]
        },
        {
          "output_type": "stream",
          "name": "stderr",
          "text": [
            "\u001b[32m[I 2022-09-07 09:17:02,988]\u001b[0m Trial 184 finished with value: 0.22134492931667 and parameters: {'max_depth': 12, 'subsample': 0.9793138237194866, 'n_estimators': 1000, 'eta': 3.759186748983887e-08, 'alpha': 0.0006910995506385024, 'lambda': 3.651213754769869e-06, 'gamma': 0.0343528059813224, 'min_child_weight': 2, 'grow_policy': 'lossguide', 'colsample_bytree': 0.9000456700454187}. Best is trial 159 with value: 0.11962052819030741.\u001b[0m\n"
          ]
        },
        {
          "output_type": "stream",
          "name": "stdout",
          "text": [
            "[09:17:03] WARNING: /workspace/src/objective/regression_obj.cu:152: reg:linear is now deprecated in favor of reg:squarederror.\n"
          ]
        },
        {
          "output_type": "stream",
          "name": "stderr",
          "text": [
            "\u001b[32m[I 2022-09-07 09:17:04,116]\u001b[0m Trial 185 finished with value: 0.19950331573017882 and parameters: {'max_depth': 11, 'subsample': 0.9372225075186637, 'n_estimators': 1800, 'eta': 2.358349697371957e-08, 'alpha': 0.0004040046302423397, 'lambda': 1.402267694219457e-05, 'gamma': 0.00012342374562718776, 'min_child_weight': 5, 'grow_policy': 'lossguide', 'colsample_bytree': 0.8562750900461826}. Best is trial 159 with value: 0.11962052819030741.\u001b[0m\n"
          ]
        },
        {
          "output_type": "stream",
          "name": "stdout",
          "text": [
            "[09:17:04] WARNING: /workspace/src/objective/regression_obj.cu:152: reg:linear is now deprecated in favor of reg:squarederror.\n"
          ]
        },
        {
          "output_type": "stream",
          "name": "stderr",
          "text": [
            "\u001b[32m[I 2022-09-07 09:17:04,872]\u001b[0m Trial 186 finished with value: 0.21009197067682567 and parameters: {'max_depth': 13, 'subsample': 0.8966642400635461, 'n_estimators': 1100, 'eta': 5.989813042889114e-08, 'alpha': 0.005434253332218315, 'lambda': 6.130511285405933e-08, 'gamma': 9.070486005622709e-05, 'min_child_weight': 4, 'grow_policy': 'lossguide', 'colsample_bytree': 0.9650275087322815}. Best is trial 159 with value: 0.11962052819030741.\u001b[0m\n"
          ]
        },
        {
          "output_type": "stream",
          "name": "stdout",
          "text": [
            "[09:17:04] WARNING: /workspace/src/objective/regression_obj.cu:152: reg:linear is now deprecated in favor of reg:squarederror.\n"
          ]
        },
        {
          "output_type": "stream",
          "name": "stderr",
          "text": [
            "\u001b[32m[I 2022-09-07 09:17:05,932]\u001b[0m Trial 187 finished with value: 0.16546587241881 and parameters: {'max_depth': 14, 'subsample': 0.9660233674326761, 'n_estimators': 1400, 'eta': 7.092161425850638e-07, 'alpha': 0.009029640556432779, 'lambda': 7.483915482762902e-06, 'gamma': 0.001232210539768926, 'min_child_weight': 3, 'grow_policy': 'lossguide', 'colsample_bytree': 0.9859109949270487}. Best is trial 159 with value: 0.11962052819030741.\u001b[0m\n"
          ]
        },
        {
          "output_type": "stream",
          "name": "stdout",
          "text": [
            "[09:17:05] WARNING: /workspace/src/objective/regression_obj.cu:152: reg:linear is now deprecated in favor of reg:squarederror.\n"
          ]
        },
        {
          "output_type": "stream",
          "name": "stderr",
          "text": [
            "\u001b[32m[I 2022-09-07 09:17:06,798]\u001b[0m Trial 188 finished with value: 0.26468272549337185 and parameters: {'max_depth': 12, 'subsample': 0.9983147099708678, 'n_estimators': 1300, 'eta': 1.4071433044162975e-07, 'alpha': 7.496443028288885e-05, 'lambda': 8.364758590424172e-08, 'gamma': 0.0004163759876513658, 'min_child_weight': 5, 'grow_policy': 'lossguide', 'colsample_bytree': 0.9450678951512639}. Best is trial 159 with value: 0.11962052819030741.\u001b[0m\n"
          ]
        },
        {
          "output_type": "stream",
          "name": "stdout",
          "text": [
            "[09:17:06] WARNING: /workspace/src/objective/regression_obj.cu:152: reg:linear is now deprecated in favor of reg:squarederror.\n"
          ]
        },
        {
          "output_type": "stream",
          "name": "stderr",
          "text": [
            "\u001b[32m[I 2022-09-07 09:17:07,440]\u001b[0m Trial 189 finished with value: 0.21390362497487408 and parameters: {'max_depth': 13, 'subsample': 0.9226660701511082, 'n_estimators': 900, 'eta': 2.8573409151288604e-07, 'alpha': 2.3994140898958778e-05, 'lambda': 0.00044230300333586545, 'gamma': 0.0001975329813931835, 'min_child_weight': 3, 'grow_policy': 'lossguide', 'colsample_bytree': 0.8757238899806674}. Best is trial 159 with value: 0.11962052819030741.\u001b[0m\n"
          ]
        },
        {
          "output_type": "stream",
          "name": "stdout",
          "text": [
            "[09:17:07] WARNING: /workspace/src/objective/regression_obj.cu:152: reg:linear is now deprecated in favor of reg:squarederror.\n"
          ]
        },
        {
          "output_type": "stream",
          "name": "stderr",
          "text": [
            "\u001b[32m[I 2022-09-07 09:17:08,095]\u001b[0m Trial 190 finished with value: 0.21624805725102103 and parameters: {'max_depth': 11, 'subsample': 0.8516827863380537, 'n_estimators': 1200, 'eta': 1.3888103662902685e-08, 'alpha': 1.0019669275070962e-08, 'lambda': 0.6795943007907531, 'gamma': 2.8024732960743096e-05, 'min_child_weight': 7, 'grow_policy': 'depthwise', 'colsample_bytree': 0.5758806410414159}. Best is trial 159 with value: 0.11962052819030741.\u001b[0m\n"
          ]
        },
        {
          "output_type": "stream",
          "name": "stdout",
          "text": [
            "[09:17:08] WARNING: /workspace/src/objective/regression_obj.cu:152: reg:linear is now deprecated in favor of reg:squarederror.\n"
          ]
        },
        {
          "output_type": "stream",
          "name": "stderr",
          "text": [
            "\u001b[32m[I 2022-09-07 09:17:08,907]\u001b[0m Trial 191 finished with value: 0.1535470799984962 and parameters: {'max_depth': 14, 'subsample': 0.6212984955070144, 'n_estimators': 1300, 'eta': 0.004500844393271352, 'alpha': 2.9627463417919916e-05, 'lambda': 9.839358461757685e-06, 'gamma': 0.0003246048563902227, 'min_child_weight': 3, 'grow_policy': 'lossguide', 'colsample_bytree': 0.9803883174449243}. Best is trial 159 with value: 0.11962052819030741.\u001b[0m\n"
          ]
        },
        {
          "output_type": "stream",
          "name": "stdout",
          "text": [
            "[09:17:08] WARNING: /workspace/src/objective/regression_obj.cu:152: reg:linear is now deprecated in favor of reg:squarederror.\n"
          ]
        },
        {
          "output_type": "stream",
          "name": "stderr",
          "text": [
            "\u001b[32m[I 2022-09-07 09:17:09,771]\u001b[0m Trial 192 finished with value: 0.21880278446231738 and parameters: {'max_depth': 14, 'subsample': 0.7963775328107091, 'n_estimators': 1300, 'eta': 0.02875496582424035, 'alpha': 0.04961230066165984, 'lambda': 1.1359026918081968e-05, 'gamma': 0.000732090791175218, 'min_child_weight': 3, 'grow_policy': 'lossguide', 'colsample_bytree': 0.9744923540686916}. Best is trial 159 with value: 0.11962052819030741.\u001b[0m\n"
          ]
        },
        {
          "output_type": "stream",
          "name": "stdout",
          "text": [
            "[09:17:09] WARNING: /workspace/src/objective/regression_obj.cu:152: reg:linear is now deprecated in favor of reg:squarederror.\n"
          ]
        },
        {
          "output_type": "stream",
          "name": "stderr",
          "text": [
            "\u001b[32m[I 2022-09-07 09:17:10,654]\u001b[0m Trial 193 finished with value: 0.13311125782093858 and parameters: {'max_depth': 14, 'subsample': 0.9543830387806905, 'n_estimators': 1200, 'eta': 0.005130049917234866, 'alpha': 2.882363551276774e-05, 'lambda': 5.227847340061252e-06, 'gamma': 0.00031190653667723285, 'min_child_weight': 3, 'grow_policy': 'lossguide', 'colsample_bytree': 0.9264136278761355}. Best is trial 159 with value: 0.11962052819030741.\u001b[0m\n"
          ]
        },
        {
          "output_type": "stream",
          "name": "stdout",
          "text": [
            "[09:17:10] WARNING: /workspace/src/objective/regression_obj.cu:152: reg:linear is now deprecated in favor of reg:squarederror.\n"
          ]
        },
        {
          "output_type": "stream",
          "name": "stderr",
          "text": [
            "\u001b[32m[I 2022-09-07 09:17:11,531]\u001b[0m Trial 194 finished with value: 0.20162075966489007 and parameters: {'max_depth': 14, 'subsample': 0.9507347174026268, 'n_estimators': 1200, 'eta': 0.008491490009212293, 'alpha': 3.924041694064597e-05, 'lambda': 5.102222500713646e-06, 'gamma': 0.0002513429673367743, 'min_child_weight': 3, 'grow_policy': 'lossguide', 'colsample_bytree': 0.9579326577785972}. Best is trial 159 with value: 0.11962052819030741.\u001b[0m\n"
          ]
        },
        {
          "output_type": "stream",
          "name": "stdout",
          "text": [
            "[09:17:11] WARNING: /workspace/src/objective/regression_obj.cu:152: reg:linear is now deprecated in favor of reg:squarederror.\n"
          ]
        },
        {
          "output_type": "stream",
          "name": "stderr",
          "text": [
            "\u001b[32m[I 2022-09-07 09:17:12,242]\u001b[0m Trial 195 finished with value: 0.18135270379157445 and parameters: {'max_depth': 14, 'subsample': 0.9070316503541428, 'n_estimators': 1200, 'eta': 0.0037347396347594685, 'alpha': 2.8746137507833268e-05, 'lambda': 1.8965659638306097e-05, 'gamma': 0.0004152441103228459, 'min_child_weight': 3, 'grow_policy': 'lossguide', 'colsample_bytree': 0.4160004360128036}. Best is trial 159 with value: 0.11962052819030741.\u001b[0m\n"
          ]
        },
        {
          "output_type": "stream",
          "name": "stdout",
          "text": [
            "[09:17:12] WARNING: /workspace/src/objective/regression_obj.cu:152: reg:linear is now deprecated in favor of reg:squarederror.\n"
          ]
        },
        {
          "output_type": "stream",
          "name": "stderr",
          "text": [
            "\u001b[32m[I 2022-09-07 09:17:12,979]\u001b[0m Trial 196 finished with value: 0.20130263135651572 and parameters: {'max_depth': 15, 'subsample': 0.7121234289555902, 'n_estimators': 1100, 'eta': 0.00555209949778858, 'alpha': 1.1995017399012733e-05, 'lambda': 9.29471310415563e-06, 'gamma': 0.0002994038386123382, 'min_child_weight': 3, 'grow_policy': 'lossguide', 'colsample_bytree': 0.9317633681224433}. Best is trial 159 with value: 0.11962052819030741.\u001b[0m\n"
          ]
        },
        {
          "output_type": "stream",
          "name": "stdout",
          "text": [
            "[09:17:13] WARNING: /workspace/src/objective/regression_obj.cu:152: reg:linear is now deprecated in favor of reg:squarederror.\n"
          ]
        },
        {
          "output_type": "stream",
          "name": "stderr",
          "text": [
            "\u001b[32m[I 2022-09-07 09:17:13,969]\u001b[0m Trial 197 finished with value: 0.21756471806808234 and parameters: {'max_depth': 14, 'subsample': 0.9823466915671647, 'n_estimators': 1300, 'eta': 0.009746857858784194, 'alpha': 1.6462721985884136e-05, 'lambda': 6.186933129088458e-06, 'gamma': 0.0005273286703319595, 'min_child_weight': 3, 'grow_policy': 'lossguide', 'colsample_bytree': 0.9879101518934449}. Best is trial 159 with value: 0.11962052819030741.\u001b[0m\n"
          ]
        },
        {
          "output_type": "stream",
          "name": "stdout",
          "text": [
            "[09:17:14] WARNING: /workspace/src/objective/regression_obj.cu:152: reg:linear is now deprecated in favor of reg:squarederror.\n"
          ]
        },
        {
          "output_type": "stream",
          "name": "stderr",
          "text": [
            "\u001b[32m[I 2022-09-07 09:17:14,692]\u001b[0m Trial 198 finished with value: 0.20857697463280434 and parameters: {'max_depth': 14, 'subsample': 0.6770188563522019, 'n_estimators': 1100, 'eta': 0.0021629481673801545, 'alpha': 5.448125840347096e-05, 'lambda': 3.851419292979382e-06, 'gamma': 0.00016400592654838684, 'min_child_weight': 3, 'grow_policy': 'lossguide', 'colsample_bytree': 0.9130872383634868}. Best is trial 159 with value: 0.11962052819030741.\u001b[0m\n"
          ]
        },
        {
          "output_type": "stream",
          "name": "stdout",
          "text": [
            "[09:17:14] WARNING: /workspace/src/objective/regression_obj.cu:152: reg:linear is now deprecated in favor of reg:squarederror.\n"
          ]
        },
        {
          "output_type": "stream",
          "name": "stderr",
          "text": [
            "\u001b[32m[I 2022-09-07 09:17:15,459]\u001b[0m Trial 199 finished with value: 0.15266428816086094 and parameters: {'max_depth': 14, 'subsample': 0.9357907821662103, 'n_estimators': 1200, 'eta': 3.058372370715306e-05, 'alpha': 9.119037662885004e-05, 'lambda': 2.2530117141886196e-06, 'gamma': 0.00012045413297113979, 'min_child_weight': 6, 'grow_policy': 'lossguide', 'colsample_bytree': 0.9480906356685618}. Best is trial 159 with value: 0.11962052819030741.\u001b[0m\n"
          ]
        },
        {
          "output_type": "stream",
          "name": "stdout",
          "text": [
            "Number of finished trials: 200\n",
            "Best trial parameters: {'max_depth': 12, 'subsample': 0.915611586602131, 'n_estimators': 1200, 'eta': 3.229557396077413e-08, 'alpha': 3.75085691197433e-08, 'lambda': 1.1220293133959129e-05, 'gamma': 8.628162610021033e-05, 'min_child_weight': 3, 'grow_policy': 'lossguide', 'colsample_bytree': 0.9270066219577807}\n",
            "Best score: 0.11962052819030741\n",
            "CPU times: user 2min 33s, sys: 4.39 s, total: 2min 38s\n",
            "Wall time: 2min 37s\n"
          ]
        }
      ]
    },
    {
      "cell_type": "code",
      "source": [
        "from optuna.samplers import CmaEsSampler, RandomSampler\n",
        "\n",
        "# Study with a random sampler\n",
        "study = optuna.create_study(sampler=RandomSampler(seed=42))\n",
        "\n",
        "# Study with a CMA ES sampler\n",
        "study = optuna.create_study(sampler=CmaEsSampler(seed=42))"
      ],
      "metadata": {
        "colab": {
          "base_uri": "https://localhost:8080/"
        },
        "id": "Zt6EgjHwNQL9",
        "outputId": "a2346008-2ec4-4b31-fc44-dcbd2478e892"
      },
      "execution_count": 12,
      "outputs": [
        {
          "output_type": "stream",
          "name": "stderr",
          "text": [
            "\u001b[32m[I 2022-09-07 09:10:33,627]\u001b[0m A new study created in memory with name: no-name-790f949e-9566-48bc-a195-1a44ea882773\u001b[0m\n",
            "\u001b[32m[I 2022-09-07 09:10:33,629]\u001b[0m A new study created in memory with name: no-name-dcd0a037-6c16-4517-bf56-e7087c923dbb\u001b[0m\n"
          ]
        }
      ]
    },
    {
      "cell_type": "code",
      "source": [
        "from optuna.visualization import plot_optimization_history\n",
        "\n",
        "plotly_config = {\"staticPlot\": True}\n",
        "\n",
        "fig = plot_optimization_history(study)\n",
        "fig.show(config=plotly_config)"
      ],
      "metadata": {
        "colab": {
          "base_uri": "https://localhost:8080/",
          "height": 542
        },
        "id": "ZceMc7pPNT27",
        "outputId": "dc1ca993-c35d-4aad-bf90-f9c7f19e0c16"
      },
      "execution_count": 21,
      "outputs": [
        {
          "output_type": "display_data",
          "data": {
            "text/html": [
              "<html>\n",
              "<head><meta charset=\"utf-8\" /></head>\n",
              "<body>\n",
              "    <div>            <script src=\"https://cdnjs.cloudflare.com/ajax/libs/mathjax/2.7.5/MathJax.js?config=TeX-AMS-MML_SVG\"></script><script type=\"text/javascript\">if (window.MathJax) {MathJax.Hub.Config({SVG: {font: \"STIX-Web\"}});}</script>                <script type=\"text/javascript\">window.PlotlyConfig = {MathJaxConfig: 'local'};</script>\n",
              "        <script src=\"https://cdn.plot.ly/plotly-2.8.3.min.js\"></script>                <div id=\"15d20e6c-4c04-445c-9e33-3b04f8f507d8\" class=\"plotly-graph-div\" style=\"height:525px; width:100%;\"></div>            <script type=\"text/javascript\">                                    window.PLOTLYENV=window.PLOTLYENV || {};                                    if (document.getElementById(\"15d20e6c-4c04-445c-9e33-3b04f8f507d8\")) {                    Plotly.newPlot(                        \"15d20e6c-4c04-445c-9e33-3b04f8f507d8\",                        [{\"mode\":\"markers\",\"name\":\"Objective Value\",\"x\":[0,1,2,3,4,5,6,7,8,9,10,11,12,13,14,15,16,17,18,19,20,21,22,23,24,25,26,27,28,29,30,31,32,33,34,35,36,37,38,39,40,41,42,43,44,45,46,47,48,49,50,51,52,53,54,55,56,57,58,59,60,61,62,63,64,65,66,67,68,69,70,71,72,73,74,75,76,77,78,79,80,81,82,83,84,85,86,87,88,89,90,91,92,93,94,95,96,97,98,99,100,101,102,103,104,105,106,107,108,109,110,111,112,113,114,115,116,117,118,119,120,121,122,123,124,125,126,127,128,129,130,131,132,133,134,135,136,137,138,139,140,141,142,143,144,145,146,147,148,149,150,151,152,153,154,155,156,157,158,159,160,161,162,163,164,165,166,167,168,169,170,171,172,173,174,175,176,177,178,179,180,181,182,183,184,185,186,187,188,189,190,191,192,193,194,195,196,197,198,199],\"y\":[0.22810602947650108,0.26848779337325074,0.2122173426734199,0.21235381489350816,0.19710288565177145,0.27059803936255633,0.19600695564047008,0.28465936695171123,0.20250728019918135,0.24363416081376832,0.20211212193592476,0.13464958955940623,0.24280472209007312,0.2667220819007996,0.24637729507628886,0.1810483259539427,0.217658182466764,0.13822842995722093,0.18470297775540556,0.16528981803102874,0.23019486035209402,0.241511560080775,0.14038273296723952,0.22727743004438922,0.20561211011354374,0.17557303032119634,0.2821480491051488,0.21974543966661983,0.22755402874333452,0.2254197058304134,0.19293699370223427,0.23975365882094374,0.201988067763489,0.14549370654226498,0.15848147563326162,0.21716375603557048,0.1639353775028223,0.24132116230697287,0.2221636998714925,0.2834001399725099,0.3288412173428783,0.19521223780764305,0.22184724500350217,0.19842141694960252,0.19722594436158972,0.2545621116542041,0.20182896246403306,0.2605805980297429,0.346906795840284,0.22227059101476088,0.15866332336984373,0.1703377868647328,0.21422772005764656,0.1554373491964233,0.18043968153231016,0.19913169186422805,0.2115191193804665,0.20143683095161574,0.23216479659047284,0.18582749793672487,0.20140499485563912,0.2017093095191829,0.23995220308293805,0.29048989810850817,0.24346829822850302,0.22352123959561448,0.32715830338258156,0.2057300561940881,0.18393251905400534,0.2304504861020615,0.230335202414387,0.20238124772358418,0.18046420201117636,0.24920698807887168,0.16209704297713587,0.27899423801507256,0.21895735062609026,0.24682628446811494,0.19331617825785627,0.20492297291433964,0.13839400971583996,0.18877827189164745,0.1638730115595176,0.12642259752853124,0.18024225993873091,0.13295290211486574,0.15449725365058334,0.20659059623493686,0.20093153152683718,0.22719650734369917,0.21125638599167834,0.21506086720266365,0.20713847717390974,0.14364761769668122,0.20430621852536043,0.21443013622453708,0.20859597599822624,0.2526432493429154,0.17650384033781696,0.24230423160483652,0.20960170881960385,0.3131824087745655,0.1644799559486904,0.18049503097568925,0.17534599268414297,0.265154690271749,0.1767970020592039,0.23246049563549967,0.21712677664970573,0.15316650772390433,0.24453792696445623,0.2092350450481398,0.20242270259355477,0.3149190967929039,0.2010067361998844,0.21374203914883155,0.2458196198567757,0.16623584611441491,0.2091799656326533,0.27595045081508013,0.23493452616287624,0.20326459212958375,0.19451265159665776,0.1252544135831325,0.15953708171881548,0.2673967346556397,0.2727669700932852,0.18185511348852426,0.1598965243995539,0.1686616297933425,0.2058287516673421,0.16273408263618971,0.15526735741767167,0.17342135394671185,0.23769911287851941,0.1880425574853292,0.21115032829076225,0.13695063380603092,0.1718421667742458,0.18834893930351082,0.2118288762562636,0.1893650221852395,0.1983756636543121,0.18299324920485088,0.19865297060363618,0.18914796696364794,0.16687686611881447,0.2341592679692427,0.251702315198909,0.19113463472372114,0.1849480648513826,0.16542983213284895,0.17817597660107376,0.21448940049212809,0.2561982803847256,0.2971165631087162,0.17975429166496398,0.23382946924019413,0.27564014120371805,0.11962052819030741,0.19216563083691002,0.17389321781245642,0.19164114007489905,0.2648111366173023,0.1802891008271669,0.14517110860388893,0.32551109650714344,0.2223793662954598,0.18474398466489406,0.16516504579409044,0.22077101114971912,0.19417810701007382,0.20328513397852452,0.2769131726586504,0.20726692428899787,0.20426763797150363,0.2008250803453282,0.13770293135311273,0.32779203684173647,0.23285595459983074,0.2120116367639092,0.16006365905851327,0.24866967286536704,0.23134926627312496,0.22134492931667,0.19950331573017882,0.21009197067682567,0.16546587241881,0.26468272549337185,0.21390362497487408,0.21624805725102103,0.1535470799984962,0.21880278446231738,0.13311125782093858,0.20162075966489007,0.18135270379157445,0.20130263135651572,0.21756471806808234,0.20857697463280434,0.15266428816086094],\"type\":\"scatter\"},{\"name\":\"Best Value\",\"x\":[0,1,2,3,4,5,6,7,8,9,10,11,12,13,14,15,16,17,18,19,20,21,22,23,24,25,26,27,28,29,30,31,32,33,34,35,36,37,38,39,40,41,42,43,44,45,46,47,48,49,50,51,52,53,54,55,56,57,58,59,60,61,62,63,64,65,66,67,68,69,70,71,72,73,74,75,76,77,78,79,80,81,82,83,84,85,86,87,88,89,90,91,92,93,94,95,96,97,98,99,100,101,102,103,104,105,106,107,108,109,110,111,112,113,114,115,116,117,118,119,120,121,122,123,124,125,126,127,128,129,130,131,132,133,134,135,136,137,138,139,140,141,142,143,144,145,146,147,148,149,150,151,152,153,154,155,156,157,158,159,160,161,162,163,164,165,166,167,168,169,170,171,172,173,174,175,176,177,178,179,180,181,182,183,184,185,186,187,188,189,190,191,192,193,194,195,196,197,198,199],\"y\":[0.22810602947650108,0.22810602947650108,0.2122173426734199,0.2122173426734199,0.19710288565177145,0.19710288565177145,0.19600695564047008,0.19600695564047008,0.19600695564047008,0.19600695564047008,0.19600695564047008,0.13464958955940623,0.13464958955940623,0.13464958955940623,0.13464958955940623,0.13464958955940623,0.13464958955940623,0.13464958955940623,0.13464958955940623,0.13464958955940623,0.13464958955940623,0.13464958955940623,0.13464958955940623,0.13464958955940623,0.13464958955940623,0.13464958955940623,0.13464958955940623,0.13464958955940623,0.13464958955940623,0.13464958955940623,0.13464958955940623,0.13464958955940623,0.13464958955940623,0.13464958955940623,0.13464958955940623,0.13464958955940623,0.13464958955940623,0.13464958955940623,0.13464958955940623,0.13464958955940623,0.13464958955940623,0.13464958955940623,0.13464958955940623,0.13464958955940623,0.13464958955940623,0.13464958955940623,0.13464958955940623,0.13464958955940623,0.13464958955940623,0.13464958955940623,0.13464958955940623,0.13464958955940623,0.13464958955940623,0.13464958955940623,0.13464958955940623,0.13464958955940623,0.13464958955940623,0.13464958955940623,0.13464958955940623,0.13464958955940623,0.13464958955940623,0.13464958955940623,0.13464958955940623,0.13464958955940623,0.13464958955940623,0.13464958955940623,0.13464958955940623,0.13464958955940623,0.13464958955940623,0.13464958955940623,0.13464958955940623,0.13464958955940623,0.13464958955940623,0.13464958955940623,0.13464958955940623,0.13464958955940623,0.13464958955940623,0.13464958955940623,0.13464958955940623,0.13464958955940623,0.13464958955940623,0.13464958955940623,0.13464958955940623,0.12642259752853124,0.12642259752853124,0.12642259752853124,0.12642259752853124,0.12642259752853124,0.12642259752853124,0.12642259752853124,0.12642259752853124,0.12642259752853124,0.12642259752853124,0.12642259752853124,0.12642259752853124,0.12642259752853124,0.12642259752853124,0.12642259752853124,0.12642259752853124,0.12642259752853124,0.12642259752853124,0.12642259752853124,0.12642259752853124,0.12642259752853124,0.12642259752853124,0.12642259752853124,0.12642259752853124,0.12642259752853124,0.12642259752853124,0.12642259752853124,0.12642259752853124,0.12642259752853124,0.12642259752853124,0.12642259752853124,0.12642259752853124,0.12642259752853124,0.12642259752853124,0.12642259752853124,0.12642259752853124,0.12642259752853124,0.12642259752853124,0.12642259752853124,0.12642259752853124,0.1252544135831325,0.1252544135831325,0.1252544135831325,0.1252544135831325,0.1252544135831325,0.1252544135831325,0.1252544135831325,0.1252544135831325,0.1252544135831325,0.1252544135831325,0.1252544135831325,0.1252544135831325,0.1252544135831325,0.1252544135831325,0.1252544135831325,0.1252544135831325,0.1252544135831325,0.1252544135831325,0.1252544135831325,0.1252544135831325,0.1252544135831325,0.1252544135831325,0.1252544135831325,0.1252544135831325,0.1252544135831325,0.1252544135831325,0.1252544135831325,0.1252544135831325,0.1252544135831325,0.1252544135831325,0.1252544135831325,0.1252544135831325,0.1252544135831325,0.1252544135831325,0.1252544135831325,0.1252544135831325,0.11962052819030741,0.11962052819030741,0.11962052819030741,0.11962052819030741,0.11962052819030741,0.11962052819030741,0.11962052819030741,0.11962052819030741,0.11962052819030741,0.11962052819030741,0.11962052819030741,0.11962052819030741,0.11962052819030741,0.11962052819030741,0.11962052819030741,0.11962052819030741,0.11962052819030741,0.11962052819030741,0.11962052819030741,0.11962052819030741,0.11962052819030741,0.11962052819030741,0.11962052819030741,0.11962052819030741,0.11962052819030741,0.11962052819030741,0.11962052819030741,0.11962052819030741,0.11962052819030741,0.11962052819030741,0.11962052819030741,0.11962052819030741,0.11962052819030741,0.11962052819030741,0.11962052819030741,0.11962052819030741,0.11962052819030741,0.11962052819030741,0.11962052819030741,0.11962052819030741,0.11962052819030741],\"type\":\"scatter\"}],                        {\"title\":{\"text\":\"Optimization History Plot\"},\"xaxis\":{\"title\":{\"text\":\"Trial\"}},\"yaxis\":{\"title\":{\"text\":\"Objective Value\"}},\"template\":{\"data\":{\"bar\":[{\"error_x\":{\"color\":\"#2a3f5f\"},\"error_y\":{\"color\":\"#2a3f5f\"},\"marker\":{\"line\":{\"color\":\"#E5ECF6\",\"width\":0.5},\"pattern\":{\"fillmode\":\"overlay\",\"size\":10,\"solidity\":0.2}},\"type\":\"bar\"}],\"barpolar\":[{\"marker\":{\"line\":{\"color\":\"#E5ECF6\",\"width\":0.5},\"pattern\":{\"fillmode\":\"overlay\",\"size\":10,\"solidity\":0.2}},\"type\":\"barpolar\"}],\"carpet\":[{\"aaxis\":{\"endlinecolor\":\"#2a3f5f\",\"gridcolor\":\"white\",\"linecolor\":\"white\",\"minorgridcolor\":\"white\",\"startlinecolor\":\"#2a3f5f\"},\"baxis\":{\"endlinecolor\":\"#2a3f5f\",\"gridcolor\":\"white\",\"linecolor\":\"white\",\"minorgridcolor\":\"white\",\"startlinecolor\":\"#2a3f5f\"},\"type\":\"carpet\"}],\"choropleth\":[{\"colorbar\":{\"outlinewidth\":0,\"ticks\":\"\"},\"type\":\"choropleth\"}],\"contour\":[{\"colorbar\":{\"outlinewidth\":0,\"ticks\":\"\"},\"colorscale\":[[0.0,\"#0d0887\"],[0.1111111111111111,\"#46039f\"],[0.2222222222222222,\"#7201a8\"],[0.3333333333333333,\"#9c179e\"],[0.4444444444444444,\"#bd3786\"],[0.5555555555555556,\"#d8576b\"],[0.6666666666666666,\"#ed7953\"],[0.7777777777777778,\"#fb9f3a\"],[0.8888888888888888,\"#fdca26\"],[1.0,\"#f0f921\"]],\"type\":\"contour\"}],\"contourcarpet\":[{\"colorbar\":{\"outlinewidth\":0,\"ticks\":\"\"},\"type\":\"contourcarpet\"}],\"heatmap\":[{\"colorbar\":{\"outlinewidth\":0,\"ticks\":\"\"},\"colorscale\":[[0.0,\"#0d0887\"],[0.1111111111111111,\"#46039f\"],[0.2222222222222222,\"#7201a8\"],[0.3333333333333333,\"#9c179e\"],[0.4444444444444444,\"#bd3786\"],[0.5555555555555556,\"#d8576b\"],[0.6666666666666666,\"#ed7953\"],[0.7777777777777778,\"#fb9f3a\"],[0.8888888888888888,\"#fdca26\"],[1.0,\"#f0f921\"]],\"type\":\"heatmap\"}],\"heatmapgl\":[{\"colorbar\":{\"outlinewidth\":0,\"ticks\":\"\"},\"colorscale\":[[0.0,\"#0d0887\"],[0.1111111111111111,\"#46039f\"],[0.2222222222222222,\"#7201a8\"],[0.3333333333333333,\"#9c179e\"],[0.4444444444444444,\"#bd3786\"],[0.5555555555555556,\"#d8576b\"],[0.6666666666666666,\"#ed7953\"],[0.7777777777777778,\"#fb9f3a\"],[0.8888888888888888,\"#fdca26\"],[1.0,\"#f0f921\"]],\"type\":\"heatmapgl\"}],\"histogram\":[{\"marker\":{\"pattern\":{\"fillmode\":\"overlay\",\"size\":10,\"solidity\":0.2}},\"type\":\"histogram\"}],\"histogram2d\":[{\"colorbar\":{\"outlinewidth\":0,\"ticks\":\"\"},\"colorscale\":[[0.0,\"#0d0887\"],[0.1111111111111111,\"#46039f\"],[0.2222222222222222,\"#7201a8\"],[0.3333333333333333,\"#9c179e\"],[0.4444444444444444,\"#bd3786\"],[0.5555555555555556,\"#d8576b\"],[0.6666666666666666,\"#ed7953\"],[0.7777777777777778,\"#fb9f3a\"],[0.8888888888888888,\"#fdca26\"],[1.0,\"#f0f921\"]],\"type\":\"histogram2d\"}],\"histogram2dcontour\":[{\"colorbar\":{\"outlinewidth\":0,\"ticks\":\"\"},\"colorscale\":[[0.0,\"#0d0887\"],[0.1111111111111111,\"#46039f\"],[0.2222222222222222,\"#7201a8\"],[0.3333333333333333,\"#9c179e\"],[0.4444444444444444,\"#bd3786\"],[0.5555555555555556,\"#d8576b\"],[0.6666666666666666,\"#ed7953\"],[0.7777777777777778,\"#fb9f3a\"],[0.8888888888888888,\"#fdca26\"],[1.0,\"#f0f921\"]],\"type\":\"histogram2dcontour\"}],\"mesh3d\":[{\"colorbar\":{\"outlinewidth\":0,\"ticks\":\"\"},\"type\":\"mesh3d\"}],\"parcoords\":[{\"line\":{\"colorbar\":{\"outlinewidth\":0,\"ticks\":\"\"}},\"type\":\"parcoords\"}],\"pie\":[{\"automargin\":true,\"type\":\"pie\"}],\"scatter\":[{\"marker\":{\"colorbar\":{\"outlinewidth\":0,\"ticks\":\"\"}},\"type\":\"scatter\"}],\"scatter3d\":[{\"line\":{\"colorbar\":{\"outlinewidth\":0,\"ticks\":\"\"}},\"marker\":{\"colorbar\":{\"outlinewidth\":0,\"ticks\":\"\"}},\"type\":\"scatter3d\"}],\"scattercarpet\":[{\"marker\":{\"colorbar\":{\"outlinewidth\":0,\"ticks\":\"\"}},\"type\":\"scattercarpet\"}],\"scattergeo\":[{\"marker\":{\"colorbar\":{\"outlinewidth\":0,\"ticks\":\"\"}},\"type\":\"scattergeo\"}],\"scattergl\":[{\"marker\":{\"colorbar\":{\"outlinewidth\":0,\"ticks\":\"\"}},\"type\":\"scattergl\"}],\"scattermapbox\":[{\"marker\":{\"colorbar\":{\"outlinewidth\":0,\"ticks\":\"\"}},\"type\":\"scattermapbox\"}],\"scatterpolar\":[{\"marker\":{\"colorbar\":{\"outlinewidth\":0,\"ticks\":\"\"}},\"type\":\"scatterpolar\"}],\"scatterpolargl\":[{\"marker\":{\"colorbar\":{\"outlinewidth\":0,\"ticks\":\"\"}},\"type\":\"scatterpolargl\"}],\"scatterternary\":[{\"marker\":{\"colorbar\":{\"outlinewidth\":0,\"ticks\":\"\"}},\"type\":\"scatterternary\"}],\"surface\":[{\"colorbar\":{\"outlinewidth\":0,\"ticks\":\"\"},\"colorscale\":[[0.0,\"#0d0887\"],[0.1111111111111111,\"#46039f\"],[0.2222222222222222,\"#7201a8\"],[0.3333333333333333,\"#9c179e\"],[0.4444444444444444,\"#bd3786\"],[0.5555555555555556,\"#d8576b\"],[0.6666666666666666,\"#ed7953\"],[0.7777777777777778,\"#fb9f3a\"],[0.8888888888888888,\"#fdca26\"],[1.0,\"#f0f921\"]],\"type\":\"surface\"}],\"table\":[{\"cells\":{\"fill\":{\"color\":\"#EBF0F8\"},\"line\":{\"color\":\"white\"}},\"header\":{\"fill\":{\"color\":\"#C8D4E3\"},\"line\":{\"color\":\"white\"}},\"type\":\"table\"}]},\"layout\":{\"annotationdefaults\":{\"arrowcolor\":\"#2a3f5f\",\"arrowhead\":0,\"arrowwidth\":1},\"autotypenumbers\":\"strict\",\"coloraxis\":{\"colorbar\":{\"outlinewidth\":0,\"ticks\":\"\"}},\"colorscale\":{\"diverging\":[[0,\"#8e0152\"],[0.1,\"#c51b7d\"],[0.2,\"#de77ae\"],[0.3,\"#f1b6da\"],[0.4,\"#fde0ef\"],[0.5,\"#f7f7f7\"],[0.6,\"#e6f5d0\"],[0.7,\"#b8e186\"],[0.8,\"#7fbc41\"],[0.9,\"#4d9221\"],[1,\"#276419\"]],\"sequential\":[[0.0,\"#0d0887\"],[0.1111111111111111,\"#46039f\"],[0.2222222222222222,\"#7201a8\"],[0.3333333333333333,\"#9c179e\"],[0.4444444444444444,\"#bd3786\"],[0.5555555555555556,\"#d8576b\"],[0.6666666666666666,\"#ed7953\"],[0.7777777777777778,\"#fb9f3a\"],[0.8888888888888888,\"#fdca26\"],[1.0,\"#f0f921\"]],\"sequentialminus\":[[0.0,\"#0d0887\"],[0.1111111111111111,\"#46039f\"],[0.2222222222222222,\"#7201a8\"],[0.3333333333333333,\"#9c179e\"],[0.4444444444444444,\"#bd3786\"],[0.5555555555555556,\"#d8576b\"],[0.6666666666666666,\"#ed7953\"],[0.7777777777777778,\"#fb9f3a\"],[0.8888888888888888,\"#fdca26\"],[1.0,\"#f0f921\"]]},\"colorway\":[\"#636efa\",\"#EF553B\",\"#00cc96\",\"#ab63fa\",\"#FFA15A\",\"#19d3f3\",\"#FF6692\",\"#B6E880\",\"#FF97FF\",\"#FECB52\"],\"font\":{\"color\":\"#2a3f5f\"},\"geo\":{\"bgcolor\":\"white\",\"lakecolor\":\"white\",\"landcolor\":\"#E5ECF6\",\"showlakes\":true,\"showland\":true,\"subunitcolor\":\"white\"},\"hoverlabel\":{\"align\":\"left\"},\"hovermode\":\"closest\",\"mapbox\":{\"style\":\"light\"},\"paper_bgcolor\":\"white\",\"plot_bgcolor\":\"#E5ECF6\",\"polar\":{\"angularaxis\":{\"gridcolor\":\"white\",\"linecolor\":\"white\",\"ticks\":\"\"},\"bgcolor\":\"#E5ECF6\",\"radialaxis\":{\"gridcolor\":\"white\",\"linecolor\":\"white\",\"ticks\":\"\"}},\"scene\":{\"xaxis\":{\"backgroundcolor\":\"#E5ECF6\",\"gridcolor\":\"white\",\"gridwidth\":2,\"linecolor\":\"white\",\"showbackground\":true,\"ticks\":\"\",\"zerolinecolor\":\"white\"},\"yaxis\":{\"backgroundcolor\":\"#E5ECF6\",\"gridcolor\":\"white\",\"gridwidth\":2,\"linecolor\":\"white\",\"showbackground\":true,\"ticks\":\"\",\"zerolinecolor\":\"white\"},\"zaxis\":{\"backgroundcolor\":\"#E5ECF6\",\"gridcolor\":\"white\",\"gridwidth\":2,\"linecolor\":\"white\",\"showbackground\":true,\"ticks\":\"\",\"zerolinecolor\":\"white\"}},\"shapedefaults\":{\"line\":{\"color\":\"#2a3f5f\"}},\"ternary\":{\"aaxis\":{\"gridcolor\":\"white\",\"linecolor\":\"white\",\"ticks\":\"\"},\"baxis\":{\"gridcolor\":\"white\",\"linecolor\":\"white\",\"ticks\":\"\"},\"bgcolor\":\"#E5ECF6\",\"caxis\":{\"gridcolor\":\"white\",\"linecolor\":\"white\",\"ticks\":\"\"}},\"title\":{\"x\":0.05},\"xaxis\":{\"automargin\":true,\"gridcolor\":\"white\",\"linecolor\":\"white\",\"ticks\":\"\",\"title\":{\"standoff\":15},\"zerolinecolor\":\"white\",\"zerolinewidth\":2},\"yaxis\":{\"automargin\":true,\"gridcolor\":\"white\",\"linecolor\":\"white\",\"ticks\":\"\",\"title\":{\"standoff\":15},\"zerolinecolor\":\"white\",\"zerolinewidth\":2}}}},                        {\"staticPlot\": true, \"responsive\": true}                    ).then(function(){\n",
              "                            \n",
              "var gd = document.getElementById('15d20e6c-4c04-445c-9e33-3b04f8f507d8');\n",
              "var x = new MutationObserver(function (mutations, observer) {{\n",
              "        var display = window.getComputedStyle(gd).display;\n",
              "        if (!display || display === 'none') {{\n",
              "            console.log([gd, 'removed!']);\n",
              "            Plotly.purge(gd);\n",
              "            observer.disconnect();\n",
              "        }}\n",
              "}});\n",
              "\n",
              "// Listen for the removal of the full notebook cells\n",
              "var notebookContainer = gd.closest('#notebook-container');\n",
              "if (notebookContainer) {{\n",
              "    x.observe(notebookContainer, {childList: true});\n",
              "}}\n",
              "\n",
              "// Listen for the clearing of the current output cell\n",
              "var outputEl = gd.closest('.output');\n",
              "if (outputEl) {{\n",
              "    x.observe(outputEl, {childList: true});\n",
              "}}\n",
              "\n",
              "                        })                };                            </script>        </div>\n",
              "</body>\n",
              "</html>"
            ]
          },
          "metadata": {}
        }
      ]
    },
    {
      "cell_type": "code",
      "source": [
        "from optuna.visualization import plot_param_importances\n",
        "\n",
        "fig = plot_param_importances(study)\n",
        "fig.show(config=plotly_config)"
      ],
      "metadata": {
        "colab": {
          "base_uri": "https://localhost:8080/",
          "height": 542
        },
        "id": "hCUfOzNUNWBs",
        "outputId": "96da8da2-a69c-4245-b87d-0ba301b1baf1"
      },
      "execution_count": 22,
      "outputs": [
        {
          "output_type": "display_data",
          "data": {
            "text/html": [
              "<html>\n",
              "<head><meta charset=\"utf-8\" /></head>\n",
              "<body>\n",
              "    <div>            <script src=\"https://cdnjs.cloudflare.com/ajax/libs/mathjax/2.7.5/MathJax.js?config=TeX-AMS-MML_SVG\"></script><script type=\"text/javascript\">if (window.MathJax) {MathJax.Hub.Config({SVG: {font: \"STIX-Web\"}});}</script>                <script type=\"text/javascript\">window.PlotlyConfig = {MathJaxConfig: 'local'};</script>\n",
              "        <script src=\"https://cdn.plot.ly/plotly-2.8.3.min.js\"></script>                <div id=\"e809b0cd-c1ae-4693-a813-f43a220ce096\" class=\"plotly-graph-div\" style=\"height:525px; width:100%;\"></div>            <script type=\"text/javascript\">                                    window.PLOTLYENV=window.PLOTLYENV || {};                                    if (document.getElementById(\"e809b0cd-c1ae-4693-a813-f43a220ce096\")) {                    Plotly.newPlot(                        \"e809b0cd-c1ae-4693-a813-f43a220ce096\",                        [{\"cliponaxis\":false,\"hovertemplate\":[\"grow_policy (CategoricalDistribution): 0.003316360031323568<extra></extra>\",\"alpha (FloatDistribution): 0.014735345071808986<extra></extra>\",\"lambda (FloatDistribution): 0.03814534191661139<extra></extra>\",\"eta (FloatDistribution): 0.06898646131672807<extra></extra>\",\"min_child_weight (IntDistribution): 0.06936730341428983<extra></extra>\",\"n_estimators (IntDistribution): 0.11689036021046606<extra></extra>\",\"gamma (FloatDistribution): 0.14704244488888674<extra></extra>\",\"colsample_bytree (FloatDistribution): 0.164559769445026<extra></extra>\",\"max_depth (IntDistribution): 0.18806388152513914<extra></extra>\",\"subsample (FloatDistribution): 0.18889273217972036<extra></extra>\"],\"marker\":{\"color\":\"rgb(66,146,198)\"},\"orientation\":\"h\",\"text\":[\"<0.01\",\"0.01\",\"0.04\",\"0.07\",\"0.07\",\"0.12\",\"0.15\",\"0.16\",\"0.19\",\"0.19\"],\"textposition\":\"outside\",\"x\":[0.003316360031323568,0.014735345071808986,0.03814534191661139,0.06898646131672807,0.06936730341428983,0.11689036021046606,0.14704244488888674,0.164559769445026,0.18806388152513914,0.18889273217972036],\"y\":[\"grow_policy\",\"alpha\",\"lambda\",\"eta\",\"min_child_weight\",\"n_estimators\",\"gamma\",\"colsample_bytree\",\"max_depth\",\"subsample\"],\"type\":\"bar\"}],                        {\"showlegend\":false,\"title\":{\"text\":\"Hyperparameter Importances\"},\"xaxis\":{\"title\":{\"text\":\"Importance for Objective Value\"}},\"yaxis\":{\"title\":{\"text\":\"Hyperparameter\"}},\"template\":{\"data\":{\"bar\":[{\"error_x\":{\"color\":\"#2a3f5f\"},\"error_y\":{\"color\":\"#2a3f5f\"},\"marker\":{\"line\":{\"color\":\"#E5ECF6\",\"width\":0.5},\"pattern\":{\"fillmode\":\"overlay\",\"size\":10,\"solidity\":0.2}},\"type\":\"bar\"}],\"barpolar\":[{\"marker\":{\"line\":{\"color\":\"#E5ECF6\",\"width\":0.5},\"pattern\":{\"fillmode\":\"overlay\",\"size\":10,\"solidity\":0.2}},\"type\":\"barpolar\"}],\"carpet\":[{\"aaxis\":{\"endlinecolor\":\"#2a3f5f\",\"gridcolor\":\"white\",\"linecolor\":\"white\",\"minorgridcolor\":\"white\",\"startlinecolor\":\"#2a3f5f\"},\"baxis\":{\"endlinecolor\":\"#2a3f5f\",\"gridcolor\":\"white\",\"linecolor\":\"white\",\"minorgridcolor\":\"white\",\"startlinecolor\":\"#2a3f5f\"},\"type\":\"carpet\"}],\"choropleth\":[{\"colorbar\":{\"outlinewidth\":0,\"ticks\":\"\"},\"type\":\"choropleth\"}],\"contour\":[{\"colorbar\":{\"outlinewidth\":0,\"ticks\":\"\"},\"colorscale\":[[0.0,\"#0d0887\"],[0.1111111111111111,\"#46039f\"],[0.2222222222222222,\"#7201a8\"],[0.3333333333333333,\"#9c179e\"],[0.4444444444444444,\"#bd3786\"],[0.5555555555555556,\"#d8576b\"],[0.6666666666666666,\"#ed7953\"],[0.7777777777777778,\"#fb9f3a\"],[0.8888888888888888,\"#fdca26\"],[1.0,\"#f0f921\"]],\"type\":\"contour\"}],\"contourcarpet\":[{\"colorbar\":{\"outlinewidth\":0,\"ticks\":\"\"},\"type\":\"contourcarpet\"}],\"heatmap\":[{\"colorbar\":{\"outlinewidth\":0,\"ticks\":\"\"},\"colorscale\":[[0.0,\"#0d0887\"],[0.1111111111111111,\"#46039f\"],[0.2222222222222222,\"#7201a8\"],[0.3333333333333333,\"#9c179e\"],[0.4444444444444444,\"#bd3786\"],[0.5555555555555556,\"#d8576b\"],[0.6666666666666666,\"#ed7953\"],[0.7777777777777778,\"#fb9f3a\"],[0.8888888888888888,\"#fdca26\"],[1.0,\"#f0f921\"]],\"type\":\"heatmap\"}],\"heatmapgl\":[{\"colorbar\":{\"outlinewidth\":0,\"ticks\":\"\"},\"colorscale\":[[0.0,\"#0d0887\"],[0.1111111111111111,\"#46039f\"],[0.2222222222222222,\"#7201a8\"],[0.3333333333333333,\"#9c179e\"],[0.4444444444444444,\"#bd3786\"],[0.5555555555555556,\"#d8576b\"],[0.6666666666666666,\"#ed7953\"],[0.7777777777777778,\"#fb9f3a\"],[0.8888888888888888,\"#fdca26\"],[1.0,\"#f0f921\"]],\"type\":\"heatmapgl\"}],\"histogram\":[{\"marker\":{\"pattern\":{\"fillmode\":\"overlay\",\"size\":10,\"solidity\":0.2}},\"type\":\"histogram\"}],\"histogram2d\":[{\"colorbar\":{\"outlinewidth\":0,\"ticks\":\"\"},\"colorscale\":[[0.0,\"#0d0887\"],[0.1111111111111111,\"#46039f\"],[0.2222222222222222,\"#7201a8\"],[0.3333333333333333,\"#9c179e\"],[0.4444444444444444,\"#bd3786\"],[0.5555555555555556,\"#d8576b\"],[0.6666666666666666,\"#ed7953\"],[0.7777777777777778,\"#fb9f3a\"],[0.8888888888888888,\"#fdca26\"],[1.0,\"#f0f921\"]],\"type\":\"histogram2d\"}],\"histogram2dcontour\":[{\"colorbar\":{\"outlinewidth\":0,\"ticks\":\"\"},\"colorscale\":[[0.0,\"#0d0887\"],[0.1111111111111111,\"#46039f\"],[0.2222222222222222,\"#7201a8\"],[0.3333333333333333,\"#9c179e\"],[0.4444444444444444,\"#bd3786\"],[0.5555555555555556,\"#d8576b\"],[0.6666666666666666,\"#ed7953\"],[0.7777777777777778,\"#fb9f3a\"],[0.8888888888888888,\"#fdca26\"],[1.0,\"#f0f921\"]],\"type\":\"histogram2dcontour\"}],\"mesh3d\":[{\"colorbar\":{\"outlinewidth\":0,\"ticks\":\"\"},\"type\":\"mesh3d\"}],\"parcoords\":[{\"line\":{\"colorbar\":{\"outlinewidth\":0,\"ticks\":\"\"}},\"type\":\"parcoords\"}],\"pie\":[{\"automargin\":true,\"type\":\"pie\"}],\"scatter\":[{\"marker\":{\"colorbar\":{\"outlinewidth\":0,\"ticks\":\"\"}},\"type\":\"scatter\"}],\"scatter3d\":[{\"line\":{\"colorbar\":{\"outlinewidth\":0,\"ticks\":\"\"}},\"marker\":{\"colorbar\":{\"outlinewidth\":0,\"ticks\":\"\"}},\"type\":\"scatter3d\"}],\"scattercarpet\":[{\"marker\":{\"colorbar\":{\"outlinewidth\":0,\"ticks\":\"\"}},\"type\":\"scattercarpet\"}],\"scattergeo\":[{\"marker\":{\"colorbar\":{\"outlinewidth\":0,\"ticks\":\"\"}},\"type\":\"scattergeo\"}],\"scattergl\":[{\"marker\":{\"colorbar\":{\"outlinewidth\":0,\"ticks\":\"\"}},\"type\":\"scattergl\"}],\"scattermapbox\":[{\"marker\":{\"colorbar\":{\"outlinewidth\":0,\"ticks\":\"\"}},\"type\":\"scattermapbox\"}],\"scatterpolar\":[{\"marker\":{\"colorbar\":{\"outlinewidth\":0,\"ticks\":\"\"}},\"type\":\"scatterpolar\"}],\"scatterpolargl\":[{\"marker\":{\"colorbar\":{\"outlinewidth\":0,\"ticks\":\"\"}},\"type\":\"scatterpolargl\"}],\"scatterternary\":[{\"marker\":{\"colorbar\":{\"outlinewidth\":0,\"ticks\":\"\"}},\"type\":\"scatterternary\"}],\"surface\":[{\"colorbar\":{\"outlinewidth\":0,\"ticks\":\"\"},\"colorscale\":[[0.0,\"#0d0887\"],[0.1111111111111111,\"#46039f\"],[0.2222222222222222,\"#7201a8\"],[0.3333333333333333,\"#9c179e\"],[0.4444444444444444,\"#bd3786\"],[0.5555555555555556,\"#d8576b\"],[0.6666666666666666,\"#ed7953\"],[0.7777777777777778,\"#fb9f3a\"],[0.8888888888888888,\"#fdca26\"],[1.0,\"#f0f921\"]],\"type\":\"surface\"}],\"table\":[{\"cells\":{\"fill\":{\"color\":\"#EBF0F8\"},\"line\":{\"color\":\"white\"}},\"header\":{\"fill\":{\"color\":\"#C8D4E3\"},\"line\":{\"color\":\"white\"}},\"type\":\"table\"}]},\"layout\":{\"annotationdefaults\":{\"arrowcolor\":\"#2a3f5f\",\"arrowhead\":0,\"arrowwidth\":1},\"autotypenumbers\":\"strict\",\"coloraxis\":{\"colorbar\":{\"outlinewidth\":0,\"ticks\":\"\"}},\"colorscale\":{\"diverging\":[[0,\"#8e0152\"],[0.1,\"#c51b7d\"],[0.2,\"#de77ae\"],[0.3,\"#f1b6da\"],[0.4,\"#fde0ef\"],[0.5,\"#f7f7f7\"],[0.6,\"#e6f5d0\"],[0.7,\"#b8e186\"],[0.8,\"#7fbc41\"],[0.9,\"#4d9221\"],[1,\"#276419\"]],\"sequential\":[[0.0,\"#0d0887\"],[0.1111111111111111,\"#46039f\"],[0.2222222222222222,\"#7201a8\"],[0.3333333333333333,\"#9c179e\"],[0.4444444444444444,\"#bd3786\"],[0.5555555555555556,\"#d8576b\"],[0.6666666666666666,\"#ed7953\"],[0.7777777777777778,\"#fb9f3a\"],[0.8888888888888888,\"#fdca26\"],[1.0,\"#f0f921\"]],\"sequentialminus\":[[0.0,\"#0d0887\"],[0.1111111111111111,\"#46039f\"],[0.2222222222222222,\"#7201a8\"],[0.3333333333333333,\"#9c179e\"],[0.4444444444444444,\"#bd3786\"],[0.5555555555555556,\"#d8576b\"],[0.6666666666666666,\"#ed7953\"],[0.7777777777777778,\"#fb9f3a\"],[0.8888888888888888,\"#fdca26\"],[1.0,\"#f0f921\"]]},\"colorway\":[\"#636efa\",\"#EF553B\",\"#00cc96\",\"#ab63fa\",\"#FFA15A\",\"#19d3f3\",\"#FF6692\",\"#B6E880\",\"#FF97FF\",\"#FECB52\"],\"font\":{\"color\":\"#2a3f5f\"},\"geo\":{\"bgcolor\":\"white\",\"lakecolor\":\"white\",\"landcolor\":\"#E5ECF6\",\"showlakes\":true,\"showland\":true,\"subunitcolor\":\"white\"},\"hoverlabel\":{\"align\":\"left\"},\"hovermode\":\"closest\",\"mapbox\":{\"style\":\"light\"},\"paper_bgcolor\":\"white\",\"plot_bgcolor\":\"#E5ECF6\",\"polar\":{\"angularaxis\":{\"gridcolor\":\"white\",\"linecolor\":\"white\",\"ticks\":\"\"},\"bgcolor\":\"#E5ECF6\",\"radialaxis\":{\"gridcolor\":\"white\",\"linecolor\":\"white\",\"ticks\":\"\"}},\"scene\":{\"xaxis\":{\"backgroundcolor\":\"#E5ECF6\",\"gridcolor\":\"white\",\"gridwidth\":2,\"linecolor\":\"white\",\"showbackground\":true,\"ticks\":\"\",\"zerolinecolor\":\"white\"},\"yaxis\":{\"backgroundcolor\":\"#E5ECF6\",\"gridcolor\":\"white\",\"gridwidth\":2,\"linecolor\":\"white\",\"showbackground\":true,\"ticks\":\"\",\"zerolinecolor\":\"white\"},\"zaxis\":{\"backgroundcolor\":\"#E5ECF6\",\"gridcolor\":\"white\",\"gridwidth\":2,\"linecolor\":\"white\",\"showbackground\":true,\"ticks\":\"\",\"zerolinecolor\":\"white\"}},\"shapedefaults\":{\"line\":{\"color\":\"#2a3f5f\"}},\"ternary\":{\"aaxis\":{\"gridcolor\":\"white\",\"linecolor\":\"white\",\"ticks\":\"\"},\"baxis\":{\"gridcolor\":\"white\",\"linecolor\":\"white\",\"ticks\":\"\"},\"bgcolor\":\"#E5ECF6\",\"caxis\":{\"gridcolor\":\"white\",\"linecolor\":\"white\",\"ticks\":\"\"}},\"title\":{\"x\":0.05},\"xaxis\":{\"automargin\":true,\"gridcolor\":\"white\",\"linecolor\":\"white\",\"ticks\":\"\",\"title\":{\"standoff\":15},\"zerolinecolor\":\"white\",\"zerolinewidth\":2},\"yaxis\":{\"automargin\":true,\"gridcolor\":\"white\",\"linecolor\":\"white\",\"ticks\":\"\",\"title\":{\"standoff\":15},\"zerolinecolor\":\"white\",\"zerolinewidth\":2}}}},                        {\"staticPlot\": true, \"responsive\": true}                    ).then(function(){\n",
              "                            \n",
              "var gd = document.getElementById('e809b0cd-c1ae-4693-a813-f43a220ce096');\n",
              "var x = new MutationObserver(function (mutations, observer) {{\n",
              "        var display = window.getComputedStyle(gd).display;\n",
              "        if (!display || display === 'none') {{\n",
              "            console.log([gd, 'removed!']);\n",
              "            Plotly.purge(gd);\n",
              "            observer.disconnect();\n",
              "        }}\n",
              "}});\n",
              "\n",
              "// Listen for the removal of the full notebook cells\n",
              "var notebookContainer = gd.closest('#notebook-container');\n",
              "if (notebookContainer) {{\n",
              "    x.observe(notebookContainer, {childList: true});\n",
              "}}\n",
              "\n",
              "// Listen for the clearing of the current output cell\n",
              "var outputEl = gd.closest('.output');\n",
              "if (outputEl) {{\n",
              "    x.observe(outputEl, {childList: true});\n",
              "}}\n",
              "\n",
              "                        })                };                            </script>        </div>\n",
              "</body>\n",
              "</html>"
            ]
          },
          "metadata": {}
        }
      ]
    },
    {
      "cell_type": "code",
      "source": [],
      "metadata": {
        "id": "JLzWhg8jNdeY"
      },
      "execution_count": null,
      "outputs": []
    }
  ]
}